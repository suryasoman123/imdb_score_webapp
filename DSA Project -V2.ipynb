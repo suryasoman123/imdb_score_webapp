{
 "cells": [
  {
   "cell_type": "code",
   "execution_count": 1,
   "id": "168a02e1",
   "metadata": {},
   "outputs": [
    {
     "name": "stdout",
     "output_type": "stream",
     "text": [
      "Requirement already satisfied: pandas in c:\\users\\admin\\anaconda3\\envs\\imdb_score\\lib\\site-packages (1.4.3)\n",
      "Requirement already satisfied: python-dateutil>=2.8.1 in c:\\users\\admin\\anaconda3\\envs\\imdb_score\\lib\\site-packages (from pandas) (2.8.2)\n",
      "Requirement already satisfied: numpy>=1.21.0 in c:\\users\\admin\\anaconda3\\envs\\imdb_score\\lib\\site-packages (from pandas) (1.23.1)\n",
      "Requirement already satisfied: pytz>=2020.1 in c:\\users\\admin\\anaconda3\\envs\\imdb_score\\lib\\site-packages (from pandas) (2022.1)\n",
      "Requirement already satisfied: six>=1.5 in c:\\users\\admin\\anaconda3\\envs\\imdb_score\\lib\\site-packages (from python-dateutil>=2.8.1->pandas) (1.16.0)\n",
      "Note: you may need to restart the kernel to use updated packages.\n"
     ]
    }
   ],
   "source": [
    "%pip install pandas"
   ]
  },
  {
   "cell_type": "code",
   "execution_count": 2,
   "id": "0b85cdbd",
   "metadata": {},
   "outputs": [
    {
     "name": "stdout",
     "output_type": "stream",
     "text": [
      "Requirement already satisfied: matplotlib in c:\\users\\admin\\anaconda3\\envs\\imdb_score\\lib\\site-packages (3.5.2)\n",
      "Requirement already satisfied: python-dateutil>=2.7 in c:\\users\\admin\\anaconda3\\envs\\imdb_score\\lib\\site-packages (from matplotlib) (2.8.2)\n",
      "Requirement already satisfied: packaging>=20.0 in c:\\users\\admin\\anaconda3\\envs\\imdb_score\\lib\\site-packages (from matplotlib) (21.3)\n",
      "Requirement already satisfied: pillow>=6.2.0 in c:\\users\\admin\\anaconda3\\envs\\imdb_score\\lib\\site-packages (from matplotlib) (9.2.0)\n",
      "Requirement already satisfied: cycler>=0.10 in c:\\users\\admin\\anaconda3\\envs\\imdb_score\\lib\\site-packages (from matplotlib) (0.11.0)\n",
      "Requirement already satisfied: numpy>=1.17 in c:\\users\\admin\\anaconda3\\envs\\imdb_score\\lib\\site-packages (from matplotlib) (1.23.1)\n",
      "Requirement already satisfied: kiwisolver>=1.0.1 in c:\\users\\admin\\anaconda3\\envs\\imdb_score\\lib\\site-packages (from matplotlib) (1.4.4)\n",
      "Requirement already satisfied: fonttools>=4.22.0 in c:\\users\\admin\\anaconda3\\envs\\imdb_score\\lib\\site-packages (from matplotlib) (4.34.4)\n",
      "Requirement already satisfied: pyparsing>=2.2.1 in c:\\users\\admin\\anaconda3\\envs\\imdb_score\\lib\\site-packages (from matplotlib) (3.0.4)\n",
      "Requirement already satisfied: six>=1.5 in c:\\users\\admin\\anaconda3\\envs\\imdb_score\\lib\\site-packages (from python-dateutil>=2.7->matplotlib) (1.16.0)\n",
      "Note: you may need to restart the kernel to use updated packages.\n"
     ]
    }
   ],
   "source": [
    "%pip install matplotlib"
   ]
  },
  {
   "cell_type": "code",
   "execution_count": 3,
   "id": "c597f756",
   "metadata": {},
   "outputs": [
    {
     "name": "stdout",
     "output_type": "stream",
     "text": [
      "Requirement already satisfied: seaborn in c:\\users\\admin\\anaconda3\\envs\\imdb_score\\lib\\site-packages (0.11.2)\n",
      "Requirement already satisfied: scipy>=1.0 in c:\\users\\admin\\anaconda3\\envs\\imdb_score\\lib\\site-packages (from seaborn) (1.8.1)\n",
      "Requirement already satisfied: matplotlib>=2.2 in c:\\users\\admin\\anaconda3\\envs\\imdb_score\\lib\\site-packages (from seaborn) (3.5.2)\n",
      "Requirement already satisfied: pandas>=0.23 in c:\\users\\admin\\anaconda3\\envs\\imdb_score\\lib\\site-packages (from seaborn) (1.4.3)\n",
      "Requirement already satisfied: numpy>=1.15 in c:\\users\\admin\\anaconda3\\envs\\imdb_score\\lib\\site-packages (from seaborn) (1.23.1)\n",
      "Requirement already satisfied: cycler>=0.10 in c:\\users\\admin\\anaconda3\\envs\\imdb_score\\lib\\site-packages (from matplotlib>=2.2->seaborn) (0.11.0)\n",
      "Requirement already satisfied: python-dateutil>=2.7 in c:\\users\\admin\\anaconda3\\envs\\imdb_score\\lib\\site-packages (from matplotlib>=2.2->seaborn) (2.8.2)\n",
      "Requirement already satisfied: packaging>=20.0 in c:\\users\\admin\\anaconda3\\envs\\imdb_score\\lib\\site-packages (from matplotlib>=2.2->seaborn) (21.3)\n",
      "Requirement already satisfied: kiwisolver>=1.0.1 in c:\\users\\admin\\anaconda3\\envs\\imdb_score\\lib\\site-packages (from matplotlib>=2.2->seaborn) (1.4.4)\n",
      "Requirement already satisfied: pillow>=6.2.0 in c:\\users\\admin\\anaconda3\\envs\\imdb_score\\lib\\site-packages (from matplotlib>=2.2->seaborn) (9.2.0)\n",
      "Note: you may need to restart the kernel to use updated packages.Requirement already satisfied: pyparsing>=2.2.1 in c:\\users\\admin\\anaconda3\\envs\\imdb_score\\lib\\site-packages (from matplotlib>=2.2->seaborn) (3.0.4)\n",
      "Requirement already satisfied: fonttools>=4.22.0 in c:\\users\\admin\\anaconda3\\envs\\imdb_score\\lib\\site-packages (from matplotlib>=2.2->seaborn) (4.34.4)\n",
      "Requirement already satisfied: pytz>=2020.1 in c:\\users\\admin\\anaconda3\\envs\\imdb_score\\lib\\site-packages (from pandas>=0.23->seaborn) (2022.1)\n",
      "Requirement already satisfied: six>=1.5 in c:\\users\\admin\\anaconda3\\envs\\imdb_score\\lib\\site-packages (from python-dateutil>=2.7->matplotlib>=2.2->seaborn) (1.16.0)\n",
      "\n"
     ]
    }
   ],
   "source": [
    "%pip install seaborn"
   ]
  },
  {
   "cell_type": "code",
   "execution_count": 4,
   "id": "d06d231c",
   "metadata": {},
   "outputs": [],
   "source": [
    "import pandas as pd\n",
    "import numpy as np\n",
    "import matplotlib.pyplot as plt\n",
    "import seaborn as sns\n",
    "import warnings\n",
    "warnings.filterwarnings('ignore')"
   ]
  },
  {
   "cell_type": "code",
   "execution_count": 5,
   "id": "0e910c7f",
   "metadata": {},
   "outputs": [
    {
     "data": {
      "text/html": [
       "<div>\n",
       "<style scoped>\n",
       "    .dataframe tbody tr th:only-of-type {\n",
       "        vertical-align: middle;\n",
       "    }\n",
       "\n",
       "    .dataframe tbody tr th {\n",
       "        vertical-align: top;\n",
       "    }\n",
       "\n",
       "    .dataframe thead th {\n",
       "        text-align: right;\n",
       "    }\n",
       "</style>\n",
       "<table border=\"1\" class=\"dataframe\">\n",
       "  <thead>\n",
       "    <tr style=\"text-align: right;\">\n",
       "      <th></th>\n",
       "      <th>color</th>\n",
       "      <th>director_name</th>\n",
       "      <th>num_critic_for_reviews</th>\n",
       "      <th>duration</th>\n",
       "      <th>director_facebook_likes</th>\n",
       "      <th>actor_3_facebook_likes</th>\n",
       "      <th>actor_2_name</th>\n",
       "      <th>actor_1_facebook_likes</th>\n",
       "      <th>gross</th>\n",
       "      <th>genres</th>\n",
       "      <th>...</th>\n",
       "      <th>num_user_for_reviews</th>\n",
       "      <th>language</th>\n",
       "      <th>country</th>\n",
       "      <th>content_rating</th>\n",
       "      <th>budget</th>\n",
       "      <th>title_year</th>\n",
       "      <th>actor_2_facebook_likes</th>\n",
       "      <th>imdb_score</th>\n",
       "      <th>aspect_ratio</th>\n",
       "      <th>movie_facebook_likes</th>\n",
       "    </tr>\n",
       "  </thead>\n",
       "  <tbody>\n",
       "    <tr>\n",
       "      <th>0</th>\n",
       "      <td>Color</td>\n",
       "      <td>James Cameron</td>\n",
       "      <td>723.0</td>\n",
       "      <td>178.0</td>\n",
       "      <td>0.0</td>\n",
       "      <td>855.0</td>\n",
       "      <td>Joel David Moore</td>\n",
       "      <td>1000.0</td>\n",
       "      <td>760505847.0</td>\n",
       "      <td>Action|Adventure|Fantasy|Sci-Fi</td>\n",
       "      <td>...</td>\n",
       "      <td>3054.0</td>\n",
       "      <td>English</td>\n",
       "      <td>USA</td>\n",
       "      <td>PG-13</td>\n",
       "      <td>237000000.0</td>\n",
       "      <td>2009.0</td>\n",
       "      <td>936.0</td>\n",
       "      <td>7.9</td>\n",
       "      <td>1.78</td>\n",
       "      <td>33000</td>\n",
       "    </tr>\n",
       "    <tr>\n",
       "      <th>1</th>\n",
       "      <td>Color</td>\n",
       "      <td>Gore Verbinski</td>\n",
       "      <td>302.0</td>\n",
       "      <td>169.0</td>\n",
       "      <td>563.0</td>\n",
       "      <td>1000.0</td>\n",
       "      <td>Orlando Bloom</td>\n",
       "      <td>40000.0</td>\n",
       "      <td>309404152.0</td>\n",
       "      <td>Action|Adventure|Fantasy</td>\n",
       "      <td>...</td>\n",
       "      <td>1238.0</td>\n",
       "      <td>English</td>\n",
       "      <td>USA</td>\n",
       "      <td>PG-13</td>\n",
       "      <td>300000000.0</td>\n",
       "      <td>2007.0</td>\n",
       "      <td>5000.0</td>\n",
       "      <td>7.1</td>\n",
       "      <td>2.35</td>\n",
       "      <td>0</td>\n",
       "    </tr>\n",
       "    <tr>\n",
       "      <th>2</th>\n",
       "      <td>Color</td>\n",
       "      <td>Sam Mendes</td>\n",
       "      <td>602.0</td>\n",
       "      <td>148.0</td>\n",
       "      <td>0.0</td>\n",
       "      <td>161.0</td>\n",
       "      <td>Rory Kinnear</td>\n",
       "      <td>11000.0</td>\n",
       "      <td>200074175.0</td>\n",
       "      <td>Action|Adventure|Thriller</td>\n",
       "      <td>...</td>\n",
       "      <td>994.0</td>\n",
       "      <td>English</td>\n",
       "      <td>UK</td>\n",
       "      <td>PG-13</td>\n",
       "      <td>245000000.0</td>\n",
       "      <td>2015.0</td>\n",
       "      <td>393.0</td>\n",
       "      <td>6.8</td>\n",
       "      <td>2.35</td>\n",
       "      <td>85000</td>\n",
       "    </tr>\n",
       "    <tr>\n",
       "      <th>3</th>\n",
       "      <td>Color</td>\n",
       "      <td>Christopher Nolan</td>\n",
       "      <td>813.0</td>\n",
       "      <td>164.0</td>\n",
       "      <td>22000.0</td>\n",
       "      <td>23000.0</td>\n",
       "      <td>Christian Bale</td>\n",
       "      <td>27000.0</td>\n",
       "      <td>448130642.0</td>\n",
       "      <td>Action|Thriller</td>\n",
       "      <td>...</td>\n",
       "      <td>2701.0</td>\n",
       "      <td>English</td>\n",
       "      <td>USA</td>\n",
       "      <td>PG-13</td>\n",
       "      <td>250000000.0</td>\n",
       "      <td>2012.0</td>\n",
       "      <td>23000.0</td>\n",
       "      <td>8.5</td>\n",
       "      <td>2.35</td>\n",
       "      <td>164000</td>\n",
       "    </tr>\n",
       "    <tr>\n",
       "      <th>4</th>\n",
       "      <td>NaN</td>\n",
       "      <td>Doug Walker</td>\n",
       "      <td>NaN</td>\n",
       "      <td>NaN</td>\n",
       "      <td>131.0</td>\n",
       "      <td>NaN</td>\n",
       "      <td>Rob Walker</td>\n",
       "      <td>131.0</td>\n",
       "      <td>NaN</td>\n",
       "      <td>Documentary</td>\n",
       "      <td>...</td>\n",
       "      <td>NaN</td>\n",
       "      <td>NaN</td>\n",
       "      <td>NaN</td>\n",
       "      <td>NaN</td>\n",
       "      <td>NaN</td>\n",
       "      <td>NaN</td>\n",
       "      <td>12.0</td>\n",
       "      <td>7.1</td>\n",
       "      <td>NaN</td>\n",
       "      <td>0</td>\n",
       "    </tr>\n",
       "  </tbody>\n",
       "</table>\n",
       "<p>5 rows × 28 columns</p>\n",
       "</div>"
      ],
      "text/plain": [
       "   color      director_name  num_critic_for_reviews  duration  \\\n",
       "0  Color      James Cameron                   723.0     178.0   \n",
       "1  Color     Gore Verbinski                   302.0     169.0   \n",
       "2  Color         Sam Mendes                   602.0     148.0   \n",
       "3  Color  Christopher Nolan                   813.0     164.0   \n",
       "4    NaN        Doug Walker                     NaN       NaN   \n",
       "\n",
       "   director_facebook_likes  actor_3_facebook_likes      actor_2_name  \\\n",
       "0                      0.0                   855.0  Joel David Moore   \n",
       "1                    563.0                  1000.0     Orlando Bloom   \n",
       "2                      0.0                   161.0      Rory Kinnear   \n",
       "3                  22000.0                 23000.0    Christian Bale   \n",
       "4                    131.0                     NaN        Rob Walker   \n",
       "\n",
       "   actor_1_facebook_likes        gross                           genres  ...  \\\n",
       "0                  1000.0  760505847.0  Action|Adventure|Fantasy|Sci-Fi  ...   \n",
       "1                 40000.0  309404152.0         Action|Adventure|Fantasy  ...   \n",
       "2                 11000.0  200074175.0        Action|Adventure|Thriller  ...   \n",
       "3                 27000.0  448130642.0                  Action|Thriller  ...   \n",
       "4                   131.0          NaN                      Documentary  ...   \n",
       "\n",
       "  num_user_for_reviews language  country  content_rating       budget  \\\n",
       "0               3054.0  English      USA           PG-13  237000000.0   \n",
       "1               1238.0  English      USA           PG-13  300000000.0   \n",
       "2                994.0  English       UK           PG-13  245000000.0   \n",
       "3               2701.0  English      USA           PG-13  250000000.0   \n",
       "4                  NaN      NaN      NaN             NaN          NaN   \n",
       "\n",
       "   title_year actor_2_facebook_likes imdb_score  aspect_ratio  \\\n",
       "0      2009.0                  936.0        7.9          1.78   \n",
       "1      2007.0                 5000.0        7.1          2.35   \n",
       "2      2015.0                  393.0        6.8          2.35   \n",
       "3      2012.0                23000.0        8.5          2.35   \n",
       "4         NaN                   12.0        7.1           NaN   \n",
       "\n",
       "  movie_facebook_likes  \n",
       "0                33000  \n",
       "1                    0  \n",
       "2                85000  \n",
       "3               164000  \n",
       "4                    0  \n",
       "\n",
       "[5 rows x 28 columns]"
      ]
     },
     "execution_count": 5,
     "metadata": {},
     "output_type": "execute_result"
    }
   ],
   "source": [
    "df=pd.read_csv('movie_metadata.csv')\n",
    "df.head()"
   ]
  },
  {
   "cell_type": "code",
   "execution_count": 6,
   "id": "970c6e6a",
   "metadata": {},
   "outputs": [
    {
     "name": "stdout",
     "output_type": "stream",
     "text": [
      "<class 'pandas.core.frame.DataFrame'>\n",
      "RangeIndex: 5043 entries, 0 to 5042\n",
      "Data columns (total 28 columns):\n",
      " #   Column                     Non-Null Count  Dtype  \n",
      "---  ------                     --------------  -----  \n",
      " 0   color                      5024 non-null   object \n",
      " 1   director_name              4939 non-null   object \n",
      " 2   num_critic_for_reviews     4993 non-null   float64\n",
      " 3   duration                   5028 non-null   float64\n",
      " 4   director_facebook_likes    4939 non-null   float64\n",
      " 5   actor_3_facebook_likes     5020 non-null   float64\n",
      " 6   actor_2_name               5030 non-null   object \n",
      " 7   actor_1_facebook_likes     5036 non-null   float64\n",
      " 8   gross                      4159 non-null   float64\n",
      " 9   genres                     5043 non-null   object \n",
      " 10  actor_1_name               5036 non-null   object \n",
      " 11  movie_title                5043 non-null   object \n",
      " 12  num_voted_users            5043 non-null   int64  \n",
      " 13  cast_total_facebook_likes  5043 non-null   int64  \n",
      " 14  actor_3_name               5020 non-null   object \n",
      " 15  facenumber_in_poster       5030 non-null   float64\n",
      " 16  plot_keywords              4890 non-null   object \n",
      " 17  movie_imdb_link            5043 non-null   object \n",
      " 18  num_user_for_reviews       5022 non-null   float64\n",
      " 19  language                   5031 non-null   object \n",
      " 20  country                    5038 non-null   object \n",
      " 21  content_rating             4740 non-null   object \n",
      " 22  budget                     4551 non-null   float64\n",
      " 23  title_year                 4935 non-null   float64\n",
      " 24  actor_2_facebook_likes     5030 non-null   float64\n",
      " 25  imdb_score                 5043 non-null   float64\n",
      " 26  aspect_ratio               4714 non-null   float64\n",
      " 27  movie_facebook_likes       5043 non-null   int64  \n",
      "dtypes: float64(13), int64(3), object(12)\n",
      "memory usage: 1.1+ MB\n"
     ]
    }
   ],
   "source": [
    "df.info()"
   ]
  },
  {
   "cell_type": "code",
   "execution_count": 7,
   "id": "53907d76",
   "metadata": {},
   "outputs": [
    {
     "data": {
      "text/html": [
       "<div>\n",
       "<style scoped>\n",
       "    .dataframe tbody tr th:only-of-type {\n",
       "        vertical-align: middle;\n",
       "    }\n",
       "\n",
       "    .dataframe tbody tr th {\n",
       "        vertical-align: top;\n",
       "    }\n",
       "\n",
       "    .dataframe thead th {\n",
       "        text-align: right;\n",
       "    }\n",
       "</style>\n",
       "<table border=\"1\" class=\"dataframe\">\n",
       "  <thead>\n",
       "    <tr style=\"text-align: right;\">\n",
       "      <th></th>\n",
       "      <th>count</th>\n",
       "      <th>mean</th>\n",
       "      <th>std</th>\n",
       "      <th>min</th>\n",
       "      <th>25%</th>\n",
       "      <th>50%</th>\n",
       "      <th>75%</th>\n",
       "      <th>max</th>\n",
       "    </tr>\n",
       "  </thead>\n",
       "  <tbody>\n",
       "    <tr>\n",
       "      <th>num_critic_for_reviews</th>\n",
       "      <td>4993.0</td>\n",
       "      <td>1.401943e+02</td>\n",
       "      <td>1.216017e+02</td>\n",
       "      <td>1.00</td>\n",
       "      <td>50.00</td>\n",
       "      <td>110.00</td>\n",
       "      <td>195.00</td>\n",
       "      <td>8.130000e+02</td>\n",
       "    </tr>\n",
       "    <tr>\n",
       "      <th>duration</th>\n",
       "      <td>5028.0</td>\n",
       "      <td>1.072011e+02</td>\n",
       "      <td>2.519744e+01</td>\n",
       "      <td>7.00</td>\n",
       "      <td>93.00</td>\n",
       "      <td>103.00</td>\n",
       "      <td>118.00</td>\n",
       "      <td>5.110000e+02</td>\n",
       "    </tr>\n",
       "    <tr>\n",
       "      <th>director_facebook_likes</th>\n",
       "      <td>4939.0</td>\n",
       "      <td>6.865092e+02</td>\n",
       "      <td>2.813329e+03</td>\n",
       "      <td>0.00</td>\n",
       "      <td>7.00</td>\n",
       "      <td>49.00</td>\n",
       "      <td>194.50</td>\n",
       "      <td>2.300000e+04</td>\n",
       "    </tr>\n",
       "    <tr>\n",
       "      <th>actor_3_facebook_likes</th>\n",
       "      <td>5020.0</td>\n",
       "      <td>6.450098e+02</td>\n",
       "      <td>1.665042e+03</td>\n",
       "      <td>0.00</td>\n",
       "      <td>133.00</td>\n",
       "      <td>371.50</td>\n",
       "      <td>636.00</td>\n",
       "      <td>2.300000e+04</td>\n",
       "    </tr>\n",
       "    <tr>\n",
       "      <th>actor_1_facebook_likes</th>\n",
       "      <td>5036.0</td>\n",
       "      <td>6.560047e+03</td>\n",
       "      <td>1.502076e+04</td>\n",
       "      <td>0.00</td>\n",
       "      <td>614.00</td>\n",
       "      <td>988.00</td>\n",
       "      <td>11000.00</td>\n",
       "      <td>6.400000e+05</td>\n",
       "    </tr>\n",
       "    <tr>\n",
       "      <th>gross</th>\n",
       "      <td>4159.0</td>\n",
       "      <td>4.846841e+07</td>\n",
       "      <td>6.845299e+07</td>\n",
       "      <td>162.00</td>\n",
       "      <td>5340987.50</td>\n",
       "      <td>25517500.00</td>\n",
       "      <td>62309437.50</td>\n",
       "      <td>7.605058e+08</td>\n",
       "    </tr>\n",
       "    <tr>\n",
       "      <th>num_voted_users</th>\n",
       "      <td>5043.0</td>\n",
       "      <td>8.366816e+04</td>\n",
       "      <td>1.384853e+05</td>\n",
       "      <td>5.00</td>\n",
       "      <td>8593.50</td>\n",
       "      <td>34359.00</td>\n",
       "      <td>96309.00</td>\n",
       "      <td>1.689764e+06</td>\n",
       "    </tr>\n",
       "    <tr>\n",
       "      <th>cast_total_facebook_likes</th>\n",
       "      <td>5043.0</td>\n",
       "      <td>9.699064e+03</td>\n",
       "      <td>1.816380e+04</td>\n",
       "      <td>0.00</td>\n",
       "      <td>1411.00</td>\n",
       "      <td>3090.00</td>\n",
       "      <td>13756.50</td>\n",
       "      <td>6.567300e+05</td>\n",
       "    </tr>\n",
       "    <tr>\n",
       "      <th>facenumber_in_poster</th>\n",
       "      <td>5030.0</td>\n",
       "      <td>1.371173e+00</td>\n",
       "      <td>2.013576e+00</td>\n",
       "      <td>0.00</td>\n",
       "      <td>0.00</td>\n",
       "      <td>1.00</td>\n",
       "      <td>2.00</td>\n",
       "      <td>4.300000e+01</td>\n",
       "    </tr>\n",
       "    <tr>\n",
       "      <th>num_user_for_reviews</th>\n",
       "      <td>5022.0</td>\n",
       "      <td>2.727708e+02</td>\n",
       "      <td>3.779829e+02</td>\n",
       "      <td>1.00</td>\n",
       "      <td>65.00</td>\n",
       "      <td>156.00</td>\n",
       "      <td>326.00</td>\n",
       "      <td>5.060000e+03</td>\n",
       "    </tr>\n",
       "    <tr>\n",
       "      <th>budget</th>\n",
       "      <td>4551.0</td>\n",
       "      <td>3.975262e+07</td>\n",
       "      <td>2.061149e+08</td>\n",
       "      <td>218.00</td>\n",
       "      <td>6000000.00</td>\n",
       "      <td>20000000.00</td>\n",
       "      <td>45000000.00</td>\n",
       "      <td>1.221550e+10</td>\n",
       "    </tr>\n",
       "    <tr>\n",
       "      <th>title_year</th>\n",
       "      <td>4935.0</td>\n",
       "      <td>2.002471e+03</td>\n",
       "      <td>1.247460e+01</td>\n",
       "      <td>1916.00</td>\n",
       "      <td>1999.00</td>\n",
       "      <td>2005.00</td>\n",
       "      <td>2011.00</td>\n",
       "      <td>2.016000e+03</td>\n",
       "    </tr>\n",
       "    <tr>\n",
       "      <th>actor_2_facebook_likes</th>\n",
       "      <td>5030.0</td>\n",
       "      <td>1.651754e+03</td>\n",
       "      <td>4.042439e+03</td>\n",
       "      <td>0.00</td>\n",
       "      <td>281.00</td>\n",
       "      <td>595.00</td>\n",
       "      <td>918.00</td>\n",
       "      <td>1.370000e+05</td>\n",
       "    </tr>\n",
       "    <tr>\n",
       "      <th>imdb_score</th>\n",
       "      <td>5043.0</td>\n",
       "      <td>6.442138e+00</td>\n",
       "      <td>1.125116e+00</td>\n",
       "      <td>1.60</td>\n",
       "      <td>5.80</td>\n",
       "      <td>6.60</td>\n",
       "      <td>7.20</td>\n",
       "      <td>9.500000e+00</td>\n",
       "    </tr>\n",
       "    <tr>\n",
       "      <th>aspect_ratio</th>\n",
       "      <td>4714.0</td>\n",
       "      <td>2.220403e+00</td>\n",
       "      <td>1.385113e+00</td>\n",
       "      <td>1.18</td>\n",
       "      <td>1.85</td>\n",
       "      <td>2.35</td>\n",
       "      <td>2.35</td>\n",
       "      <td>1.600000e+01</td>\n",
       "    </tr>\n",
       "    <tr>\n",
       "      <th>movie_facebook_likes</th>\n",
       "      <td>5043.0</td>\n",
       "      <td>7.525965e+03</td>\n",
       "      <td>1.932045e+04</td>\n",
       "      <td>0.00</td>\n",
       "      <td>0.00</td>\n",
       "      <td>166.00</td>\n",
       "      <td>3000.00</td>\n",
       "      <td>3.490000e+05</td>\n",
       "    </tr>\n",
       "  </tbody>\n",
       "</table>\n",
       "</div>"
      ],
      "text/plain": [
       "                            count          mean           std      min  \\\n",
       "num_critic_for_reviews     4993.0  1.401943e+02  1.216017e+02     1.00   \n",
       "duration                   5028.0  1.072011e+02  2.519744e+01     7.00   \n",
       "director_facebook_likes    4939.0  6.865092e+02  2.813329e+03     0.00   \n",
       "actor_3_facebook_likes     5020.0  6.450098e+02  1.665042e+03     0.00   \n",
       "actor_1_facebook_likes     5036.0  6.560047e+03  1.502076e+04     0.00   \n",
       "gross                      4159.0  4.846841e+07  6.845299e+07   162.00   \n",
       "num_voted_users            5043.0  8.366816e+04  1.384853e+05     5.00   \n",
       "cast_total_facebook_likes  5043.0  9.699064e+03  1.816380e+04     0.00   \n",
       "facenumber_in_poster       5030.0  1.371173e+00  2.013576e+00     0.00   \n",
       "num_user_for_reviews       5022.0  2.727708e+02  3.779829e+02     1.00   \n",
       "budget                     4551.0  3.975262e+07  2.061149e+08   218.00   \n",
       "title_year                 4935.0  2.002471e+03  1.247460e+01  1916.00   \n",
       "actor_2_facebook_likes     5030.0  1.651754e+03  4.042439e+03     0.00   \n",
       "imdb_score                 5043.0  6.442138e+00  1.125116e+00     1.60   \n",
       "aspect_ratio               4714.0  2.220403e+00  1.385113e+00     1.18   \n",
       "movie_facebook_likes       5043.0  7.525965e+03  1.932045e+04     0.00   \n",
       "\n",
       "                                  25%          50%          75%           max  \n",
       "num_critic_for_reviews          50.00       110.00       195.00  8.130000e+02  \n",
       "duration                        93.00       103.00       118.00  5.110000e+02  \n",
       "director_facebook_likes          7.00        49.00       194.50  2.300000e+04  \n",
       "actor_3_facebook_likes         133.00       371.50       636.00  2.300000e+04  \n",
       "actor_1_facebook_likes         614.00       988.00     11000.00  6.400000e+05  \n",
       "gross                      5340987.50  25517500.00  62309437.50  7.605058e+08  \n",
       "num_voted_users               8593.50     34359.00     96309.00  1.689764e+06  \n",
       "cast_total_facebook_likes     1411.00      3090.00     13756.50  6.567300e+05  \n",
       "facenumber_in_poster             0.00         1.00         2.00  4.300000e+01  \n",
       "num_user_for_reviews            65.00       156.00       326.00  5.060000e+03  \n",
       "budget                     6000000.00  20000000.00  45000000.00  1.221550e+10  \n",
       "title_year                    1999.00      2005.00      2011.00  2.016000e+03  \n",
       "actor_2_facebook_likes         281.00       595.00       918.00  1.370000e+05  \n",
       "imdb_score                       5.80         6.60         7.20  9.500000e+00  \n",
       "aspect_ratio                     1.85         2.35         2.35  1.600000e+01  \n",
       "movie_facebook_likes             0.00       166.00      3000.00  3.490000e+05  "
      ]
     },
     "execution_count": 7,
     "metadata": {},
     "output_type": "execute_result"
    }
   ],
   "source": [
    "#Summary for the numerical columns in the dataset\n",
    "df.describe().T"
   ]
  },
  {
   "cell_type": "code",
   "execution_count": 8,
   "id": "4a5a963f",
   "metadata": {},
   "outputs": [
    {
     "data": {
      "text/plain": [
       "color                         19\n",
       "director_name                104\n",
       "num_critic_for_reviews        50\n",
       "duration                      15\n",
       "director_facebook_likes      104\n",
       "actor_3_facebook_likes        23\n",
       "actor_2_name                  13\n",
       "actor_1_facebook_likes         7\n",
       "gross                        884\n",
       "genres                         0\n",
       "actor_1_name                   7\n",
       "movie_title                    0\n",
       "num_voted_users                0\n",
       "cast_total_facebook_likes      0\n",
       "actor_3_name                  23\n",
       "facenumber_in_poster          13\n",
       "plot_keywords                153\n",
       "movie_imdb_link                0\n",
       "num_user_for_reviews          21\n",
       "language                      12\n",
       "country                        5\n",
       "content_rating               303\n",
       "budget                       492\n",
       "title_year                   108\n",
       "actor_2_facebook_likes        13\n",
       "imdb_score                     0\n",
       "aspect_ratio                 329\n",
       "movie_facebook_likes           0\n",
       "dtype: int64"
      ]
     },
     "execution_count": 8,
     "metadata": {},
     "output_type": "execute_result"
    }
   ],
   "source": [
    "df.isnull().sum()"
   ]
  },
  {
   "cell_type": "code",
   "execution_count": 9,
   "id": "f3885591",
   "metadata": {},
   "outputs": [
    {
     "data": {
      "text/plain": [
       "(4998, 28)"
      ]
     },
     "execution_count": 9,
     "metadata": {},
     "output_type": "execute_result"
    }
   ],
   "source": [
    "df.drop_duplicates(inplace = True)\n",
    "df.shape"
   ]
  },
  {
   "cell_type": "code",
   "execution_count": 10,
   "id": "619f2afe",
   "metadata": {},
   "outputs": [],
   "source": [
    "# We can remove the null values from the dataset where the count is less . so that we don't loose much data \n",
    "df.dropna(axis=0,subset=['director_name', 'num_critic_for_reviews','duration','director_facebook_likes','actor_2_name','actor_1_name','actor_3_name','facenumber_in_poster','num_user_for_reviews','language','country','plot_keywords'],inplace=True)"
   ]
  },
  {
   "cell_type": "code",
   "execution_count": 11,
   "id": "98eb150b",
   "metadata": {},
   "outputs": [
    {
     "data": {
      "text/plain": [
       "(4695, 28)"
      ]
     },
     "execution_count": 11,
     "metadata": {},
     "output_type": "execute_result"
    }
   ],
   "source": [
    "df.shape"
   ]
  },
  {
   "cell_type": "code",
   "execution_count": 12,
   "id": "f10534fc",
   "metadata": {},
   "outputs": [
    {
     "name": "stdout",
     "output_type": "stream",
     "text": [
      "<class 'pandas.core.frame.DataFrame'>\n",
      "Int64Index: 4695 entries, 0 to 5042\n",
      "Data columns (total 28 columns):\n",
      " #   Column                     Non-Null Count  Dtype  \n",
      "---  ------                     --------------  -----  \n",
      " 0   color                      4687 non-null   object \n",
      " 1   director_name              4695 non-null   object \n",
      " 2   num_critic_for_reviews     4695 non-null   float64\n",
      " 3   duration                   4695 non-null   float64\n",
      " 4   director_facebook_likes    4695 non-null   float64\n",
      " 5   actor_3_facebook_likes     4695 non-null   float64\n",
      " 6   actor_2_name               4695 non-null   object \n",
      " 7   actor_1_facebook_likes     4695 non-null   float64\n",
      " 8   gross                      4058 non-null   float64\n",
      " 9   genres                     4695 non-null   object \n",
      " 10  actor_1_name               4695 non-null   object \n",
      " 11  movie_title                4695 non-null   object \n",
      " 12  num_voted_users            4695 non-null   int64  \n",
      " 13  cast_total_facebook_likes  4695 non-null   int64  \n",
      " 14  actor_3_name               4695 non-null   object \n",
      " 15  facenumber_in_poster       4695 non-null   float64\n",
      " 16  plot_keywords              4695 non-null   object \n",
      " 17  movie_imdb_link            4695 non-null   object \n",
      " 18  num_user_for_reviews       4695 non-null   float64\n",
      " 19  language                   4695 non-null   object \n",
      " 20  country                    4695 non-null   object \n",
      " 21  content_rating             4528 non-null   object \n",
      " 22  budget                     4346 non-null   float64\n",
      " 23  title_year                 4695 non-null   float64\n",
      " 24  actor_2_facebook_likes     4695 non-null   float64\n",
      " 25  imdb_score                 4695 non-null   float64\n",
      " 26  aspect_ratio               4488 non-null   float64\n",
      " 27  movie_facebook_likes       4695 non-null   int64  \n",
      "dtypes: float64(13), int64(3), object(12)\n",
      "memory usage: 1.0+ MB\n"
     ]
    }
   ],
   "source": [
    "df.info()"
   ]
  },
  {
   "cell_type": "markdown",
   "id": "fd62af33",
   "metadata": {},
   "source": [
    "#Handling Missing values in the dataset\n"
   ]
  },
  {
   "cell_type": "code",
   "execution_count": 13,
   "id": "31879cdb",
   "metadata": {},
   "outputs": [],
   "source": [
    "#Replacing the content rating with Value R as it has highest frequency\n",
    "\n",
    "df[\"color\"].fillna(df[\"color\"].mode().iloc[0], inplace = True) "
   ]
  },
  {
   "cell_type": "code",
   "execution_count": 14,
   "id": "ebaa3029",
   "metadata": {},
   "outputs": [],
   "source": [
    "#Replacing the content rating with Value R as it has highest frequency\n",
    "\n",
    "df[\"content_rating\"].fillna(df[\"content_rating\"].mode().iloc[0], inplace = True) "
   ]
  },
  {
   "cell_type": "code",
   "execution_count": 15,
   "id": "f5a4fbb9",
   "metadata": {},
   "outputs": [],
   "source": [
    "#Replacing the aspect_ratio with the median of the value as the graph is right skewed \n",
    "\n",
    "df[\"aspect_ratio\"].fillna(df[\"aspect_ratio\"].median(),inplace=True)"
   ]
  },
  {
   "cell_type": "code",
   "execution_count": 16,
   "id": "74ee5e2b",
   "metadata": {},
   "outputs": [],
   "source": [
    "#We need to replace the value in budget with the median of the value\n",
    "df[\"budget\"].fillna(df[\"budget\"].median(),inplace=True)"
   ]
  },
  {
   "cell_type": "code",
   "execution_count": 17,
   "id": "9069a60b",
   "metadata": {},
   "outputs": [],
   "source": [
    "# We need to replace the value in gross with the median of the value \n",
    "\n",
    "df[\"gross\"].fillna(df[\"gross\"].median(),inplace=True)"
   ]
  },
  {
   "cell_type": "code",
   "execution_count": 18,
   "id": "748cb0c1",
   "metadata": {},
   "outputs": [],
   "source": [
    "# We can remove the null values from the dataset where the count is less . so that we don't loose much data \n",
    "df.dropna(axis=0,subset=['director_name', 'num_critic_for_reviews','duration','director_facebook_likes','actor_2_name','actor_1_name','actor_3_name','facenumber_in_poster','num_user_for_reviews','language','country','plot_keywords'],inplace=True)"
   ]
  },
  {
   "cell_type": "code",
   "execution_count": 19,
   "id": "80330340",
   "metadata": {},
   "outputs": [
    {
     "data": {
      "text/plain": [
       "color                        0\n",
       "director_name                0\n",
       "num_critic_for_reviews       0\n",
       "duration                     0\n",
       "director_facebook_likes      0\n",
       "actor_3_facebook_likes       0\n",
       "actor_2_name                 0\n",
       "actor_1_facebook_likes       0\n",
       "gross                        0\n",
       "genres                       0\n",
       "actor_1_name                 0\n",
       "movie_title                  0\n",
       "num_voted_users              0\n",
       "cast_total_facebook_likes    0\n",
       "actor_3_name                 0\n",
       "facenumber_in_poster         0\n",
       "plot_keywords                0\n",
       "movie_imdb_link              0\n",
       "num_user_for_reviews         0\n",
       "language                     0\n",
       "country                      0\n",
       "content_rating               0\n",
       "budget                       0\n",
       "title_year                   0\n",
       "actor_2_facebook_likes       0\n",
       "imdb_score                   0\n",
       "aspect_ratio                 0\n",
       "movie_facebook_likes         0\n",
       "dtype: int64"
      ]
     },
     "execution_count": 19,
     "metadata": {},
     "output_type": "execute_result"
    }
   ],
   "source": [
    "# Recheck that all the null values are removed\n",
    "\n",
    "df.isna().sum()"
   ]
  },
  {
   "cell_type": "code",
   "execution_count": 20,
   "id": "4a1100de",
   "metadata": {},
   "outputs": [
    {
     "data": {
      "text/plain": [
       "(4695, 28)"
      ]
     },
     "execution_count": 20,
     "metadata": {},
     "output_type": "execute_result"
    }
   ],
   "source": [
    "df.shape"
   ]
  },
  {
   "cell_type": "code",
   "execution_count": 21,
   "id": "3ac56507",
   "metadata": {},
   "outputs": [
    {
     "data": {
      "text/plain": [
       "array(['PG-13', 'PG', 'G', 'R', 'TV-14', 'Not Rated', 'Unrated',\n",
       "       'Approved', 'NC-17', 'X', 'GP', 'Passed', 'M', 'TV-G', 'TV-PG'],\n",
       "      dtype=object)"
      ]
     },
     "execution_count": 21,
     "metadata": {},
     "output_type": "execute_result"
    }
   ],
   "source": [
    "df.content_rating.unique()"
   ]
  },
  {
   "cell_type": "markdown",
   "id": "946379b8",
   "metadata": {},
   "source": [
    "Categorical and numerical columns in the dataset"
   ]
  },
  {
   "cell_type": "code",
   "execution_count": 22,
   "id": "ba8ffc34",
   "metadata": {},
   "outputs": [],
   "source": [
    "numerical_cols = [col for col in df.columns if df[col].dtype != 'object']\n",
    "categorical_cols = [col for col in df.columns if df[col].dtype == 'object']"
   ]
  },
  {
   "cell_type": "code",
   "execution_count": 23,
   "id": "76e25055",
   "metadata": {},
   "outputs": [
    {
     "data": {
      "text/plain": [
       "(['color',\n",
       "  'director_name',\n",
       "  'actor_2_name',\n",
       "  'genres',\n",
       "  'actor_1_name',\n",
       "  'movie_title',\n",
       "  'actor_3_name',\n",
       "  'plot_keywords',\n",
       "  'movie_imdb_link',\n",
       "  'language',\n",
       "  'country',\n",
       "  'content_rating'],\n",
       " ['num_critic_for_reviews',\n",
       "  'duration',\n",
       "  'director_facebook_likes',\n",
       "  'actor_3_facebook_likes',\n",
       "  'actor_1_facebook_likes',\n",
       "  'gross',\n",
       "  'num_voted_users',\n",
       "  'cast_total_facebook_likes',\n",
       "  'facenumber_in_poster',\n",
       "  'num_user_for_reviews',\n",
       "  'budget',\n",
       "  'title_year',\n",
       "  'actor_2_facebook_likes',\n",
       "  'imdb_score',\n",
       "  'aspect_ratio',\n",
       "  'movie_facebook_likes'])"
      ]
     },
     "execution_count": 23,
     "metadata": {},
     "output_type": "execute_result"
    }
   ],
   "source": [
    "categorical_cols, numerical_cols"
   ]
  },
  {
   "cell_type": "code",
   "execution_count": 24,
   "id": "7810b78b",
   "metadata": {},
   "outputs": [
    {
     "data": {
      "text/plain": [
       "<AxesSubplot:>"
      ]
     },
     "execution_count": 24,
     "metadata": {},
     "output_type": "execute_result"
    },
    {
     "data": {
      "image/png": "[encoded data removed]",
      "text/plain": [
       "<Figure size 1296x1296 with 2 Axes>"
      ]
     },
     "metadata": {
      "needs_background": "light"
     },
     "output_type": "display_data"
    }
   ],
   "source": [
    "#Plotting the Correlation between the numerical values of the Dataset\n",
    "_, ax = plt.subplots(figsize=(18, 18))\n",
    "sns.heatmap(df.corr(), linewidths=.6, cmap='coolwarm', annot=True, ax=ax)"
   ]
  },
  {
   "cell_type": "code",
   "execution_count": 25,
   "id": "747c84d9",
   "metadata": {},
   "outputs": [
    {
     "data": {
      "text/html": [
       "<div>\n",
       "<style scoped>\n",
       "    .dataframe tbody tr th:only-of-type {\n",
       "        vertical-align: middle;\n",
       "    }\n",
       "\n",
       "    .dataframe tbody tr th {\n",
       "        vertical-align: top;\n",
       "    }\n",
       "\n",
       "    .dataframe thead th {\n",
       "        text-align: right;\n",
       "    }\n",
       "</style>\n",
       "<table border=\"1\" class=\"dataframe\">\n",
       "  <thead>\n",
       "    <tr style=\"text-align: right;\">\n",
       "      <th></th>\n",
       "      <th>color</th>\n",
       "      <th>director_name</th>\n",
       "      <th>num_critic_for_reviews</th>\n",
       "      <th>duration</th>\n",
       "      <th>director_facebook_likes</th>\n",
       "      <th>actor_3_facebook_likes</th>\n",
       "      <th>actor_2_name</th>\n",
       "      <th>actor_1_facebook_likes</th>\n",
       "      <th>gross</th>\n",
       "      <th>genres</th>\n",
       "      <th>...</th>\n",
       "      <th>language</th>\n",
       "      <th>country</th>\n",
       "      <th>content_rating</th>\n",
       "      <th>budget</th>\n",
       "      <th>title_year</th>\n",
       "      <th>actor_2_facebook_likes</th>\n",
       "      <th>imdb_score</th>\n",
       "      <th>aspect_ratio</th>\n",
       "      <th>movie_facebook_likes</th>\n",
       "      <th>cast$crew_total_facebook_likes</th>\n",
       "    </tr>\n",
       "  </thead>\n",
       "  <tbody>\n",
       "    <tr>\n",
       "      <th>0</th>\n",
       "      <td>Color</td>\n",
       "      <td>James Cameron</td>\n",
       "      <td>723.0</td>\n",
       "      <td>178.0</td>\n",
       "      <td>0.0</td>\n",
       "      <td>855.0</td>\n",
       "      <td>Joel David Moore</td>\n",
       "      <td>1000.0</td>\n",
       "      <td>760505847.0</td>\n",
       "      <td>Action|Adventure|Fantasy|Sci-Fi</td>\n",
       "      <td>...</td>\n",
       "      <td>English</td>\n",
       "      <td>USA</td>\n",
       "      <td>PG-13</td>\n",
       "      <td>237000000.0</td>\n",
       "      <td>2009.0</td>\n",
       "      <td>936.0</td>\n",
       "      <td>7.9</td>\n",
       "      <td>1.78</td>\n",
       "      <td>33000</td>\n",
       "      <td>6625.0</td>\n",
       "    </tr>\n",
       "    <tr>\n",
       "      <th>1</th>\n",
       "      <td>Color</td>\n",
       "      <td>Gore Verbinski</td>\n",
       "      <td>302.0</td>\n",
       "      <td>169.0</td>\n",
       "      <td>563.0</td>\n",
       "      <td>1000.0</td>\n",
       "      <td>Orlando Bloom</td>\n",
       "      <td>40000.0</td>\n",
       "      <td>309404152.0</td>\n",
       "      <td>Action|Adventure|Fantasy</td>\n",
       "      <td>...</td>\n",
       "      <td>English</td>\n",
       "      <td>USA</td>\n",
       "      <td>PG-13</td>\n",
       "      <td>300000000.0</td>\n",
       "      <td>2007.0</td>\n",
       "      <td>5000.0</td>\n",
       "      <td>7.1</td>\n",
       "      <td>2.35</td>\n",
       "      <td>0</td>\n",
       "      <td>54913.0</td>\n",
       "    </tr>\n",
       "  </tbody>\n",
       "</table>\n",
       "<p>2 rows × 29 columns</p>\n",
       "</div>"
      ],
      "text/plain": [
       "   color   director_name  num_critic_for_reviews  duration  \\\n",
       "0  Color   James Cameron                   723.0     178.0   \n",
       "1  Color  Gore Verbinski                   302.0     169.0   \n",
       "\n",
       "   director_facebook_likes  actor_3_facebook_likes      actor_2_name  \\\n",
       "0                      0.0                   855.0  Joel David Moore   \n",
       "1                    563.0                  1000.0     Orlando Bloom   \n",
       "\n",
       "   actor_1_facebook_likes        gross                           genres  ...  \\\n",
       "0                  1000.0  760505847.0  Action|Adventure|Fantasy|Sci-Fi  ...   \n",
       "1                 40000.0  309404152.0         Action|Adventure|Fantasy  ...   \n",
       "\n",
       "  language country  content_rating       budget title_year  \\\n",
       "0  English     USA           PG-13  237000000.0     2009.0   \n",
       "1  English     USA           PG-13  300000000.0     2007.0   \n",
       "\n",
       "   actor_2_facebook_likes imdb_score aspect_ratio  movie_facebook_likes  \\\n",
       "0                   936.0        7.9         1.78                 33000   \n",
       "1                  5000.0        7.1         2.35                     0   \n",
       "\n",
       "  cast$crew_total_facebook_likes  \n",
       "0                         6625.0  \n",
       "1                        54913.0  \n",
       "\n",
       "[2 rows x 29 columns]"
      ]
     },
     "execution_count": 25,
     "metadata": {},
     "output_type": "execute_result"
    }
   ],
   "source": [
    "#Making a new column named cast$crew total facebook likes by adding columns director_facebook_likes,actor_3_facebook_likes,actor_2_facebook_likes,cast_total_facebook_likes\n",
    "df['cast$crew_total_facebook_likes']=df['director_facebook_likes']+df['actor_3_facebook_likes']+df['actor_2_facebook_likes']+df['cast_total_facebook_likes']\n",
    "df.head(2) "
   ]
  },
  {
   "cell_type": "code",
   "execution_count": 26,
   "id": "92a18d87",
   "metadata": {},
   "outputs": [
    {
     "data": {
      "text/html": [
       "<div>\n",
       "<style scoped>\n",
       "    .dataframe tbody tr th:only-of-type {\n",
       "        vertical-align: middle;\n",
       "    }\n",
       "\n",
       "    .dataframe tbody tr th {\n",
       "        vertical-align: top;\n",
       "    }\n",
       "\n",
       "    .dataframe thead th {\n",
       "        text-align: right;\n",
       "    }\n",
       "</style>\n",
       "<table border=\"1\" class=\"dataframe\">\n",
       "  <thead>\n",
       "    <tr style=\"text-align: right;\">\n",
       "      <th></th>\n",
       "      <th>color</th>\n",
       "      <th>director_name</th>\n",
       "      <th>num_critic_for_reviews</th>\n",
       "      <th>duration</th>\n",
       "      <th>actor_2_name</th>\n",
       "      <th>actor_1_facebook_likes</th>\n",
       "      <th>gross</th>\n",
       "      <th>genres</th>\n",
       "      <th>actor_1_name</th>\n",
       "      <th>movie_title</th>\n",
       "      <th>...</th>\n",
       "      <th>num_user_for_reviews</th>\n",
       "      <th>language</th>\n",
       "      <th>country</th>\n",
       "      <th>content_rating</th>\n",
       "      <th>budget</th>\n",
       "      <th>title_year</th>\n",
       "      <th>imdb_score</th>\n",
       "      <th>aspect_ratio</th>\n",
       "      <th>movie_facebook_likes</th>\n",
       "      <th>cast$crew_total_facebook_likes</th>\n",
       "    </tr>\n",
       "  </thead>\n",
       "  <tbody>\n",
       "    <tr>\n",
       "      <th>0</th>\n",
       "      <td>Color</td>\n",
       "      <td>James Cameron</td>\n",
       "      <td>723.0</td>\n",
       "      <td>178.0</td>\n",
       "      <td>Joel David Moore</td>\n",
       "      <td>1000.0</td>\n",
       "      <td>760505847.0</td>\n",
       "      <td>Action|Adventure|Fantasy|Sci-Fi</td>\n",
       "      <td>CCH Pounder</td>\n",
       "      <td>Avatar</td>\n",
       "      <td>...</td>\n",
       "      <td>3054.0</td>\n",
       "      <td>English</td>\n",
       "      <td>USA</td>\n",
       "      <td>PG-13</td>\n",
       "      <td>237000000.0</td>\n",
       "      <td>2009.0</td>\n",
       "      <td>7.9</td>\n",
       "      <td>1.78</td>\n",
       "      <td>33000</td>\n",
       "      <td>6625.0</td>\n",
       "    </tr>\n",
       "    <tr>\n",
       "      <th>1</th>\n",
       "      <td>Color</td>\n",
       "      <td>Gore Verbinski</td>\n",
       "      <td>302.0</td>\n",
       "      <td>169.0</td>\n",
       "      <td>Orlando Bloom</td>\n",
       "      <td>40000.0</td>\n",
       "      <td>309404152.0</td>\n",
       "      <td>Action|Adventure|Fantasy</td>\n",
       "      <td>Johnny Depp</td>\n",
       "      <td>Pirates of the Caribbean: At World's End</td>\n",
       "      <td>...</td>\n",
       "      <td>1238.0</td>\n",
       "      <td>English</td>\n",
       "      <td>USA</td>\n",
       "      <td>PG-13</td>\n",
       "      <td>300000000.0</td>\n",
       "      <td>2007.0</td>\n",
       "      <td>7.1</td>\n",
       "      <td>2.35</td>\n",
       "      <td>0</td>\n",
       "      <td>54913.0</td>\n",
       "    </tr>\n",
       "  </tbody>\n",
       "</table>\n",
       "<p>2 rows × 25 columns</p>\n",
       "</div>"
      ],
      "text/plain": [
       "   color   director_name  num_critic_for_reviews  duration      actor_2_name  \\\n",
       "0  Color   James Cameron                   723.0     178.0  Joel David Moore   \n",
       "1  Color  Gore Verbinski                   302.0     169.0     Orlando Bloom   \n",
       "\n",
       "   actor_1_facebook_likes        gross                           genres  \\\n",
       "0                  1000.0  760505847.0  Action|Adventure|Fantasy|Sci-Fi   \n",
       "1                 40000.0  309404152.0         Action|Adventure|Fantasy   \n",
       "\n",
       "  actor_1_name                                movie_title  ...  \\\n",
       "0  CCH Pounder                                    Avatar   ...   \n",
       "1  Johnny Depp  Pirates of the Caribbean: At World's End   ...   \n",
       "\n",
       "   num_user_for_reviews language  country content_rating       budget  \\\n",
       "0                3054.0  English      USA          PG-13  237000000.0   \n",
       "1                1238.0  English      USA          PG-13  300000000.0   \n",
       "\n",
       "   title_year imdb_score aspect_ratio movie_facebook_likes  \\\n",
       "0      2009.0        7.9         1.78                33000   \n",
       "1      2007.0        7.1         2.35                    0   \n",
       "\n",
       "   cast$crew_total_facebook_likes  \n",
       "0                          6625.0  \n",
       "1                         54913.0  \n",
       "\n",
       "[2 rows x 25 columns]"
      ]
     },
     "execution_count": 26,
     "metadata": {},
     "output_type": "execute_result"
    }
   ],
   "source": [
    "df.drop(columns=['director_facebook_likes','actor_3_facebook_likes','cast_total_facebook_likes','actor_2_facebook_likes'],axis=1,inplace=True)\n",
    "df.head(2)\n",
    "    "
   ]
  },
  {
   "cell_type": "code",
   "execution_count": 27,
   "id": "d11a28a2",
   "metadata": {},
   "outputs": [
    {
     "data": {
      "text/plain": [
       "Steven Spielberg    26\n",
       "Woody Allen         22\n",
       "Martin Scorsese     20\n",
       "Clint Eastwood      20\n",
       "Ridley Scott        17\n",
       "                    ..\n",
       "John Cromwell        1\n",
       "Stewart Hendler      1\n",
       "Benedek Fliegauf     1\n",
       "John Stainton        1\n",
       "Scott Smith          1\n",
       "Name: director_name, Length: 2240, dtype: int64"
      ]
     },
     "execution_count": 27,
     "metadata": {},
     "output_type": "execute_result"
    }
   ],
   "source": [
    "df['director_name'].value_counts()"
   ]
  },
  {
   "cell_type": "code",
   "execution_count": 28,
   "id": "6e175246",
   "metadata": {},
   "outputs": [],
   "source": [
    "#Removing the director name column\n",
    "\n",
    "df.drop('director_name', axis=1, inplace=True)"
   ]
  },
  {
   "cell_type": "code",
   "execution_count": 29,
   "id": "bb9dff4c",
   "metadata": {},
   "outputs": [],
   "source": [
    "#Removing the actor1 ,actor 2 and actor 3 names \n",
    "\n",
    "df.drop('actor_1_name',axis=1,inplace=True)"
   ]
  },
  {
   "cell_type": "code",
   "execution_count": 30,
   "id": "df741f74",
   "metadata": {},
   "outputs": [],
   "source": [
    "df.drop('actor_2_name',axis=1,inplace=True)"
   ]
  },
  {
   "cell_type": "code",
   "execution_count": 31,
   "id": "23dabf44",
   "metadata": {},
   "outputs": [],
   "source": [
    "df.drop('actor_3_name',axis=1,inplace=True)"
   ]
  },
  {
   "cell_type": "code",
   "execution_count": 32,
   "id": "4b967f8b",
   "metadata": {},
   "outputs": [],
   "source": [
    "#Dropping the movie title \n",
    "\n",
    "df.drop('movie_title',axis=1,inplace=True)"
   ]
  },
  {
   "cell_type": "code",
   "execution_count": 33,
   "id": "c4b22a51",
   "metadata": {},
   "outputs": [],
   "source": [
    "# Dropping the plot keywords\n",
    "df.drop('plot_keywords',axis=1,inplace=True)"
   ]
  },
  {
   "cell_type": "code",
   "execution_count": 34,
   "id": "280daa0e",
   "metadata": {},
   "outputs": [],
   "source": [
    "#Dropping the imdb link as is it is unique value\n",
    "df.drop('movie_imdb_link',axis=1,inplace=True)"
   ]
  },
  {
   "cell_type": "code",
   "execution_count": 35,
   "id": "9fe5b129",
   "metadata": {},
   "outputs": [],
   "source": [
    "#Dropping column country as most of the movies are in color\n",
    "df.drop('country',axis=1,inplace=True)"
   ]
  },
  {
   "cell_type": "code",
   "execution_count": 36,
   "id": "beb69f69",
   "metadata": {},
   "outputs": [],
   "source": [
    "#Dropping column aspect ratio\n",
    "df.drop('aspect_ratio',axis=1,inplace=True)"
   ]
  },
  {
   "cell_type": "code",
   "execution_count": 37,
   "id": "d87cb914",
   "metadata": {},
   "outputs": [],
   "source": [
    "#Dropping column color as most of the movies are in color\n",
    "df.drop('color',axis=1,inplace=True)"
   ]
  },
  {
   "cell_type": "code",
   "execution_count": 38,
   "id": "36879168",
   "metadata": {},
   "outputs": [],
   "source": [
    "df.drop('title_year',axis=1,inplace=True)"
   ]
  },
  {
   "cell_type": "code",
   "execution_count": 39,
   "id": "3337ae55",
   "metadata": {},
   "outputs": [],
   "source": [
    "\n",
    "#Most of the values for the languages is english we can drop the english column\n",
    "\n",
    "df.drop('language',axis=1,inplace=True)"
   ]
  },
  {
   "cell_type": "markdown",
   "id": "c967e53f",
   "metadata": {},
   "source": [
    "We want to keep num_voted_users and take the ratio of num_user_for_reviews and num_critic_for_reviews."
   ]
  },
  {
   "cell_type": "code",
   "execution_count": 40,
   "id": "9b64709a",
   "metadata": {},
   "outputs": [],
   "source": [
    "#Ratio of the ratio of num_user_for_reviews and num_critic_for_reviews.\n",
    "\n",
    "df['critic_review_ratio']=df['num_critic_for_reviews']/df['num_user_for_reviews']"
   ]
  },
  {
   "cell_type": "code",
   "execution_count": 41,
   "id": "d38a4dfa",
   "metadata": {},
   "outputs": [],
   "source": [
    "#Dropping the num_critic_for_review\n",
    "\n",
    "df.drop('num_critic_for_reviews',axis=1,inplace=True)\n",
    "df.drop('num_user_for_reviews',axis=1,inplace=True)"
   ]
  },
  {
   "cell_type": "code",
   "execution_count": 42,
   "id": "e9fc673d",
   "metadata": {},
   "outputs": [
    {
     "data": {
      "text/plain": [
       "(4695, 12)"
      ]
     },
     "execution_count": 42,
     "metadata": {},
     "output_type": "execute_result"
    }
   ],
   "source": [
    "df.shape"
   ]
  },
  {
   "cell_type": "code",
   "execution_count": 43,
   "id": "57dadbb3",
   "metadata": {},
   "outputs": [],
   "source": [
    "numerical_cols = [col for col in df.columns if df[col].dtype != 'object']\n",
    "categorical_cols = [col for col in df.columns if df[col].dtype == 'object']"
   ]
  },
  {
   "cell_type": "code",
   "execution_count": 44,
   "id": "b7d59fc5",
   "metadata": {},
   "outputs": [
    {
     "data": {
      "text/plain": [
       "(['genres', 'content_rating'],\n",
       " ['duration',\n",
       "  'actor_1_facebook_likes',\n",
       "  'gross',\n",
       "  'num_voted_users',\n",
       "  'facenumber_in_poster',\n",
       "  'budget',\n",
       "  'imdb_score',\n",
       "  'movie_facebook_likes',\n",
       "  'cast$crew_total_facebook_likes',\n",
       "  'critic_review_ratio'])"
      ]
     },
     "execution_count": 44,
     "metadata": {},
     "output_type": "execute_result"
    }
   ],
   "source": [
    "categorical_cols, numerical_cols"
   ]
  },
  {
   "cell_type": "code",
   "execution_count": 45,
   "id": "565534bd",
   "metadata": {},
   "outputs": [
    {
     "data": {
      "text/plain": [
       "<AxesSubplot:>"
      ]
     },
     "execution_count": 45,
     "metadata": {},
     "output_type": "execute_result"
    },
    {
     "data": {
      "image/png": "[encoded data removed]",
      "text/plain": [
       "<Figure size 720x576 with 2 Axes>"
      ]
     },
     "metadata": {
      "needs_background": "light"
     },
     "output_type": "display_data"
    }
   ],
   "source": [
    "#Plotting the Correlation between the numerical values of the Dataset\n",
    "_, ax = plt.subplots(figsize=(10, 8))\n",
    "sns.heatmap(df.corr(), linewidths=.6, cmap='coolwarm', annot=True, ax=ax)"
   ]
  },
  {
   "cell_type": "code",
   "execution_count": 46,
   "id": "4f62b7f2",
   "metadata": {},
   "outputs": [
    {
     "data": {
      "text/html": [
       "<div>\n",
       "<style scoped>\n",
       "    .dataframe tbody tr th:only-of-type {\n",
       "        vertical-align: middle;\n",
       "    }\n",
       "\n",
       "    .dataframe tbody tr th {\n",
       "        vertical-align: top;\n",
       "    }\n",
       "\n",
       "    .dataframe thead th {\n",
       "        text-align: right;\n",
       "    }\n",
       "</style>\n",
       "<table border=\"1\" class=\"dataframe\">\n",
       "  <thead>\n",
       "    <tr style=\"text-align: right;\">\n",
       "      <th></th>\n",
       "      <th>duration</th>\n",
       "      <th>actor_1_facebook_likes</th>\n",
       "      <th>gross</th>\n",
       "      <th>genres</th>\n",
       "      <th>num_voted_users</th>\n",
       "      <th>facenumber_in_poster</th>\n",
       "      <th>content_rating</th>\n",
       "      <th>budget</th>\n",
       "      <th>imdb_score</th>\n",
       "      <th>movie_facebook_likes</th>\n",
       "      <th>cast$crew_total_facebook_likes</th>\n",
       "      <th>critic_review_ratio</th>\n",
       "    </tr>\n",
       "  </thead>\n",
       "  <tbody>\n",
       "    <tr>\n",
       "      <th>0</th>\n",
       "      <td>178.0</td>\n",
       "      <td>1000.0</td>\n",
       "      <td>760505847.0</td>\n",
       "      <td>Action|Adventure|Fantasy|Sci-Fi</td>\n",
       "      <td>886204</td>\n",
       "      <td>0.0</td>\n",
       "      <td>PG-13</td>\n",
       "      <td>237000000.0</td>\n",
       "      <td>7.9</td>\n",
       "      <td>33000</td>\n",
       "      <td>6625.0</td>\n",
       "      <td>0.236739</td>\n",
       "    </tr>\n",
       "    <tr>\n",
       "      <th>1</th>\n",
       "      <td>169.0</td>\n",
       "      <td>40000.0</td>\n",
       "      <td>309404152.0</td>\n",
       "      <td>Action|Adventure|Fantasy</td>\n",
       "      <td>471220</td>\n",
       "      <td>0.0</td>\n",
       "      <td>PG-13</td>\n",
       "      <td>300000000.0</td>\n",
       "      <td>7.1</td>\n",
       "      <td>0</td>\n",
       "      <td>54913.0</td>\n",
       "      <td>0.243942</td>\n",
       "    </tr>\n",
       "    <tr>\n",
       "      <th>2</th>\n",
       "      <td>148.0</td>\n",
       "      <td>11000.0</td>\n",
       "      <td>200074175.0</td>\n",
       "      <td>Action|Adventure|Thriller</td>\n",
       "      <td>275868</td>\n",
       "      <td>1.0</td>\n",
       "      <td>PG-13</td>\n",
       "      <td>245000000.0</td>\n",
       "      <td>6.8</td>\n",
       "      <td>85000</td>\n",
       "      <td>12254.0</td>\n",
       "      <td>0.605634</td>\n",
       "    </tr>\n",
       "    <tr>\n",
       "      <th>3</th>\n",
       "      <td>164.0</td>\n",
       "      <td>27000.0</td>\n",
       "      <td>448130642.0</td>\n",
       "      <td>Action|Thriller</td>\n",
       "      <td>1144337</td>\n",
       "      <td>0.0</td>\n",
       "      <td>PG-13</td>\n",
       "      <td>250000000.0</td>\n",
       "      <td>8.5</td>\n",
       "      <td>164000</td>\n",
       "      <td>174759.0</td>\n",
       "      <td>0.301000</td>\n",
       "    </tr>\n",
       "    <tr>\n",
       "      <th>5</th>\n",
       "      <td>132.0</td>\n",
       "      <td>640.0</td>\n",
       "      <td>73058679.0</td>\n",
       "      <td>Action|Adventure|Sci-Fi</td>\n",
       "      <td>212204</td>\n",
       "      <td>1.0</td>\n",
       "      <td>PG-13</td>\n",
       "      <td>263700000.0</td>\n",
       "      <td>6.6</td>\n",
       "      <td>24000</td>\n",
       "      <td>3510.0</td>\n",
       "      <td>0.626016</td>\n",
       "    </tr>\n",
       "  </tbody>\n",
       "</table>\n",
       "</div>"
      ],
      "text/plain": [
       "   duration  actor_1_facebook_likes        gross  \\\n",
       "0     178.0                  1000.0  760505847.0   \n",
       "1     169.0                 40000.0  309404152.0   \n",
       "2     148.0                 11000.0  200074175.0   \n",
       "3     164.0                 27000.0  448130642.0   \n",
       "5     132.0                   640.0   73058679.0   \n",
       "\n",
       "                            genres  num_voted_users  facenumber_in_poster  \\\n",
       "0  Action|Adventure|Fantasy|Sci-Fi           886204                   0.0   \n",
       "1         Action|Adventure|Fantasy           471220                   0.0   \n",
       "2        Action|Adventure|Thriller           275868                   1.0   \n",
       "3                  Action|Thriller          1144337                   0.0   \n",
       "5          Action|Adventure|Sci-Fi           212204                   1.0   \n",
       "\n",
       "  content_rating       budget  imdb_score  movie_facebook_likes  \\\n",
       "0          PG-13  237000000.0         7.9                 33000   \n",
       "1          PG-13  300000000.0         7.1                     0   \n",
       "2          PG-13  245000000.0         6.8                 85000   \n",
       "3          PG-13  250000000.0         8.5                164000   \n",
       "5          PG-13  263700000.0         6.6                 24000   \n",
       "\n",
       "   cast$crew_total_facebook_likes  critic_review_ratio  \n",
       "0                          6625.0             0.236739  \n",
       "1                         54913.0             0.243942  \n",
       "2                         12254.0             0.605634  \n",
       "3                        174759.0             0.301000  \n",
       "5                          3510.0             0.626016  "
      ]
     },
     "execution_count": 46,
     "metadata": {},
     "output_type": "execute_result"
    }
   ],
   "source": [
    "df.head()"
   ]
  },
  {
   "cell_type": "code",
   "execution_count": 47,
   "id": "69b1b055",
   "metadata": {},
   "outputs": [
    {
     "data": {
      "text/html": [
       "<div>\n",
       "<style scoped>\n",
       "    .dataframe tbody tr th:only-of-type {\n",
       "        vertical-align: middle;\n",
       "    }\n",
       "\n",
       "    .dataframe tbody tr th {\n",
       "        vertical-align: top;\n",
       "    }\n",
       "\n",
       "    .dataframe thead th {\n",
       "        text-align: right;\n",
       "    }\n",
       "</style>\n",
       "<table border=\"1\" class=\"dataframe\">\n",
       "  <thead>\n",
       "    <tr style=\"text-align: right;\">\n",
       "      <th></th>\n",
       "      <th>duration</th>\n",
       "      <th>actor_1_facebook_likes</th>\n",
       "      <th>gross</th>\n",
       "      <th>num_voted_users</th>\n",
       "      <th>facenumber_in_poster</th>\n",
       "      <th>budget</th>\n",
       "      <th>imdb_score</th>\n",
       "      <th>movie_facebook_likes</th>\n",
       "      <th>cast$crew_total_facebook_likes</th>\n",
       "      <th>critic_review_ratio</th>\n",
       "    </tr>\n",
       "  </thead>\n",
       "  <tbody>\n",
       "    <tr>\n",
       "      <th>count</th>\n",
       "      <td>4695.000000</td>\n",
       "      <td>4695.000000</td>\n",
       "      <td>4.695000e+03</td>\n",
       "      <td>4.695000e+03</td>\n",
       "      <td>4695.000000</td>\n",
       "      <td>4.695000e+03</td>\n",
       "      <td>4695.000000</td>\n",
       "      <td>4695.000000</td>\n",
       "      <td>4695.000000</td>\n",
       "      <td>4695.000000</td>\n",
       "    </tr>\n",
       "    <tr>\n",
       "      <th>mean</th>\n",
       "      <td>108.644941</td>\n",
       "      <td>6828.262833</td>\n",
       "      <td>4.579718e+07</td>\n",
       "      <td>8.792591e+04</td>\n",
       "      <td>1.358679</td>\n",
       "      <td>3.936575e+07</td>\n",
       "      <td>6.431353</td>\n",
       "      <td>7792.492865</td>\n",
       "      <td>13183.841108</td>\n",
       "      <td>0.889734</td>\n",
       "    </tr>\n",
       "    <tr>\n",
       "      <th>std</th>\n",
       "      <td>22.546393</td>\n",
       "      <td>14992.885315</td>\n",
       "      <td>6.384423e+07</td>\n",
       "      <td>1.408106e+05</td>\n",
       "      <td>2.009775</td>\n",
       "      <td>2.028047e+08</td>\n",
       "      <td>1.098504</td>\n",
       "      <td>19625.770645</td>\n",
       "      <td>22608.899488</td>\n",
       "      <td>1.007769</td>\n",
       "    </tr>\n",
       "    <tr>\n",
       "      <th>min</th>\n",
       "      <td>14.000000</td>\n",
       "      <td>0.000000</td>\n",
       "      <td>1.620000e+02</td>\n",
       "      <td>5.000000e+00</td>\n",
       "      <td>0.000000</td>\n",
       "      <td>2.180000e+02</td>\n",
       "      <td>1.600000</td>\n",
       "      <td>0.000000</td>\n",
       "      <td>0.000000</td>\n",
       "      <td>0.037037</td>\n",
       "    </tr>\n",
       "    <tr>\n",
       "      <th>25%</th>\n",
       "      <td>94.000000</td>\n",
       "      <td>638.000000</td>\n",
       "      <td>8.026422e+06</td>\n",
       "      <td>1.085750e+04</td>\n",
       "      <td>0.000000</td>\n",
       "      <td>8.000000e+06</td>\n",
       "      <td>5.800000</td>\n",
       "      <td>0.000000</td>\n",
       "      <td>2231.000000</td>\n",
       "      <td>0.383346</td>\n",
       "    </tr>\n",
       "    <tr>\n",
       "      <th>50%</th>\n",
       "      <td>104.000000</td>\n",
       "      <td>1000.000000</td>\n",
       "      <td>2.594677e+07</td>\n",
       "      <td>3.819100e+04</td>\n",
       "      <td>1.000000</td>\n",
       "      <td>2.000000e+07</td>\n",
       "      <td>6.600000</td>\n",
       "      <td>180.000000</td>\n",
       "      <td>4728.000000</td>\n",
       "      <td>0.622047</td>\n",
       "    </tr>\n",
       "    <tr>\n",
       "      <th>75%</th>\n",
       "      <td>118.000000</td>\n",
       "      <td>11000.000000</td>\n",
       "      <td>5.428985e+07</td>\n",
       "      <td>1.020970e+05</td>\n",
       "      <td>2.000000</td>\n",
       "      <td>4.000000e+07</td>\n",
       "      <td>7.200000</td>\n",
       "      <td>5000.000000</td>\n",
       "      <td>16756.500000</td>\n",
       "      <td>1.090909</td>\n",
       "    </tr>\n",
       "    <tr>\n",
       "      <th>max</th>\n",
       "      <td>330.000000</td>\n",
       "      <td>640000.000000</td>\n",
       "      <td>7.605058e+08</td>\n",
       "      <td>1.689764e+06</td>\n",
       "      <td>43.000000</td>\n",
       "      <td>1.221550e+10</td>\n",
       "      <td>9.300000</td>\n",
       "      <td>349000.000000</td>\n",
       "      <td>672015.000000</td>\n",
       "      <td>25.000000</td>\n",
       "    </tr>\n",
       "  </tbody>\n",
       "</table>\n",
       "</div>"
      ],
      "text/plain": [
       "          duration  actor_1_facebook_likes         gross  num_voted_users  \\\n",
       "count  4695.000000             4695.000000  4.695000e+03     4.695000e+03   \n",
       "mean    108.644941             6828.262833  4.579718e+07     8.792591e+04   \n",
       "std      22.546393            14992.885315  6.384423e+07     1.408106e+05   \n",
       "min      14.000000                0.000000  1.620000e+02     5.000000e+00   \n",
       "25%      94.000000              638.000000  8.026422e+06     1.085750e+04   \n",
       "50%     104.000000             1000.000000  2.594677e+07     3.819100e+04   \n",
       "75%     118.000000            11000.000000  5.428985e+07     1.020970e+05   \n",
       "max     330.000000           640000.000000  7.605058e+08     1.689764e+06   \n",
       "\n",
       "       facenumber_in_poster        budget   imdb_score  movie_facebook_likes  \\\n",
       "count           4695.000000  4.695000e+03  4695.000000           4695.000000   \n",
       "mean               1.358679  3.936575e+07     6.431353           7792.492865   \n",
       "std                2.009775  2.028047e+08     1.098504          19625.770645   \n",
       "min                0.000000  2.180000e+02     1.600000              0.000000   \n",
       "25%                0.000000  8.000000e+06     5.800000              0.000000   \n",
       "50%                1.000000  2.000000e+07     6.600000            180.000000   \n",
       "75%                2.000000  4.000000e+07     7.200000           5000.000000   \n",
       "max               43.000000  1.221550e+10     9.300000         349000.000000   \n",
       "\n",
       "       cast$crew_total_facebook_likes  critic_review_ratio  \n",
       "count                     4695.000000          4695.000000  \n",
       "mean                     13183.841108             0.889734  \n",
       "std                      22608.899488             1.007769  \n",
       "min                          0.000000             0.037037  \n",
       "25%                       2231.000000             0.383346  \n",
       "50%                       4728.000000             0.622047  \n",
       "75%                      16756.500000             1.090909  \n",
       "max                     672015.000000            25.000000  "
      ]
     },
     "execution_count": 47,
     "metadata": {},
     "output_type": "execute_result"
    }
   ],
   "source": [
    "df.describe()"
   ]
  },
  {
   "cell_type": "code",
   "execution_count": 48,
   "id": "7d8130b8",
   "metadata": {},
   "outputs": [],
   "source": [
    "df1=df.copy()"
   ]
  },
  {
   "cell_type": "code",
   "execution_count": 49,
   "id": "1a0230bb",
   "metadata": {
    "scrolled": true
   },
   "outputs": [
    {
     "data": {
      "text/html": [
       "<div>\n",
       "<style scoped>\n",
       "    .dataframe tbody tr th:only-of-type {\n",
       "        vertical-align: middle;\n",
       "    }\n",
       "\n",
       "    .dataframe tbody tr th {\n",
       "        vertical-align: top;\n",
       "    }\n",
       "\n",
       "    .dataframe thead th {\n",
       "        text-align: right;\n",
       "    }\n",
       "</style>\n",
       "<table border=\"1\" class=\"dataframe\">\n",
       "  <thead>\n",
       "    <tr style=\"text-align: right;\">\n",
       "      <th></th>\n",
       "      <th>duration</th>\n",
       "      <th>actor_1_facebook_likes</th>\n",
       "      <th>gross</th>\n",
       "      <th>genres</th>\n",
       "      <th>num_voted_users</th>\n",
       "      <th>facenumber_in_poster</th>\n",
       "      <th>content_rating</th>\n",
       "      <th>budget</th>\n",
       "      <th>imdb_score</th>\n",
       "      <th>movie_facebook_likes</th>\n",
       "      <th>cast$crew_total_facebook_likes</th>\n",
       "      <th>critic_review_ratio</th>\n",
       "    </tr>\n",
       "  </thead>\n",
       "  <tbody>\n",
       "    <tr>\n",
       "      <th>0</th>\n",
       "      <td>178.0</td>\n",
       "      <td>1000.0</td>\n",
       "      <td>760505847.0</td>\n",
       "      <td>Action|Adventure|Fantasy|Sci-Fi</td>\n",
       "      <td>886204</td>\n",
       "      <td>0.0</td>\n",
       "      <td>PG-13</td>\n",
       "      <td>237000000.0</td>\n",
       "      <td>7.9</td>\n",
       "      <td>33000</td>\n",
       "      <td>6625.0</td>\n",
       "      <td>0.236739</td>\n",
       "    </tr>\n",
       "    <tr>\n",
       "      <th>1</th>\n",
       "      <td>169.0</td>\n",
       "      <td>40000.0</td>\n",
       "      <td>309404152.0</td>\n",
       "      <td>Action|Adventure|Fantasy</td>\n",
       "      <td>471220</td>\n",
       "      <td>0.0</td>\n",
       "      <td>PG-13</td>\n",
       "      <td>300000000.0</td>\n",
       "      <td>7.1</td>\n",
       "      <td>0</td>\n",
       "      <td>54913.0</td>\n",
       "      <td>0.243942</td>\n",
       "    </tr>\n",
       "  </tbody>\n",
       "</table>\n",
       "</div>"
      ],
      "text/plain": [
       "   duration  actor_1_facebook_likes        gross  \\\n",
       "0     178.0                  1000.0  760505847.0   \n",
       "1     169.0                 40000.0  309404152.0   \n",
       "\n",
       "                            genres  num_voted_users  facenumber_in_poster  \\\n",
       "0  Action|Adventure|Fantasy|Sci-Fi           886204                   0.0   \n",
       "1         Action|Adventure|Fantasy           471220                   0.0   \n",
       "\n",
       "  content_rating       budget  imdb_score  movie_facebook_likes  \\\n",
       "0          PG-13  237000000.0         7.9                 33000   \n",
       "1          PG-13  300000000.0         7.1                     0   \n",
       "\n",
       "   cast$crew_total_facebook_likes  critic_review_ratio  \n",
       "0                          6625.0             0.236739  \n",
       "1                         54913.0             0.243942  "
      ]
     },
     "execution_count": 49,
     "metadata": {},
     "output_type": "execute_result"
    }
   ],
   "source": [
    "df2=df.copy()\n",
    "df2.head(2)"
   ]
  },
  {
   "cell_type": "code",
   "execution_count": 50,
   "id": "77bf9814",
   "metadata": {},
   "outputs": [
    {
     "name": "stdout",
     "output_type": "stream",
     "text": [
      "Requirement already satisfied: scikit-learn in c:\\users\\admin\\anaconda3\\envs\\imdb_score\\lib\\site-packages (1.1.1)\n",
      "Requirement already satisfied: scipy>=1.3.2 in c:\\users\\admin\\anaconda3\\envs\\imdb_score\\lib\\site-packages (from scikit-learn) (1.8.1)\n",
      "Requirement already satisfied: numpy>=1.17.3 in c:\\users\\admin\\anaconda3\\envs\\imdb_score\\lib\\site-packages (from scikit-learn) (1.23.1)\n",
      "Requirement already satisfied: threadpoolctl>=2.0.0 in c:\\users\\admin\\anaconda3\\envs\\imdb_score\\lib\\site-packages (from scikit-learn) (3.1.0)\n",
      "Requirement already satisfied: joblib>=1.0.0 in c:\\users\\admin\\anaconda3\\envs\\imdb_score\\lib\\site-packages (from scikit-learn) (1.1.0)\n",
      "Note: you may need to restart the kernel to use updated packages.\n"
     ]
    }
   ],
   "source": [
    "%pip install scikit-learn"
   ]
  },
  {
   "cell_type": "code",
   "execution_count": 51,
   "id": "6387fb6f",
   "metadata": {},
   "outputs": [],
   "source": [
    "#Label encoding the categorical columns\n",
    "from sklearn.preprocessing import LabelEncoder\n",
    "le = LabelEncoder()\n",
    "cat_list=['genres','content_rating']\n",
    "df1[cat_list]=df1[cat_list].apply(lambda x:le.fit_transform(x))"
   ]
  },
  {
   "cell_type": "code",
   "execution_count": 52,
   "id": "c155df64",
   "metadata": {},
   "outputs": [
    {
     "data": {
      "text/html": [
       "<div>\n",
       "<style scoped>\n",
       "    .dataframe tbody tr th:only-of-type {\n",
       "        vertical-align: middle;\n",
       "    }\n",
       "\n",
       "    .dataframe tbody tr th {\n",
       "        vertical-align: top;\n",
       "    }\n",
       "\n",
       "    .dataframe thead th {\n",
       "        text-align: right;\n",
       "    }\n",
       "</style>\n",
       "<table border=\"1\" class=\"dataframe\">\n",
       "  <thead>\n",
       "    <tr style=\"text-align: right;\">\n",
       "      <th></th>\n",
       "      <th>duration</th>\n",
       "      <th>actor_1_facebook_likes</th>\n",
       "      <th>gross</th>\n",
       "      <th>genres</th>\n",
       "      <th>num_voted_users</th>\n",
       "      <th>facenumber_in_poster</th>\n",
       "      <th>content_rating</th>\n",
       "      <th>budget</th>\n",
       "      <th>imdb_score</th>\n",
       "      <th>movie_facebook_likes</th>\n",
       "      <th>cast$crew_total_facebook_likes</th>\n",
       "      <th>critic_review_ratio</th>\n",
       "    </tr>\n",
       "  </thead>\n",
       "  <tbody>\n",
       "    <tr>\n",
       "      <th>0</th>\n",
       "      <td>178.0</td>\n",
       "      <td>1000.0</td>\n",
       "      <td>760505847.0</td>\n",
       "      <td>101</td>\n",
       "      <td>886204</td>\n",
       "      <td>0.0</td>\n",
       "      <td>7</td>\n",
       "      <td>237000000.0</td>\n",
       "      <td>7.9</td>\n",
       "      <td>33000</td>\n",
       "      <td>6625.0</td>\n",
       "      <td>0.236739</td>\n",
       "    </tr>\n",
       "    <tr>\n",
       "      <th>1</th>\n",
       "      <td>169.0</td>\n",
       "      <td>40000.0</td>\n",
       "      <td>309404152.0</td>\n",
       "      <td>95</td>\n",
       "      <td>471220</td>\n",
       "      <td>0.0</td>\n",
       "      <td>7</td>\n",
       "      <td>300000000.0</td>\n",
       "      <td>7.1</td>\n",
       "      <td>0</td>\n",
       "      <td>54913.0</td>\n",
       "      <td>0.243942</td>\n",
       "    </tr>\n",
       "    <tr>\n",
       "      <th>2</th>\n",
       "      <td>148.0</td>\n",
       "      <td>11000.0</td>\n",
       "      <td>200074175.0</td>\n",
       "      <td>121</td>\n",
       "      <td>275868</td>\n",
       "      <td>1.0</td>\n",
       "      <td>7</td>\n",
       "      <td>245000000.0</td>\n",
       "      <td>6.8</td>\n",
       "      <td>85000</td>\n",
       "      <td>12254.0</td>\n",
       "      <td>0.605634</td>\n",
       "    </tr>\n",
       "    <tr>\n",
       "      <th>3</th>\n",
       "      <td>164.0</td>\n",
       "      <td>27000.0</td>\n",
       "      <td>448130642.0</td>\n",
       "      <td>278</td>\n",
       "      <td>1144337</td>\n",
       "      <td>0.0</td>\n",
       "      <td>7</td>\n",
       "      <td>250000000.0</td>\n",
       "      <td>8.5</td>\n",
       "      <td>164000</td>\n",
       "      <td>174759.0</td>\n",
       "      <td>0.301000</td>\n",
       "    </tr>\n",
       "    <tr>\n",
       "      <th>5</th>\n",
       "      <td>132.0</td>\n",
       "      <td>640.0</td>\n",
       "      <td>73058679.0</td>\n",
       "      <td>119</td>\n",
       "      <td>212204</td>\n",
       "      <td>1.0</td>\n",
       "      <td>7</td>\n",
       "      <td>263700000.0</td>\n",
       "      <td>6.6</td>\n",
       "      <td>24000</td>\n",
       "      <td>3510.0</td>\n",
       "      <td>0.626016</td>\n",
       "    </tr>\n",
       "  </tbody>\n",
       "</table>\n",
       "</div>"
      ],
      "text/plain": [
       "   duration  actor_1_facebook_likes        gross  genres  num_voted_users  \\\n",
       "0     178.0                  1000.0  760505847.0     101           886204   \n",
       "1     169.0                 40000.0  309404152.0      95           471220   \n",
       "2     148.0                 11000.0  200074175.0     121           275868   \n",
       "3     164.0                 27000.0  448130642.0     278          1144337   \n",
       "5     132.0                   640.0   73058679.0     119           212204   \n",
       "\n",
       "   facenumber_in_poster  content_rating       budget  imdb_score  \\\n",
       "0                   0.0               7  237000000.0         7.9   \n",
       "1                   0.0               7  300000000.0         7.1   \n",
       "2                   1.0               7  245000000.0         6.8   \n",
       "3                   0.0               7  250000000.0         8.5   \n",
       "5                   1.0               7  263700000.0         6.6   \n",
       "\n",
       "   movie_facebook_likes  cast$crew_total_facebook_likes  critic_review_ratio  \n",
       "0                 33000                          6625.0             0.236739  \n",
       "1                     0                         54913.0             0.243942  \n",
       "2                 85000                         12254.0             0.605634  \n",
       "3                164000                        174759.0             0.301000  \n",
       "5                 24000                          3510.0             0.626016  "
      ]
     },
     "execution_count": 52,
     "metadata": {},
     "output_type": "execute_result"
    }
   ],
   "source": [
    "#A sample of data after label encoding\n",
    "df1.head()"
   ]
  },
  {
   "cell_type": "code",
   "execution_count": 53,
   "id": "c358badb",
   "metadata": {},
   "outputs": [
    {
     "data": {
      "text/plain": [
       "<AxesSubplot:>"
      ]
     },
     "execution_count": 53,
     "metadata": {},
     "output_type": "execute_result"
    },
    {
     "data": {
      "image/png": "[encoded data removed]",
      "text/plain": [
       "<Figure size 1296x1296 with 2 Axes>"
      ]
     },
     "metadata": {
      "needs_background": "light"
     },
     "output_type": "display_data"
    }
   ],
   "source": [
    "#Plotting the Correlation between the numerical values of the Dataset\n",
    "_, ax = plt.subplots(figsize=(18, 18))\n",
    "sns.heatmap(df1.corr(), linewidths=.6, cmap='coolwarm', annot=True, ax=ax)"
   ]
  },
  {
   "cell_type": "code",
   "execution_count": 54,
   "id": "43272f7d",
   "metadata": {},
   "outputs": [],
   "source": [
    "# split the dataset into dependent(X) and Independent(Y) datasets\n",
    "X=df1.drop(['imdb_score'],axis=1)\n",
    "y = df1['imdb_score']"
   ]
  },
  {
   "cell_type": "code",
   "execution_count": 55,
   "id": "50ad408b",
   "metadata": {},
   "outputs": [],
   "source": [
    "# spliting the data into trainning and test dateset\n",
    "from sklearn.model_selection import train_test_split\n",
    "X_train, X_test,y_train, y_test=train_test_split(X,y,test_size=0.3,random_state=42)"
   ]
  },
  {
   "cell_type": "code",
   "execution_count": 56,
   "id": "81c13f6a",
   "metadata": {},
   "outputs": [],
   "source": [
    "# feature scaling using StandardScaler\n",
    "from sklearn.preprocessing import StandardScaler\n",
    "ss=StandardScaler()\n",
    "\n",
    "X_train=ss.fit_transform(X_train)\n",
    "X_test=ss.fit_transform(X_test)"
   ]
  },
  {
   "cell_type": "code",
   "execution_count": 57,
   "id": "df2e52e8",
   "metadata": {},
   "outputs": [],
   "source": [
    "#Linear Regressor\n",
    "from sklearn import linear_model\n",
    "lr=linear_model.LinearRegression()\n",
    "model=lr.fit(X_train,y_train)\n",
    "predictions=model.predict(X_test)"
   ]
  },
  {
   "cell_type": "code",
   "execution_count": 58,
   "id": "e9a2c6e0",
   "metadata": {},
   "outputs": [
    {
     "name": "stdout",
     "output_type": "stream",
     "text": [
      "MSE is: 0.9103521682872727\n"
     ]
    }
   ],
   "source": [
    "from sklearn.metrics import mean_squared_error\n",
    "print('MSE is:',mean_squared_error(y_test,predictions))"
   ]
  },
  {
   "cell_type": "code",
   "execution_count": 59,
   "id": "92b4f887",
   "metadata": {},
   "outputs": [
    {
     "name": "stdout",
     "output_type": "stream",
     "text": [
      "0.2839684436477252\n"
     ]
    }
   ],
   "source": [
    "from sklearn.metrics import r2_score as r2\n",
    "print(r2(y_test,predictions))"
   ]
  },
  {
   "cell_type": "code",
   "execution_count": 60,
   "id": "71aa3f14",
   "metadata": {},
   "outputs": [
    {
     "data": {
      "text/plain": [
       "<matplotlib.collections.PathCollection at 0x1f2c2fddde0>"
      ]
     },
     "execution_count": 60,
     "metadata": {},
     "output_type": "execute_result"
    },
    {
     "data": {
      "image/png": "[encoded data removed]",
      "text/plain": [
       "<Figure size 360x360 with 1 Axes>"
      ]
     },
     "metadata": {
      "needs_background": "light"
     },
     "output_type": "display_data"
    }
   ],
   "source": [
    "#Visualization of test and prediction data\n",
    "plt.figure(figsize=(5,5))\n",
    "plt.scatter(y_test,predictions)"
   ]
  },
  {
   "cell_type": "code",
   "execution_count": 61,
   "id": "7deeab57",
   "metadata": {},
   "outputs": [],
   "source": [
    "from sklearn.ensemble import RandomForestRegressor\n",
    "rf_regressor = RandomForestRegressor(n_estimators = 500)\n",
    "rf_regressor.fit(X_train, y_train)\n",
    "rf_pred = rf_regressor.predict(X_test)"
   ]
  },
  {
   "cell_type": "code",
   "execution_count": 62,
   "id": "121a6831",
   "metadata": {},
   "outputs": [
    {
     "data": {
      "text/plain": [
       "0.7502603529879346"
      ]
     },
     "execution_count": 62,
     "metadata": {},
     "output_type": "execute_result"
    }
   ],
   "source": [
    "mean_squared_error(rf_pred, y_test)"
   ]
  },
  {
   "cell_type": "code",
   "execution_count": null,
   "id": "898bb7f1",
   "metadata": {},
   "outputs": [],
   "source": []
  },
  {
   "cell_type": "code",
   "execution_count": 63,
   "id": "2e116c9c",
   "metadata": {},
   "outputs": [],
   "source": [
    "df2=df.copy()"
   ]
  },
  {
   "cell_type": "code",
   "execution_count": 64,
   "id": "61e36536",
   "metadata": {
    "scrolled": true
   },
   "outputs": [
    {
     "data": {
      "text/html": [
       "<div>\n",
       "<style scoped>\n",
       "    .dataframe tbody tr th:only-of-type {\n",
       "        vertical-align: middle;\n",
       "    }\n",
       "\n",
       "    .dataframe tbody tr th {\n",
       "        vertical-align: top;\n",
       "    }\n",
       "\n",
       "    .dataframe thead th {\n",
       "        text-align: right;\n",
       "    }\n",
       "</style>\n",
       "<table border=\"1\" class=\"dataframe\">\n",
       "  <thead>\n",
       "    <tr style=\"text-align: right;\">\n",
       "      <th></th>\n",
       "      <th>duration</th>\n",
       "      <th>actor_1_facebook_likes</th>\n",
       "      <th>gross</th>\n",
       "      <th>genres</th>\n",
       "      <th>num_voted_users</th>\n",
       "      <th>facenumber_in_poster</th>\n",
       "      <th>content_rating</th>\n",
       "      <th>budget</th>\n",
       "      <th>imdb_score</th>\n",
       "      <th>movie_facebook_likes</th>\n",
       "      <th>cast$crew_total_facebook_likes</th>\n",
       "      <th>critic_review_ratio</th>\n",
       "    </tr>\n",
       "  </thead>\n",
       "  <tbody>\n",
       "    <tr>\n",
       "      <th>0</th>\n",
       "      <td>178.0</td>\n",
       "      <td>1000.0</td>\n",
       "      <td>760505847.0</td>\n",
       "      <td>Action|Adventure|Fantasy|Sci-Fi</td>\n",
       "      <td>886204</td>\n",
       "      <td>0.0</td>\n",
       "      <td>PG-13</td>\n",
       "      <td>237000000.0</td>\n",
       "      <td>7.9</td>\n",
       "      <td>33000</td>\n",
       "      <td>6625.0</td>\n",
       "      <td>0.236739</td>\n",
       "    </tr>\n",
       "    <tr>\n",
       "      <th>1</th>\n",
       "      <td>169.0</td>\n",
       "      <td>40000.0</td>\n",
       "      <td>309404152.0</td>\n",
       "      <td>Action|Adventure|Fantasy</td>\n",
       "      <td>471220</td>\n",
       "      <td>0.0</td>\n",
       "      <td>PG-13</td>\n",
       "      <td>300000000.0</td>\n",
       "      <td>7.1</td>\n",
       "      <td>0</td>\n",
       "      <td>54913.0</td>\n",
       "      <td>0.243942</td>\n",
       "    </tr>\n",
       "    <tr>\n",
       "      <th>2</th>\n",
       "      <td>148.0</td>\n",
       "      <td>11000.0</td>\n",
       "      <td>200074175.0</td>\n",
       "      <td>Action|Adventure|Thriller</td>\n",
       "      <td>275868</td>\n",
       "      <td>1.0</td>\n",
       "      <td>PG-13</td>\n",
       "      <td>245000000.0</td>\n",
       "      <td>6.8</td>\n",
       "      <td>85000</td>\n",
       "      <td>12254.0</td>\n",
       "      <td>0.605634</td>\n",
       "    </tr>\n",
       "    <tr>\n",
       "      <th>3</th>\n",
       "      <td>164.0</td>\n",
       "      <td>27000.0</td>\n",
       "      <td>448130642.0</td>\n",
       "      <td>Action|Thriller</td>\n",
       "      <td>1144337</td>\n",
       "      <td>0.0</td>\n",
       "      <td>PG-13</td>\n",
       "      <td>250000000.0</td>\n",
       "      <td>8.5</td>\n",
       "      <td>164000</td>\n",
       "      <td>174759.0</td>\n",
       "      <td>0.301000</td>\n",
       "    </tr>\n",
       "    <tr>\n",
       "      <th>5</th>\n",
       "      <td>132.0</td>\n",
       "      <td>640.0</td>\n",
       "      <td>73058679.0</td>\n",
       "      <td>Action|Adventure|Sci-Fi</td>\n",
       "      <td>212204</td>\n",
       "      <td>1.0</td>\n",
       "      <td>PG-13</td>\n",
       "      <td>263700000.0</td>\n",
       "      <td>6.6</td>\n",
       "      <td>24000</td>\n",
       "      <td>3510.0</td>\n",
       "      <td>0.626016</td>\n",
       "    </tr>\n",
       "  </tbody>\n",
       "</table>\n",
       "</div>"
      ],
      "text/plain": [
       "   duration  actor_1_facebook_likes        gross  \\\n",
       "0     178.0                  1000.0  760505847.0   \n",
       "1     169.0                 40000.0  309404152.0   \n",
       "2     148.0                 11000.0  200074175.0   \n",
       "3     164.0                 27000.0  448130642.0   \n",
       "5     132.0                   640.0   73058679.0   \n",
       "\n",
       "                            genres  num_voted_users  facenumber_in_poster  \\\n",
       "0  Action|Adventure|Fantasy|Sci-Fi           886204                   0.0   \n",
       "1         Action|Adventure|Fantasy           471220                   0.0   \n",
       "2        Action|Adventure|Thriller           275868                   1.0   \n",
       "3                  Action|Thriller          1144337                   0.0   \n",
       "5          Action|Adventure|Sci-Fi           212204                   1.0   \n",
       "\n",
       "  content_rating       budget  imdb_score  movie_facebook_likes  \\\n",
       "0          PG-13  237000000.0         7.9                 33000   \n",
       "1          PG-13  300000000.0         7.1                     0   \n",
       "2          PG-13  245000000.0         6.8                 85000   \n",
       "3          PG-13  250000000.0         8.5                164000   \n",
       "5          PG-13  263700000.0         6.6                 24000   \n",
       "\n",
       "   cast$crew_total_facebook_likes  critic_review_ratio  \n",
       "0                          6625.0             0.236739  \n",
       "1                         54913.0             0.243942  \n",
       "2                         12254.0             0.605634  \n",
       "3                        174759.0             0.301000  \n",
       "5                          3510.0             0.626016  "
      ]
     },
     "execution_count": 64,
     "metadata": {},
     "output_type": "execute_result"
    }
   ],
   "source": [
    "df2.head()"
   ]
  },
  {
   "cell_type": "code",
   "execution_count": 65,
   "id": "24b50854",
   "metadata": {},
   "outputs": [
    {
     "data": {
      "text/html": [
       "<div>\n",
       "<style scoped>\n",
       "    .dataframe tbody tr th:only-of-type {\n",
       "        vertical-align: middle;\n",
       "    }\n",
       "\n",
       "    .dataframe tbody tr th {\n",
       "        vertical-align: top;\n",
       "    }\n",
       "\n",
       "    .dataframe thead th {\n",
       "        text-align: right;\n",
       "    }\n",
       "</style>\n",
       "<table border=\"1\" class=\"dataframe\">\n",
       "  <thead>\n",
       "    <tr style=\"text-align: right;\">\n",
       "      <th></th>\n",
       "      <th>duration</th>\n",
       "      <th>actor_1_facebook_likes</th>\n",
       "      <th>gross</th>\n",
       "      <th>num_voted_users</th>\n",
       "      <th>facenumber_in_poster</th>\n",
       "      <th>budget</th>\n",
       "      <th>imdb_score</th>\n",
       "      <th>movie_facebook_likes</th>\n",
       "      <th>cast$crew_total_facebook_likes</th>\n",
       "      <th>critic_review_ratio</th>\n",
       "    </tr>\n",
       "  </thead>\n",
       "  <tbody>\n",
       "    <tr>\n",
       "      <th>count</th>\n",
       "      <td>4695.000000</td>\n",
       "      <td>4695.000000</td>\n",
       "      <td>4.695000e+03</td>\n",
       "      <td>4.695000e+03</td>\n",
       "      <td>4695.000000</td>\n",
       "      <td>4.695000e+03</td>\n",
       "      <td>4695.000000</td>\n",
       "      <td>4695.000000</td>\n",
       "      <td>4695.000000</td>\n",
       "      <td>4695.000000</td>\n",
       "    </tr>\n",
       "    <tr>\n",
       "      <th>mean</th>\n",
       "      <td>108.644941</td>\n",
       "      <td>6828.262833</td>\n",
       "      <td>4.579718e+07</td>\n",
       "      <td>8.792591e+04</td>\n",
       "      <td>1.358679</td>\n",
       "      <td>3.936575e+07</td>\n",
       "      <td>6.431353</td>\n",
       "      <td>7792.492865</td>\n",
       "      <td>13183.841108</td>\n",
       "      <td>0.889734</td>\n",
       "    </tr>\n",
       "    <tr>\n",
       "      <th>std</th>\n",
       "      <td>22.546393</td>\n",
       "      <td>14992.885315</td>\n",
       "      <td>6.384423e+07</td>\n",
       "      <td>1.408106e+05</td>\n",
       "      <td>2.009775</td>\n",
       "      <td>2.028047e+08</td>\n",
       "      <td>1.098504</td>\n",
       "      <td>19625.770645</td>\n",
       "      <td>22608.899488</td>\n",
       "      <td>1.007769</td>\n",
       "    </tr>\n",
       "    <tr>\n",
       "      <th>min</th>\n",
       "      <td>14.000000</td>\n",
       "      <td>0.000000</td>\n",
       "      <td>1.620000e+02</td>\n",
       "      <td>5.000000e+00</td>\n",
       "      <td>0.000000</td>\n",
       "      <td>2.180000e+02</td>\n",
       "      <td>1.600000</td>\n",
       "      <td>0.000000</td>\n",
       "      <td>0.000000</td>\n",
       "      <td>0.037037</td>\n",
       "    </tr>\n",
       "    <tr>\n",
       "      <th>25%</th>\n",
       "      <td>94.000000</td>\n",
       "      <td>638.000000</td>\n",
       "      <td>8.026422e+06</td>\n",
       "      <td>1.085750e+04</td>\n",
       "      <td>0.000000</td>\n",
       "      <td>8.000000e+06</td>\n",
       "      <td>5.800000</td>\n",
       "      <td>0.000000</td>\n",
       "      <td>2231.000000</td>\n",
       "      <td>0.383346</td>\n",
       "    </tr>\n",
       "    <tr>\n",
       "      <th>50%</th>\n",
       "      <td>104.000000</td>\n",
       "      <td>1000.000000</td>\n",
       "      <td>2.594677e+07</td>\n",
       "      <td>3.819100e+04</td>\n",
       "      <td>1.000000</td>\n",
       "      <td>2.000000e+07</td>\n",
       "      <td>6.600000</td>\n",
       "      <td>180.000000</td>\n",
       "      <td>4728.000000</td>\n",
       "      <td>0.622047</td>\n",
       "    </tr>\n",
       "    <tr>\n",
       "      <th>75%</th>\n",
       "      <td>118.000000</td>\n",
       "      <td>11000.000000</td>\n",
       "      <td>5.428985e+07</td>\n",
       "      <td>1.020970e+05</td>\n",
       "      <td>2.000000</td>\n",
       "      <td>4.000000e+07</td>\n",
       "      <td>7.200000</td>\n",
       "      <td>5000.000000</td>\n",
       "      <td>16756.500000</td>\n",
       "      <td>1.090909</td>\n",
       "    </tr>\n",
       "    <tr>\n",
       "      <th>max</th>\n",
       "      <td>330.000000</td>\n",
       "      <td>640000.000000</td>\n",
       "      <td>7.605058e+08</td>\n",
       "      <td>1.689764e+06</td>\n",
       "      <td>43.000000</td>\n",
       "      <td>1.221550e+10</td>\n",
       "      <td>9.300000</td>\n",
       "      <td>349000.000000</td>\n",
       "      <td>672015.000000</td>\n",
       "      <td>25.000000</td>\n",
       "    </tr>\n",
       "  </tbody>\n",
       "</table>\n",
       "</div>"
      ],
      "text/plain": [
       "          duration  actor_1_facebook_likes         gross  num_voted_users  \\\n",
       "count  4695.000000             4695.000000  4.695000e+03     4.695000e+03   \n",
       "mean    108.644941             6828.262833  4.579718e+07     8.792591e+04   \n",
       "std      22.546393            14992.885315  6.384423e+07     1.408106e+05   \n",
       "min      14.000000                0.000000  1.620000e+02     5.000000e+00   \n",
       "25%      94.000000              638.000000  8.026422e+06     1.085750e+04   \n",
       "50%     104.000000             1000.000000  2.594677e+07     3.819100e+04   \n",
       "75%     118.000000            11000.000000  5.428985e+07     1.020970e+05   \n",
       "max     330.000000           640000.000000  7.605058e+08     1.689764e+06   \n",
       "\n",
       "       facenumber_in_poster        budget   imdb_score  movie_facebook_likes  \\\n",
       "count           4695.000000  4.695000e+03  4695.000000           4695.000000   \n",
       "mean               1.358679  3.936575e+07     6.431353           7792.492865   \n",
       "std                2.009775  2.028047e+08     1.098504          19625.770645   \n",
       "min                0.000000  2.180000e+02     1.600000              0.000000   \n",
       "25%                0.000000  8.000000e+06     5.800000              0.000000   \n",
       "50%                1.000000  2.000000e+07     6.600000            180.000000   \n",
       "75%                2.000000  4.000000e+07     7.200000           5000.000000   \n",
       "max               43.000000  1.221550e+10     9.300000         349000.000000   \n",
       "\n",
       "       cast$crew_total_facebook_likes  critic_review_ratio  \n",
       "count                     4695.000000          4695.000000  \n",
       "mean                     13183.841108             0.889734  \n",
       "std                      22608.899488             1.007769  \n",
       "min                          0.000000             0.037037  \n",
       "25%                       2231.000000             0.383346  \n",
       "50%                       4728.000000             0.622047  \n",
       "75%                      16756.500000             1.090909  \n",
       "max                     672015.000000            25.000000  "
      ]
     },
     "execution_count": 65,
     "metadata": {},
     "output_type": "execute_result"
    }
   ],
   "source": [
    "df2.describe()"
   ]
  },
  {
   "cell_type": "markdown",
   "id": "3b6d08b6",
   "metadata": {},
   "source": [
    "Transforming the right skwed features into logarithmic scale"
   ]
  },
  {
   "cell_type": "code",
   "execution_count": 66,
   "id": "41212f97",
   "metadata": {},
   "outputs": [],
   "source": [
    "df2['budget'] = np.log(df2['budget'])"
   ]
  },
  {
   "cell_type": "code",
   "execution_count": 67,
   "id": "e6898e7c",
   "metadata": {},
   "outputs": [],
   "source": [
    "df2['gross'] = np.log(df2['gross'])"
   ]
  },
  {
   "cell_type": "code",
   "execution_count": 68,
   "id": "020007a8",
   "metadata": {},
   "outputs": [],
   "source": [
    "df2['num_voted_users'] = np.log(df2['num_voted_users'])"
   ]
  },
  {
   "cell_type": "code",
   "execution_count": 69,
   "id": "449d17e3",
   "metadata": {},
   "outputs": [
    {
     "data": {
      "text/plain": [
       "(array(['Action|Adventure|Fantasy|Sci-Fi', 'Action|Adventure|Fantasy',\n",
       "        'Action|Adventure|Thriller', 'Action|Thriller',\n",
       "        'Action|Adventure|Sci-Fi', 'Action|Adventure|Romance',\n",
       "        'Adventure|Animation|Comedy|Family|Fantasy|Musical|Romance',\n",
       "        'Adventure|Family|Fantasy|Mystery', 'Action|Adventure',\n",
       "        'Action|Adventure|Western', 'Action|Adventure|Family|Fantasy',\n",
       "        'Action|Adventure|Comedy|Family|Fantasy|Sci-Fi',\n",
       "        'Adventure|Fantasy', 'Action|Adventure|Drama|History',\n",
       "        'Adventure|Family|Fantasy', 'Action|Adventure|Drama|Romance',\n",
       "        'Drama|Romance', 'Action|Adventure|Sci-Fi|Thriller',\n",
       "        'Action|Adventure|Fantasy|Romance',\n",
       "        'Action|Adventure|Fantasy|Sci-Fi|Thriller',\n",
       "        'Adventure|Animation|Comedy|Family|Fantasy',\n",
       "        'Adventure|Animation|Comedy|Family|Sport', 'Action|Crime|Thriller',\n",
       "        'Action|Adventure|Horror|Sci-Fi|Thriller',\n",
       "        'Adventure|Animation|Family|Sci-Fi',\n",
       "        'Action|Comedy|Crime|Thriller', 'Animation|Drama|Family|Fantasy',\n",
       "        'Action|Crime|Drama|Thriller', 'Adventure|Animation|Comedy|Family',\n",
       "        'Action|Adventure|Animation|Comedy|Family|Sci-Fi',\n",
       "        'Adventure|Drama|Family|Mystery', 'Action|Comedy|Sci-Fi|Western',\n",
       "        'Action|Adventure|Fantasy|Horror|Thriller',\n",
       "        'Action|Adventure|Comedy|Sci-Fi', 'Comedy|Family|Fantasy',\n",
       "        'Adventure|Animation|Comedy|Drama|Family|Fantasy',\n",
       "        'Adventure|Drama|Family|Fantasy', 'Action|Adventure|Drama|Fantasy',\n",
       "        'Action|Adventure|Family|Fantasy|Romance',\n",
       "        'Action|Adventure|Drama|Sci-Fi', 'Action|Adventure|Romance|Sci-Fi',\n",
       "        'Action|Adventure|Family|Mystery|Sci-Fi',\n",
       "        'Action|Adventure|Animation|Comedy|Drama|Family|Sci-Fi',\n",
       "        'Adventure|Animation|Comedy|Family|Sci-Fi',\n",
       "        'Adventure|Animation|Family|Fantasy', 'Action|Sci-Fi',\n",
       "        'Adventure|Drama|Sci-Fi', 'Action|Adventure|Drama|Horror|Sci-Fi',\n",
       "        'Drama|Fantasy|Romance', 'Adventure|Sci-Fi',\n",
       "        'Action|Adventure|Drama|Thriller',\n",
       "        'Action|Drama|History|Romance|War',\n",
       "        'Action|Adventure|Biography|Drama|History|Romance|War',\n",
       "        'Action|Drama', 'Drama|Horror|Sci-Fi',\n",
       "        'Adventure|Comedy|Family|Fantasy',\n",
       "        'Animation|Comedy|Family|Fantasy',\n",
       "        'Action|Adventure|Animation|Comedy|Family',\n",
       "        'Adventure|Animation|Comedy|Family|Fantasy|Musical',\n",
       "        'Mystery|Thriller', 'Adventure|Animation|Comedy|Drama|Family',\n",
       "        'Action|Adventure|Animation|Comedy|Family|Fantasy|Sci-Fi',\n",
       "        'Comedy|Fantasy|Horror', 'Drama|Fantasy|Horror|Thriller',\n",
       "        'Action|Drama|Thriller', 'Adventure',\n",
       "        'Action|Comedy|Fantasy|Sci-Fi',\n",
       "        'Action|Adventure|Comedy|Family|Fantasy|Mystery|Sci-Fi',\n",
       "        'Action|Adventure|Animation|Fantasy', 'Comedy|Crime',\n",
       "        'Action|Drama|History|War', 'Action|Adventure|Drama',\n",
       "        'Action|Adventure|Animation|Comedy|Family|Fantasy',\n",
       "        'Action|Drama|Mystery|Sci-Fi', 'Action|Adventure|Comedy|Thriller',\n",
       "        'Action|Adventure|Animation|Fantasy|Romance|Sci-Fi',\n",
       "        'Action|Adventure|Drama|History|War',\n",
       "        'Adventure|Drama|Fantasy|Romance',\n",
       "        'Animation|Comedy|Family|Musical',\n",
       "        'Adventure|Drama|Thriller|Western',\n",
       "        'Adventure|Animation|Comedy|Family|Western',\n",
       "        'Action|Mystery|Thriller', 'Adventure|Sci-Fi|Thriller',\n",
       "        'Adventure|Animation|Comedy|Family|Fantasy|Sci-Fi',\n",
       "        'Action|Crime|Mystery|Thriller', 'Action|Adventure|Family|Mystery',\n",
       "        'Adventure|Drama|Romance|War',\n",
       "        'Adventure|Animation|Family|Thriller',\n",
       "        'Action|Animation|Comedy|Family|Sci-Fi', 'Action|Comedy|Fantasy',\n",
       "        'Adventure|Animation|Comedy|Family|Musical',\n",
       "        'Action|Adventure|Crime|Mystery|Thriller',\n",
       "        'Action|Adventure|History', 'Action', 'Adventure|Drama|Fantasy',\n",
       "        'Action|Fantasy|Thriller', 'Action|Adventure|Comedy|Crime',\n",
       "        'Adventure|Mystery|Sci-Fi', 'Action|Drama|Sci-Fi|Thriller',\n",
       "        'Action|Crime|Sci-Fi|Thriller', 'Action|Family|Sport',\n",
       "        'Comedy|Drama|Romance', 'Action|Comedy|Romance',\n",
       "        'Action|Adventure|Mystery|Sci-Fi', 'Action|Drama|War',\n",
       "        'Adventure|Drama|Sci-Fi|Thriller',\n",
       "        'Action|Adventure|Comedy|Family|Fantasy', 'Crime|Thriller',\n",
       "        'Action|Comedy|Crime|Romance|Thriller', 'Biography|Drama',\n",
       "        'Action|Comedy|Crime|Sci-Fi|Thriller', 'Action|Drama|Fantasy|War',\n",
       "        'Animation|Comedy|Family|Music|Western',\n",
       "        'Action|Adventure|Mystery|Sci-Fi|Thriller',\n",
       "        'Action|Drama|Sci-Fi|Sport', 'Action|Crime|Romance|Thriller',\n",
       "        'Action|Adventure|Comedy', 'Biography|Drama|Sport',\n",
       "        'Action|Mystery|Sci-Fi|Thriller',\n",
       "        'Animation|Family|Fantasy|Musical|Romance',\n",
       "        'Action|Adventure|Romance|Sci-Fi|Thriller', 'Comedy|Romance',\n",
       "        'Action|Drama|Romance', 'Biography|Crime|Drama|History|Romance',\n",
       "        'Biography|Crime|Drama', 'Action|Comedy|Thriller',\n",
       "        'Action|Comedy|Crime', 'Action|Drama|Mystery|Thriller',\n",
       "        'Drama|Western', 'Animation|Drama|Family|Musical|Romance',\n",
       "        'Action|Adventure|Comedy|Family|Mystery',\n",
       "        'Action|Romance|Thriller', 'Action|Fantasy|Horror|Mystery',\n",
       "        'Adventure|Drama|Thriller', 'Biography|Comedy|Crime|Drama',\n",
       "        'Action|Sci-Fi|War', 'Drama|Sci-Fi',\n",
       "        'Action|Adventure|Animation|Family|Fantasy',\n",
       "        'Action|Crime|Fantasy|Romance|Thriller', 'Adventure|Comedy|Sci-Fi',\n",
       "        'Action|Crime|Sport|Thriller',\n",
       "        'Action|Adventure|Biography|Drama|History|Thriller',\n",
       "        'Action|Comedy|Sci-Fi', 'Action|Drama|Thriller|War',\n",
       "        'Drama|Mystery|Thriller', 'Action|Adventure|Fantasy|Thriller',\n",
       "        'Crime|Drama', 'Drama|History|Romance|War',\n",
       "        'Animation|Comedy|Family|Sport', 'Comedy|Sci-Fi|Thriller',\n",
       "        'Drama|History|War', 'Comedy',\n",
       "        'Adventure|Animation|Comedy|Family|Romance',\n",
       "        'Drama|Family|Fantasy|Romance', 'Drama|Fantasy|Thriller',\n",
       "        'Drama|Mystery|Romance|Sci-Fi|Thriller',\n",
       "        'Drama|History|War|Western', 'Action|Adventure|Animation|Family',\n",
       "        'Adventure|Comedy|Family|Mystery|Sci-Fi',\n",
       "        'Drama|Fantasy|Horror|Mystery|Thriller',\n",
       "        'Animation|Comedy|Family|Sci-Fi',\n",
       "        'Adventure|Comedy|Drama|Fantasy|Romance',\n",
       "        'Action|Adventure|Comedy|Crime|Thriller', 'Crime|Drama|Thriller',\n",
       "        'Adventure|Animation|Family|Fantasy|Musical|War', 'Action|Comedy',\n",
       "        'Crime|Drama|Mystery|Thriller',\n",
       "        'Action|Adventure|Animation|Family|Fantasy|Sci-Fi',\n",
       "        'Adventure|Animation|Comedy|Family|Fantasy|Music',\n",
       "        'Drama|History|Thriller|War', 'Action|Animation|Comedy|Sci-Fi',\n",
       "        'Comedy|Family|Fantasy|Horror|Mystery',\n",
       "        'Drama|Mystery|Sci-Fi|Thriller', 'Action|Horror|Sci-Fi|Thriller',\n",
       "        'Crime|Mystery|Thriller',\n",
       "        'Action|Adventure|Comedy|Crime|Mystery|Thriller',\n",
       "        'Comedy|Drama|Sci-Fi', 'Action|Family|Fantasy|Musical',\n",
       "        'Drama|History|Sport', 'Adventure|Drama|Romance',\n",
       "        'Animation|Comedy|Family|Music|Romance',\n",
       "        'Animation|Comedy|Family|Fantasy|Musical|Romance',\n",
       "        'Adventure|Comedy|Family', 'Action|Crime|Drama|Mystery|Thriller',\n",
       "        'Action|Adventure|Comedy|Fantasy', 'Comedy|Drama|Music|Musical',\n",
       "        'Adventure|Comedy|Drama|Family|Fantasy',\n",
       "        'Action|Comedy|Fantasy|Romance', 'Comedy|Romance|Sci-Fi',\n",
       "        'Adventure|Comedy|Mystery', 'Comedy|Drama|Fantasy|Romance',\n",
       "        'Action|Comedy|Family|Fantasy',\n",
       "        'Action|Adventure|Fantasy|Horror|Sci-Fi',\n",
       "        'Crime|Drama|History|Mystery|Thriller', 'Comedy|Drama',\n",
       "        'Adventure|Animation|Comedy|Drama|Family|Fantasy|Sci-Fi',\n",
       "        'Action|Drama|Romance|Sci-Fi|Thriller', 'Comedy|Crime|Sport',\n",
       "        'Comedy|Family|Fantasy|Romance',\n",
       "        'Adventure|Drama|History|Romance|War', 'Comedy|Family|Sci-Fi',\n",
       "        'Fantasy|Horror|Mystery|Thriller',\n",
       "        'Adventure|Animation|Comedy|Family|Fantasy|Sci-Fi|Sport',\n",
       "        'Adventure|Comedy|Crime|Family|Mystery', 'Drama|Sci-Fi|Thriller',\n",
       "        'Action|Crime|Mystery|Romance|Thriller',\n",
       "        'Action|Adventure|Comedy|Romance',\n",
       "        'Adventure|Animation|Family|Western', 'Comedy|Family|Romance',\n",
       "        'Action|Adventure|Family|Sci-Fi|Thriller',\n",
       "        'Animation|Family|Fantasy|Music',\n",
       "        'Action|Adventure|Family|Fantasy|Thriller', 'Comedy|Fantasy',\n",
       "        'Action|Adventure|Comedy|Fantasy|Thriller',\n",
       "        'Drama|Horror|Mystery|Sci-Fi', 'Action|Sci-Fi|Thriller',\n",
       "        'Drama|History|Thriller', 'Adventure|Animation|Family',\n",
       "        'Drama|Musical|Romance', 'Documentary|Drama',\n",
       "        'Action|Adventure|Drama|History|Romance',\n",
       "        'Adventure|Animation|Drama|Family|Musical',\n",
       "        'Animation|Comedy|Family|Fantasy|Sci-Fi',\n",
       "        'Adventure|Animation|Drama|Family|Fantasy', 'Sci-Fi|Thriller',\n",
       "        'Animation|Comedy|Family', 'Action|Crime|Fantasy|Thriller',\n",
       "        'Comedy|Drama|Family|Music|Musical|Romance',\n",
       "        'Horror|Mystery|Thriller', 'Action|Adventure|Comedy|Family|Sci-Fi',\n",
       "        'Comedy|Family', 'Biography|Comedy|Drama|History',\n",
       "        'Drama|Music|Musical', 'Comedy|Crime|Music',\n",
       "        'Action|Comedy|Romance|Thriller',\n",
       "        'Animation|Comedy|Family|Fantasy|Mystery',\n",
       "        'Comedy|Crime|Drama|Romance', 'Action|Adventure|Romance|Thriller',\n",
       "        'Drama|History|Romance', 'Action|Drama|Fantasy|Romance',\n",
       "        'Action|Adventure|Animation|Family|Sci-Fi', 'Action|Drama|Sci-Fi',\n",
       "        'Drama|Horror|Sci-Fi|Thriller', 'Animation|Comedy|Fantasy',\n",
       "        'Action|Fantasy', 'Action|Animation|Comedy|Family',\n",
       "        'Action|Adventure|Comedy|Romance|Thriller', 'Action|Comedy|Sport',\n",
       "        'Biography|Drama|History|War', 'Adventure|Animation|Comedy',\n",
       "        'Action|Drama|Sport', 'Adventure|Drama|Family',\n",
       "        'Drama|Mystery|Romance|Thriller',\n",
       "        'Adventure|Animation|Comedy|Family|Fantasy|Romance',\n",
       "        'Adventure|Drama|War', 'Action|Adventure|Crime|Thriller',\n",
       "        'Fantasy|Mystery|Romance|Sci-Fi|Thriller',\n",
       "        'Drama|Fantasy|Mystery|Thriller',\n",
       "        'Animation|Comedy|Family|Fantasy|Music',\n",
       "        'Drama|Horror|Romance|Thriller', 'Drama|War', 'Drama',\n",
       "        'Action|Drama|Fantasy|Horror|War',\n",
       "        'Adventure|Family|Fantasy|Romance',\n",
       "        'Adventure|Biography|Drama|History|War',\n",
       "        'Action|Adventure|Horror|Sci-Fi', 'Action|Fantasy|Horror',\n",
       "        'Comedy|Drama|Musical|Romance', 'Action|Sci-Fi|Sport',\n",
       "        'Action|Adventure|Animation|Comedy|Crime|Family|Fantasy',\n",
       "        'Adventure|Animation|Family|Fantasy|Musical',\n",
       "        'Action|Crime|Mystery|Sci-Fi|Thriller',\n",
       "        'Action|Comedy|Crime|Drama|Thriller',\n",
       "        'Adventure|Drama|History|Romance', 'Biography|Drama|Thriller',\n",
       "        'Action|Drama|History|Thriller', 'Action|Adventure|Fantasy|War',\n",
       "        'Comedy|Fantasy|Romance', 'Adventure|Drama|History',\n",
       "        'Action|Adventure|Comedy|Romance|Thriller|Western',\n",
       "        'Biography|Drama|Sport|War', 'Comedy|Drama|Family|Musical',\n",
       "        'Action|Adventure|Fantasy|Horror|Sci-Fi|Thriller', 'Drama|Sport',\n",
       "        'Action|Fantasy|Sci-Fi|Thriller', 'Drama|Mystery|Romance',\n",
       "        'Adventure|Biography|Drama|History|Sport|Thriller',\n",
       "        'Crime|Drama|Fantasy', 'Adventure|Biography|Crime|Drama|Western',\n",
       "        'Action|War', 'Comedy|Romance|Sport',\n",
       "        'Crime|Drama|Mystery|Thriller|Western', 'Comedy|Sport',\n",
       "        'Comedy|Drama|Family', 'Crime|Drama|Fantasy|Mystery',\n",
       "        'Adventure|Animation|Biography|Drama|Family|Fantasy|Musical',\n",
       "        'Drama|Romance|Western', 'Documentary|Music', 'Drama|Thriller',\n",
       "        'Animation|Family|Fantasy', 'Action|Fantasy|Horror|Sci-Fi',\n",
       "        'Biography|Comedy|Drama', 'Action|Horror|Sci-Fi',\n",
       "        'Adventure|Comedy', 'Biography|Drama|History|Sport',\n",
       "        'Comedy|Crime|Romance|Thriller', 'Comedy|Crime|Romance',\n",
       "        'Horror|Mystery|Sci-Fi|Thriller', 'Biography|Drama|Music',\n",
       "        'Drama|Fantasy|Sport', 'Adventure|Comedy|Drama|Music',\n",
       "        'Action|Fantasy|Horror|Sci-Fi|Thriller',\n",
       "        'Adventure|Animation|Comedy|Drama|Family|Fantasy|Romance',\n",
       "        'Horror|Sci-Fi|Thriller', 'Drama|Fantasy|Mystery|Romance|Thriller',\n",
       "        'Action|Adventure|Drama|History|Romance|War',\n",
       "        'Drama|Fantasy|Mystery|Romance', 'Fantasy|Horror|Mystery|Romance',\n",
       "        'Adventure|Comedy|Family|Romance|Sci-Fi', 'Drama|Horror|Thriller',\n",
       "        'Action|Comedy|Mystery|Romance',\n",
       "        'Action|Adventure|Comedy|Romance|Sci-Fi',\n",
       "        'Action|Biography|Drama|History|Thriller|War',\n",
       "        'Adventure|Comedy|Family|Fantasy|Horror',\n",
       "        'Comedy|Family|Romance|Sci-Fi', 'Action|Adventure|Thriller|War',\n",
       "        'Comedy|Drama|Romance|Sport', 'Comedy|Western',\n",
       "        'Action|Comedy|Crime|Drama', 'Drama|Music|Romance|War',\n",
       "        'Action|Comedy|Drama|Family|Thriller', 'Action|Crime',\n",
       "        'Adventure|Animation|Drama|Family|History|Musical|Romance',\n",
       "        'Action|Adventure|Drama|Romance|Sci-Fi',\n",
       "        'Action|Adventure|Comedy|Family|Romance',\n",
       "        'Action|Adventure|Comedy|Western',\n",
       "        'Biography|Drama|History|Musical',\n",
       "        'Adventure|Drama|Horror|Thriller', 'Action|Drama|Sport|Thriller',\n",
       "        'Drama|Musical|Romance|Thriller', 'Comedy|Drama|Family|Fantasy',\n",
       "        'Adventure|Comedy|Crime|Family|Musical',\n",
       "        'Drama|Music|Musical|Romance', 'Drama|Mystery|Romance|War',\n",
       "        'Crime|Drama|Romance', 'Crime|Horror|Mystery|Thriller',\n",
       "        'Adventure|Animation|Drama|Family|Fantasy|Musical|Mystery|Romance',\n",
       "        'Action|Horror|Thriller', 'Drama|History|Horror',\n",
       "        'Drama|Romance|Sport', 'Comedy|Family|Musical|Romance',\n",
       "        'Romance|Sci-Fi|Thriller', 'Biography|Comedy|Drama|Romance',\n",
       "        'Mystery|Sci-Fi|Thriller', 'Drama|Fantasy|Horror',\n",
       "        'Adventure|Comedy|Drama|Fantasy|Musical', 'Horror|Mystery',\n",
       "        'Action|Adventure|Family|Fantasy|Sci-Fi|Thriller',\n",
       "        'Adventure|Comedy|Family|Fantasy|Romance|Sport',\n",
       "        'Adventure|Horror|Mystery', 'Crime|Drama|Romance|Thriller',\n",
       "        'Comedy|Crime|Drama|Thriller', 'Drama|Fantasy',\n",
       "        'Adventure|Comedy|Drama', 'Action|Biography|Drama|History|War',\n",
       "        'Adventure|Comedy|Fantasy', 'Adventure|Comedy|Crime|Drama|Family',\n",
       "        'Action|Biography|Crime|Drama|Thriller', 'Comedy|Sci-Fi',\n",
       "        'Action|Adventure|Comedy|Crime|Music|Mystery',\n",
       "        'Comedy|Drama|Music', 'Action|Crime|Drama|Sci-Fi|Thriller',\n",
       "        'Horror|Thriller', 'Action|Adventure|Comedy|Drama|War',\n",
       "        'Drama|Mystery|Sci-Fi', 'Crime|Drama|Music',\n",
       "        'Adventure|Crime|Drama|Western', 'Comedy|Drama|Thriller',\n",
       "        'Drama|Romance|War', 'Action|Comedy|Crime|Music|Romance|Thriller',\n",
       "        'Crime|Romance|Thriller', 'Action|Adventure|Drama|Sci-Fi|Thriller',\n",
       "        'Action|Drama|Fantasy|Thriller|Western',\n",
       "        'Action|Drama|Mystery|Thriller|War', 'Action|Comedy|Crime|Romance',\n",
       "        'Action|Adventure|Family|Fantasy|Sci-Fi',\n",
       "        'Adventure|Comedy|Family|Musical', 'Action|Horror',\n",
       "        'Action|Adventure|Horror|Thriller', 'Comedy|Drama|Music|Romance',\n",
       "        'Action|Crime|Drama|Romance|Thriller',\n",
       "        'Comedy|Family|Romance|Sport', 'Drama|Family|Fantasy',\n",
       "        'Drama|Fantasy|Musical|Romance',\n",
       "        'Adventure|Comedy|Family|Fantasy|Sci-Fi', 'Comedy|Musical',\n",
       "        'Biography|Drama|History', 'Action|Crime|Drama|Thriller|War',\n",
       "        'Comedy|Crime|Thriller', 'Action|Animation|Comedy|Family|Fantasy',\n",
       "        'Biography|Drama|History|Thriller',\n",
       "        'Action|Adventure|Crime|Drama|Mystery|Thriller',\n",
       "        'Animation|Family|Fantasy|Musical', 'Adventure|Drama|Western',\n",
       "        'Biography|Drama|History|Romance', 'Drama|Horror|Mystery|Thriller',\n",
       "        'Action|Fantasy|Western', 'Drama|Music',\n",
       "        'Action|Drama|Family|Sport', 'Action|Biography|Drama|Thriller|War',\n",
       "        'Comedy|Drama|Sport', 'Adventure|Comedy|Sci-Fi|Western',\n",
       "        'Fantasy|Horror|Romance', 'Biography|Drama|Romance',\n",
       "        'Action|Adventure|Drama|Romance|War',\n",
       "        'Adventure|Comedy|Crime|Romance',\n",
       "        'Comedy|Drama|Family|Fantasy|Romance', 'Horror', 'Comedy|Music',\n",
       "        'Action|Adventure|Drama|Romance|Thriller',\n",
       "        'Biography|Drama|Music|Musical', 'Drama|History',\n",
       "        'Comedy|Music|Romance',\n",
       "        'Action|Adventure|Crime|Fantasy|Mystery|Thriller',\n",
       "        'Adventure|Drama|Mystery', 'Biography|Crime|Drama|Music',\n",
       "        'Crime|Drama|Horror|Thriller',\n",
       "        'Adventure|Animation|Comedy|Drama|Family|Fantasy|Musical',\n",
       "        'Action|Adventure|Comedy|Music|Thriller',\n",
       "        'Adventure|Animation|Comedy|Crime|Family',\n",
       "        'Comedy|Romance|Sci-Fi|Thriller', 'Comedy|Crime|Family|Romance',\n",
       "        'Crime|Horror|Thriller', 'Action|Horror|Mystery|Sci-Fi|Thriller',\n",
       "        'Comedy|Fantasy|Sci-Fi',\n",
       "        'Adventure|Animation|Comedy|Fantasy|Romance',\n",
       "        'Action|Adventure|Family|Thriller',\n",
       "        'Adventure|Comedy|Drama|Romance|Thriller|War',\n",
       "        'Adventure|Animation|Comedy|Fantasy|Music|Romance',\n",
       "        'Action|Drama|Fantasy', 'Action|Adventure|Drama|Fantasy|War',\n",
       "        'Drama|Fantasy|Romance|Sci-Fi',\n",
       "        'Animation|Comedy|Family|Horror|Sci-Fi',\n",
       "        'Biography|Drama|Romance|Sport', 'Action|Biography|Drama',\n",
       "        'Adventure|Drama', 'Horror|Mystery|Sci-Fi',\n",
       "        'Action|Adventure|Drama|Thriller|Western',\n",
       "        'Adventure|Family|Fantasy|Sci-Fi',\n",
       "        'Adventure|Comedy|History|Romance', 'Action|Biography|Drama|Sport',\n",
       "        'Drama|Family',\n",
       "        'Action|Adventure|Crime|Drama|Family|Fantasy|Romance|Thriller',\n",
       "        'Biography|Comedy|Romance', 'Action|Biography|Drama|History',\n",
       "        'Biography|Drama|War', 'Adventure|Comedy|Family|Sci-Fi',\n",
       "        'Biography|Drama|Family|History|Sport',\n",
       "        'Biography|Comedy|Drama|History|Music', 'Fantasy|Horror',\n",
       "        'Comedy|Drama|Family|Sport', 'Comedy|Drama|Romance|Sci-Fi',\n",
       "        'Adventure|Animation|Comedy|Family|War',\n",
       "        'Action|Comedy|Sci-Fi|Thriller', 'Comedy|Horror',\n",
       "        'Drama|Thriller|War', 'Action|Western',\n",
       "        'Action|Adventure|Family|Sci-Fi',\n",
       "        'Adventure|Biography|Drama|Thriller', 'Drama|Romance|War|Western',\n",
       "        'Action|Comedy|Crime|Western',\n",
       "        'Action|Adventure|Comedy|Drama|Thriller', 'Drama|Music|Romance',\n",
       "        'Action|Adventure|Crime|Drama|Thriller',\n",
       "        'Adventure|Comedy|Family|Sport', 'Comedy|Drama|Fantasy',\n",
       "        'Comedy|Family|Sport', 'Action|Adventure|Drama|Family',\n",
       "        'Action|Comedy|War', 'Drama|Family|Sport',\n",
       "        'Action|Thriller|Western', 'Action|Drama|Fantasy|Horror|Thriller',\n",
       "        'Animation|Comedy|Family|Fantasy|Musical',\n",
       "        'Action|Adventure|Comedy|Fantasy|Romance',\n",
       "        'Action|Crime|Drama|Mystery|Sci-Fi|Thriller',\n",
       "        'Adventure|Comedy|Crime|Drama', 'Drama|Mystery',\n",
       "        'Comedy|Fantasy|Horror|Thriller',\n",
       "        'Crime|Drama|Mystery|Sci-Fi|Thriller', 'Comedy|Crime|Musical',\n",
       "        'Comedy|Drama|Family|Music|Romance', 'Comedy|Horror|Romance',\n",
       "        'Comedy|Family|Fantasy|Sport',\n",
       "        'Animation|Comedy|Family|Mystery|Sci-Fi',\n",
       "        'Adventure|Comedy|Drama|Family|Sport',\n",
       "        'Animation|Drama|Family|Fantasy|Musical|Romance',\n",
       "        'Comedy|Horror|Musical|Sci-Fi', 'Crime|Drama|Sport',\n",
       "        'Action|Adventure|Animation|Drama|Mystery|Sci-Fi|Thriller',\n",
       "        'Action|Adventure|Crime|Drama|Romance', 'Action|Comedy|Horror',\n",
       "        'Adventure|Horror|Thriller', 'Adventure|Fantasy|Mystery',\n",
       "        'Action|Drama|Romance|Sport',\n",
       "        'Biography|Crime|Drama|History|Western',\n",
       "        'Action|Biography|Crime|Drama', 'Adventure|Animation|Fantasy',\n",
       "        'Adventure|Animation|Comedy|Fantasy',\n",
       "        'Biography|Drama|Music|Romance',\n",
       "        'Biography|Comedy|Crime|Drama|Romance|Thriller',\n",
       "        'Biography|Crime|Drama|History|Music',\n",
       "        'Adventure|Animation|Comedy|Drama|Family|Musical',\n",
       "        'Biography|Comedy|Drama|Music|Romance',\n",
       "        'Adventure|Animation|Sci-Fi', 'Drama|Romance|Thriller',\n",
       "        'Action|Fantasy|Horror|Thriller', 'Adventure|Biography',\n",
       "        'Action|Comedy|Family', 'Action|Horror|Romance',\n",
       "        'Adventure|Drama|History|Romance|Thriller|War',\n",
       "        'Action|Comedy|Crime|Music', 'Comedy|Drama|Family|Romance',\n",
       "        'Action|Drama|Fantasy|Mystery|Sci-Fi|Thriller',\n",
       "        'Adventure|Family|Fantasy|Horror|Mystery',\n",
       "        'Action|Crime|Drama|History|Western', 'Comedy|Crime|Drama',\n",
       "        'Comedy|Family|Fantasy|Music|Romance',\n",
       "        'Adventure|Comedy|Crime|Music',\n",
       "        'Action|Adventure|Comedy|Sci-Fi|Thriller',\n",
       "        'Action|Crime|Drama|Western',\n",
       "        'Action|Adventure|Comedy|Family|Romance|Sci-Fi',\n",
       "        'Action|Fantasy|Romance|Sci-Fi', 'Comedy|Crime|Mystery|Romance',\n",
       "        'Adventure|Family', 'Action|Drama|Music|Romance',\n",
       "        'Adventure|Comedy|Family|Fantasy|Horror|Mystery',\n",
       "        'Adventure|Fantasy|Mystery|Thriller',\n",
       "        'Action|Biography|Drama|History|Romance|Western',\n",
       "        'Fantasy|Horror|Mystery', 'Biography|Drama|Family',\n",
       "        'Action|Adventure|Comedy|Crime|Family|Romance|Thriller',\n",
       "        'Drama|Romance|Sci-Fi', 'Comedy|Fantasy|Horror|Romance',\n",
       "        'Comedy|Family|Music', 'Action|Comedy|Music',\n",
       "        'Adventure|Comedy|Crime', 'Biography|Comedy|Drama|Sport',\n",
       "        'Fantasy|Horror|Thriller', 'Comedy|Drama|Romance|Thriller',\n",
       "        'Adventure|Comedy|Family|Romance',\n",
       "        'Adventure|Family|Fantasy|Musical',\n",
       "        'Biography|Crime|Drama|History|Thriller', 'Crime|Drama|History',\n",
       "        'Biography|Drama|Thriller|War',\n",
       "        'Drama|Music|Mystery|Romance|Thriller',\n",
       "        'Action|Adventure|Fantasy|Horror', 'Fantasy',\n",
       "        'Crime|Drama|Mystery|Romance', 'Action|Adventure|History|Romance',\n",
       "        'Action|Drama|Western', 'Comedy|War',\n",
       "        'Adventure|Comedy|Family|Fantasy|Music|Sci-Fi',\n",
       "        'Adventure|Family|Fantasy|Music|Musical',\n",
       "        'Action|Adventure|Animation|Comedy|Fantasy',\n",
       "        'Adventure|Comedy|Horror|Sci-Fi', 'Horror|Sci-Fi',\n",
       "        'Biography|Comedy|Drama|Family|Sport',\n",
       "        'Action|Crime|Drama|Thriller|Western', 'Action|Drama|History',\n",
       "        'Drama|Fantasy|Romance|Thriller', 'Thriller', 'Comedy|Mystery',\n",
       "        'Comedy|Drama|Musical|Romance|War',\n",
       "        'Drama|History|Music|Romance|War', 'Comedy|History',\n",
       "        'Adventure|Animation|Family|Sport',\n",
       "        'Animation|Comedy|Fantasy|Musical', 'Action|Comedy|Documentary',\n",
       "        'Adventure|Comedy|Drama|Family|Romance',\n",
       "        'Adventure|Comedy|Drama|Family|Mystery',\n",
       "        'Drama|Family|Music|Romance', 'Fantasy|Romance',\n",
       "        'Adventure|Animation|Family|Musical',\n",
       "        'Animation|Comedy|Drama|Family|Musical',\n",
       "        'Biography|Crime|Drama|History',\n",
       "        'Adventure|Comedy|Fantasy|Music|Sci-Fi',\n",
       "        'Comedy|Drama|Musical|Romance|Western',\n",
       "        'Action|Adventure|Drama|Mystery',\n",
       "        'Comedy|Crime|Family|Mystery|Romance|Thriller',\n",
       "        'Action|Adventure|Drama|Romance|Western',\n",
       "        'Adventure|Crime|Mystery|Sci-Fi|Thriller', 'Crime|Drama|Western',\n",
       "        'Adventure|Comedy|Drama|Fantasy', 'Adventure|Biography|Drama',\n",
       "        'Adventure|Drama|Horror|Mystery|Thriller', 'Crime|Fantasy|Horror',\n",
       "        'Animation|Family|Fantasy|Mystery', 'Action|Comedy|Crime|Fantasy',\n",
       "        'Comedy|Family|Music|Musical', 'Crime|Documentary|News',\n",
       "        'Drama|Mystery|Romance|Thriller|War', 'Action|Crime|Drama|Sport',\n",
       "        'Drama|Fantasy|Horror|Mystery', 'Comedy|Drama|Music|War',\n",
       "        'Comedy|Musical|Romance', 'Comedy|Drama|Music|Musical|Romance',\n",
       "        'Comedy|Crime|Drama|Mystery|Romance',\n",
       "        'Biography|Comedy|Drama|History|Music|Musical',\n",
       "        'Animation|Drama|Mystery|Sci-Fi|Thriller',\n",
       "        'Adventure|Comedy|Drama|Romance',\n",
       "        'Comedy|Drama|Mystery|Romance|Thriller|War',\n",
       "        'Biography|Comedy|Musical',\n",
       "        'Action|Adventure|Animation|Family|Sci-Fi|Thriller',\n",
       "        'Crime|Drama|Mystery|Romance|Thriller',\n",
       "        'Comedy|Family|Fantasy|Sci-Fi',\n",
       "        'Action|Comedy|Crime|Fantasy|Horror|Mystery|Sci-Fi|Thriller',\n",
       "        'Crime|Drama|Mystery', 'Animation', 'Drama|Horror',\n",
       "        'Adventure|Comedy|Romance', 'Family|Fantasy|Music',\n",
       "        'Crime|Drama|Music|Thriller',\n",
       "        'Action|Drama|Fantasy|Mystery|Thriller',\n",
       "        'Biography|Drama|History|Music', 'Biography|Drama|Family|Sport',\n",
       "        'Comedy|Drama|War', 'Biography|Drama|Romance|War',\n",
       "        'Action|Horror|Romance|Sci-Fi|Thriller', 'Music',\n",
       "        'Action|Drama|History|Romance|War|Western',\n",
       "        'Action|Animation|Sci-Fi|Thriller',\n",
       "        'Action|Animation|Comedy|Crime|Family',\n",
       "        'Drama|Family|Music|Musical', 'Drama|Family|Musical|Romance',\n",
       "        'Comedy|Drama|Family|Fantasy|Sci-Fi',\n",
       "        'Comedy|Crime|Drama|Music|Romance',\n",
       "        'Adventure|Comedy|Family|Fantasy|Musical',\n",
       "        'Adventure|Crime|Drama|Romance', 'Biography|Crime|Drama|Thriller',\n",
       "        'Comedy|Mystery|Sci-Fi|Thriller', 'Sci-Fi', 'Drama|Fantasy|War',\n",
       "        'Action|Comedy|Crime|Family', 'Action|Comedy|Mystery',\n",
       "        'Comedy|Crime|Mystery', 'Action|Crime|Sci-Fi',\n",
       "        'Comedy|Horror|Sci-Fi', 'Action|Comedy|Drama|Thriller',\n",
       "        'Drama|Family|Romance', 'Adventure|Comedy|Family|Music|Romance',\n",
       "        'Comedy|Horror|Thriller', 'Comedy|Family|Music|Romance',\n",
       "        'Adventure|Fantasy|Horror|Mystery|Thriller',\n",
       "        'Crime|Drama|Musical|Romance', 'Family|Music|Romance',\n",
       "        'Biography|Drama|History|Thriller|War',\n",
       "        'Adventure|Crime|Drama|Mystery|Western',\n",
       "        'Drama|Fantasy|Horror|Romance', 'Comedy|Crime|Drama|Thriller|War',\n",
       "        'Action|Adventure|Drama|History|Thriller|War',\n",
       "        'Action|Comedy|Drama|War', 'Comedy|Drama|Fantasy|Music|Romance',\n",
       "        'Biography|Drama|Fantasy|History', 'Drama|Family|Music',\n",
       "        'Adventure|Mystery|Thriller', 'Comedy|Mystery|Romance',\n",
       "        'Biography|Crime|Drama|War', 'Crime|Drama|Music|Mystery|Thriller',\n",
       "        'Biography|Comedy|Drama|War', 'Comedy|Crime|Family|Sci-Fi',\n",
       "        'Adventure|Family|Sci-Fi', 'Adventure|Comedy|Romance|Sci-Fi',\n",
       "        'Action|Adventure|Comedy|Family',\n",
       "        'Biography|Comedy|Crime|Drama|Romance', 'Crime|Drama|Musical',\n",
       "        'Animation|Comedy|Crime|Drama|Family',\n",
       "        'Action|Adventure|Comedy|Fantasy|Mystery',\n",
       "        'Action|Adventure|Drama|Thriller|War', 'Crime|Drama|Music|Romance',\n",
       "        'Adventure|Animation|Comedy|Crime',\n",
       "        'Adventure|Comedy|Fantasy|Sci-Fi',\n",
       "        'Comedy|Drama|Family|Fantasy|Musical', 'Comedy|Crime|Family',\n",
       "        'Adventure|Drama|Thriller|War', 'Comedy|Drama|Horror|Sci-Fi',\n",
       "        'Adventure|Crime|Thriller', 'Mystery|Romance|Sci-Fi|Thriller',\n",
       "        'Fantasy|Mystery|Thriller',\n",
       "        'Adventure|Crime|Drama|Mystery|Thriller',\n",
       "        'Drama|Fantasy|Music|Romance', 'Adventure|Drama|History|War',\n",
       "        'Family|Sci-Fi', 'Adventure|Comedy|Music|Sci-Fi',\n",
       "        'Drama|Family|Musical', 'Action|Comedy|Drama|Music',\n",
       "        'Fantasy|Horror|Sci-Fi', 'Western', 'Comedy|Romance|Thriller',\n",
       "        'Biography|Crime|Drama|Romance',\n",
       "        'Adventure|Comedy|Drama|Romance|Sci-Fi',\n",
       "        'Drama|Music|Mystery|Romance', 'Action|Crime|Drama',\n",
       "        'Adventure|Biography|Drama|War', 'Action|Comedy|Drama',\n",
       "        'Comedy|Drama|Horror|Romance', 'Action|Comedy|Drama|Western',\n",
       "        'Comedy|Crime|Drama|Mystery',\n",
       "        'Adventure|Animation|Fantasy|Horror|Sci-Fi',\n",
       "        'Action|Drama|Romance|Thriller',\n",
       "        'Biography|Comedy|Drama|Family|Romance',\n",
       "        'Action|Biography|Drama|History|Romance|War',\n",
       "        'Action|Animation|Fantasy|Horror|Mystery|Sci-Fi|Thriller',\n",
       "        'Horror|Musical|Sci-Fi', 'Biography|Drama|Family|Musical|Romance',\n",
       "        'Comedy|Crime|Drama|Romance|Thriller',\n",
       "        'Animation|Comedy|Drama|Romance', 'Comedy|Crime|Musical|Romance',\n",
       "        'Comedy|Crime|Musical|Mystery', 'Action|Animation|Sci-Fi',\n",
       "        'Drama|War|Western', 'Drama|Romance|Sci-Fi|Thriller',\n",
       "        'Animation|Biography|Drama|War', 'Adventure|Fantasy|Thriller',\n",
       "        'Documentary|Sport', 'Crime|Horror',\n",
       "        'Adventure|Biography|Drama|History',\n",
       "        'Action|Crime|Horror|Sci-Fi|Thriller',\n",
       "        'Comedy|Fantasy|Horror|Mystery',\n",
       "        'Action|Adventure|Drama|Fantasy|Sci-Fi', 'Drama|Mystery|War',\n",
       "        'Action|Comedy|Crime|Drama|Romance|Thriller',\n",
       "        'Comedy|Drama|Musical', 'Mystery|Romance|Thriller',\n",
       "        'Adventure|Comedy|Drama|Family', 'Action|Adventure|Drama|Western',\n",
       "        'Musical|Romance', 'Documentary|Drama|War',\n",
       "        'Biography|Crime|Drama|Western', 'Comedy|Family|Fantasy|Musical',\n",
       "        'Crime|Drama|Musical|Romance|Thriller',\n",
       "        'Fantasy|Horror|Romance|Thriller',\n",
       "        'Adventure|Crime|Drama|Thriller', 'Documentary', 'Thriller|War',\n",
       "        'Action|Sport', 'Musical', 'Mystery|Western',\n",
       "        'Comedy|Drama|History|Romance', 'Comedy|Horror|Sci-Fi|Thriller',\n",
       "        'Drama|Horror|Mystery|Sci-Fi|Thriller', 'Comedy|Documentary',\n",
       "        'Adventure|Drama|Family|Fantasy|Sci-Fi',\n",
       "        'Adventure|Drama|Family|Romance|Western', 'Adventure|Horror',\n",
       "        'Comedy|Music|Sci-Fi', 'Biography|Crime|Drama|Romance|Thriller',\n",
       "        'Comedy|Crime|Drama|Mystery|Thriller',\n",
       "        'Biography|Crime|Drama|Mystery|Thriller',\n",
       "        'Crime|Horror|Music|Thriller', 'Crime|Documentary|War',\n",
       "        'Crime|Thriller|War', 'Comedy|Crime|Horror|Thriller',\n",
       "        'Animation|Comedy', 'Animation|Family', 'Comedy|Drama|Romance|War',\n",
       "        'Biography|Drama|Romance|Western', 'Drama|Musical',\n",
       "        'Adventure|Comedy|Western', 'Action|Drama|History|Thriller|War',\n",
       "        'Fantasy|Thriller', 'Drama|Horror|Mystery',\n",
       "        'Adventure|Drama|History|Thriller|War',\n",
       "        'Comedy|Documentary|Drama|Fantasy|Mystery|Sci-Fi',\n",
       "        'Crime|Drama|Fantasy|Romance', 'Action|Crime|Horror|Thriller',\n",
       "        'Comedy|Horror|Mystery', 'Drama|Family|History|Musical',\n",
       "        'Adventure|Biography|Drama|Romance', 'Adventure|War|Western',\n",
       "        'Biography|Comedy|Musical|Romance|Western',\n",
       "        'Adventure|Comedy|Musical|Romance', 'Comedy|Drama|Romance|Western',\n",
       "        'Action|Adventure|Comedy|Musical', 'Comedy|Drama|Fantasy|Horror',\n",
       "        'Action|Animation|Crime|Sci-Fi|Thriller',\n",
       "        'Action|Comedy|Horror|Thriller', 'Crime|Documentary|Drama',\n",
       "        'Biography|Comedy|Documentary', 'Comedy|Thriller',\n",
       "        'Comedy|Documentary|Music', 'Action|Adventure|Romance|Western',\n",
       "        'Crime|Drama|History|Romance', 'Family|Fantasy|Musical',\n",
       "        'Comedy|Drama|Horror', 'Drama|Horror|Romance',\n",
       "        'Adventure|Crime|Drama', 'Action|Adventure|Crime|Drama',\n",
       "        'Adventure|Family|Sport',\n",
       "        'Action|Adventure|Animation|Comedy|Sci-Fi',\n",
       "        'Drama|Fantasy|Romance|War', 'Documentary|History|Sport',\n",
       "        'Action|Drama|Horror|Thriller', 'Comedy|Crime|Drama|Sci-Fi',\n",
       "        'Comedy|Family|Musical|Romance|Short', 'Comedy|Documentary|War',\n",
       "        'Action|Comedy|Horror|Sci-Fi', 'Adventure|Drama|Romance|Western',\n",
       "        'Animation|Comedy|Drama', 'Adventure|Documentary|Drama|Sport',\n",
       "        'Crime|Documentary',\n",
       "        'Animation|Biography|Documentary|Drama|History|War',\n",
       "        'Documentary|War', 'Documentary|History',\n",
       "        'Biography|Documentary|History',\n",
       "        'Action|Adventure|Comedy|Drama|Music|Sci-Fi',\n",
       "        'Biography|Comedy|Drama|Music', 'Animation|Comedy|Family|Romance',\n",
       "        'Horror|Romance|Sci-Fi', 'Action|Comedy|Fantasy|Horror',\n",
       "        'Crime|Drama|Horror|Mystery|Thriller',\n",
       "        'Crime|Drama|Film-Noir|Mystery|Thriller',\n",
       "        'Comedy|Fantasy|Musical|Sci-Fi',\n",
       "        'Action|Adventure|History|Western',\n",
       "        'Biography|Crime|Documentary|History|Thriller',\n",
       "        'Crime|Drama|Film-Noir', 'Film-Noir|Mystery|Romance|Thriller',\n",
       "        'Comedy|Crime|Sci-Fi|Thriller', 'Adventure|Comedy|Horror',\n",
       "        'Drama|Film-Noir|Mystery|Thriller', 'Drama|Film-Noir',\n",
       "        'Crime|Film-Noir|Thriller', 'Action|Adventure|Romance|War',\n",
       "        'Action|Horror|Mystery|Thriller', 'Adventure|Comedy|Sport',\n",
       "        'Comedy|Horror|Musical', 'Adventure|Comedy|History',\n",
       "        'Action|Drama|Romance|War', 'Biography|Documentary|Music',\n",
       "        'Comedy|Fantasy|Mystery', 'Biography|Crime|Documentary|History',\n",
       "        'Adventure|Biography|Documentary|Drama',\n",
       "        'Action|Adventure|Comedy|Fantasy|Sci-Fi', 'Documentary|News',\n",
       "        'Comedy|Fantasy|Thriller', 'Animation|Drama|Family',\n",
       "        'Drama|Fantasy|Sci-Fi', 'Action|Comedy|Drama|Sci-Fi',\n",
       "        'Action|Adventure|Drama|War', 'Horror|Sci-Fi|Short|Thriller',\n",
       "        'Action|Adventure|Animation|Comedy|Fantasy|Sci-Fi',\n",
       "        'Thriller|Western', 'Documentary|Drama|Sport',\n",
       "        'Documentary|History|Music', 'Biography|Documentary|Drama',\n",
       "        'Adventure|Family|Romance',\n",
       "        'Adventure|Biography|Drama|Horror|Thriller',\n",
       "        'Documentary|Family|Music', 'Biography|Documentary|Sport',\n",
       "        'Action|Romance|Sport', 'Horror|Musical',\n",
       "        'Action|Biography|Documentary|Sport',\n",
       "        'Comedy|Fantasy|Horror|Musical', 'Biography|Documentary',\n",
       "        'Animation|Drama', 'Action|Fantasy|Horror|Mystery|Thriller',\n",
       "        'Action|Comedy|Sci-Fi|Sport',\n",
       "        'Animation|Comedy|Drama|Fantasy|Sci-Fi',\n",
       "        'Action|Drama|Fantasy|Sci-Fi',\n",
       "        'Adventure|Drama|Fantasy|Thriller|Western',\n",
       "        'Adventure|Horror|Sci-Fi', 'Comedy|Drama|History|Musical|Romance',\n",
       "        'Drama|Music|Mystery|Romance|Sci-Fi',\n",
       "        'Comedy|Crime|Drama|Horror|Thriller', 'Comedy|Documentary|Drama',\n",
       "        'Comedy|Crime|Horror'], dtype=object),\n",
       " 875)"
      ]
     },
     "execution_count": 69,
     "metadata": {},
     "output_type": "execute_result"
    }
   ],
   "source": [
    "df2.genres.unique(), df2.genres.nunique()"
   ]
  },
  {
   "cell_type": "code",
   "execution_count": 70,
   "id": "90620eb6",
   "metadata": {},
   "outputs": [],
   "source": [
    "df2['main_genre'] = df2['genres'].str.split('|').str[0]"
   ]
  },
  {
   "cell_type": "code",
   "execution_count": 71,
   "id": "8705057c",
   "metadata": {},
   "outputs": [
    {
     "data": {
      "text/plain": [
       "array(['Action', 'Adventure', 'Drama', 'Animation', 'Comedy', 'Mystery',\n",
       "       'Crime', 'Biography', 'Fantasy', 'Documentary', 'Sci-Fi', 'Horror',\n",
       "       'Romance', 'Thriller', 'Family', 'Music', 'Western', 'Musical',\n",
       "       'Film-Noir'], dtype=object)"
      ]
     },
     "execution_count": 71,
     "metadata": {},
     "output_type": "execute_result"
    }
   ],
   "source": [
    "df2.main_genre.unique()"
   ]
  },
  {
   "cell_type": "code",
   "execution_count": 72,
   "id": "3a1c6138",
   "metadata": {},
   "outputs": [],
   "source": [
    "from sklearn.preprocessing import LabelEncoder\n",
    "le = LabelEncoder()\n",
    "df2['main_genre'] = le.fit_transform(df2.main_genre)"
   ]
  },
  {
   "cell_type": "code",
   "execution_count": 73,
   "id": "fea99e09",
   "metadata": {},
   "outputs": [],
   "source": [
    "df2.drop('genres',axis=1,inplace=True)"
   ]
  },
  {
   "cell_type": "code",
   "execution_count": 74,
   "id": "ecaae15c",
   "metadata": {},
   "outputs": [
    {
     "data": {
      "text/html": [
       "<div>\n",
       "<style scoped>\n",
       "    .dataframe tbody tr th:only-of-type {\n",
       "        vertical-align: middle;\n",
       "    }\n",
       "\n",
       "    .dataframe tbody tr th {\n",
       "        vertical-align: top;\n",
       "    }\n",
       "\n",
       "    .dataframe thead th {\n",
       "        text-align: right;\n",
       "    }\n",
       "</style>\n",
       "<table border=\"1\" class=\"dataframe\">\n",
       "  <thead>\n",
       "    <tr style=\"text-align: right;\">\n",
       "      <th></th>\n",
       "      <th>duration</th>\n",
       "      <th>actor_1_facebook_likes</th>\n",
       "      <th>gross</th>\n",
       "      <th>num_voted_users</th>\n",
       "      <th>facenumber_in_poster</th>\n",
       "      <th>content_rating</th>\n",
       "      <th>budget</th>\n",
       "      <th>imdb_score</th>\n",
       "      <th>movie_facebook_likes</th>\n",
       "      <th>cast$crew_total_facebook_likes</th>\n",
       "      <th>critic_review_ratio</th>\n",
       "      <th>main_genre</th>\n",
       "    </tr>\n",
       "  </thead>\n",
       "  <tbody>\n",
       "    <tr>\n",
       "      <th>0</th>\n",
       "      <td>178.0</td>\n",
       "      <td>1000.0</td>\n",
       "      <td>20.449494</td>\n",
       "      <td>13.694702</td>\n",
       "      <td>0.0</td>\n",
       "      <td>PG-13</td>\n",
       "      <td>19.283571</td>\n",
       "      <td>7.9</td>\n",
       "      <td>33000</td>\n",
       "      <td>6625.0</td>\n",
       "      <td>0.236739</td>\n",
       "      <td>0</td>\n",
       "    </tr>\n",
       "    <tr>\n",
       "      <th>1</th>\n",
       "      <td>169.0</td>\n",
       "      <td>40000.0</td>\n",
       "      <td>19.550159</td>\n",
       "      <td>13.063080</td>\n",
       "      <td>0.0</td>\n",
       "      <td>PG-13</td>\n",
       "      <td>19.519293</td>\n",
       "      <td>7.1</td>\n",
       "      <td>0</td>\n",
       "      <td>54913.0</td>\n",
       "      <td>0.243942</td>\n",
       "      <td>0</td>\n",
       "    </tr>\n",
       "  </tbody>\n",
       "</table>\n",
       "</div>"
      ],
      "text/plain": [
       "   duration  actor_1_facebook_likes      gross  num_voted_users  \\\n",
       "0     178.0                  1000.0  20.449494        13.694702   \n",
       "1     169.0                 40000.0  19.550159        13.063080   \n",
       "\n",
       "   facenumber_in_poster content_rating     budget  imdb_score  \\\n",
       "0                   0.0          PG-13  19.283571         7.9   \n",
       "1                   0.0          PG-13  19.519293         7.1   \n",
       "\n",
       "   movie_facebook_likes  cast$crew_total_facebook_likes  critic_review_ratio  \\\n",
       "0                 33000                          6625.0             0.236739   \n",
       "1                     0                         54913.0             0.243942   \n",
       "\n",
       "   main_genre  \n",
       "0           0  \n",
       "1           0  "
      ]
     },
     "execution_count": 74,
     "metadata": {},
     "output_type": "execute_result"
    }
   ],
   "source": [
    "df2.head(2)"
   ]
  },
  {
   "cell_type": "code",
   "execution_count": 75,
   "id": "77cda85a",
   "metadata": {},
   "outputs": [],
   "source": [
    "le1 = LabelEncoder()\n",
    "df2['content_rating'] = le1.fit_transform(df2.content_rating)"
   ]
  },
  {
   "cell_type": "code",
   "execution_count": 76,
   "id": "1f23b5af",
   "metadata": {},
   "outputs": [
    {
     "data": {
      "text/html": [
       "<div>\n",
       "<style scoped>\n",
       "    .dataframe tbody tr th:only-of-type {\n",
       "        vertical-align: middle;\n",
       "    }\n",
       "\n",
       "    .dataframe tbody tr th {\n",
       "        vertical-align: top;\n",
       "    }\n",
       "\n",
       "    .dataframe thead th {\n",
       "        text-align: right;\n",
       "    }\n",
       "</style>\n",
       "<table border=\"1\" class=\"dataframe\">\n",
       "  <thead>\n",
       "    <tr style=\"text-align: right;\">\n",
       "      <th></th>\n",
       "      <th>duration</th>\n",
       "      <th>actor_1_facebook_likes</th>\n",
       "      <th>gross</th>\n",
       "      <th>num_voted_users</th>\n",
       "      <th>facenumber_in_poster</th>\n",
       "      <th>content_rating</th>\n",
       "      <th>budget</th>\n",
       "      <th>imdb_score</th>\n",
       "      <th>movie_facebook_likes</th>\n",
       "      <th>cast$crew_total_facebook_likes</th>\n",
       "      <th>critic_review_ratio</th>\n",
       "      <th>main_genre</th>\n",
       "    </tr>\n",
       "  </thead>\n",
       "  <tbody>\n",
       "    <tr>\n",
       "      <th>0</th>\n",
       "      <td>178.0</td>\n",
       "      <td>1000.0</td>\n",
       "      <td>20.449494</td>\n",
       "      <td>13.694702</td>\n",
       "      <td>0.0</td>\n",
       "      <td>7</td>\n",
       "      <td>19.283571</td>\n",
       "      <td>7.9</td>\n",
       "      <td>33000</td>\n",
       "      <td>6625.0</td>\n",
       "      <td>0.236739</td>\n",
       "      <td>0</td>\n",
       "    </tr>\n",
       "    <tr>\n",
       "      <th>1</th>\n",
       "      <td>169.0</td>\n",
       "      <td>40000.0</td>\n",
       "      <td>19.550159</td>\n",
       "      <td>13.063080</td>\n",
       "      <td>0.0</td>\n",
       "      <td>7</td>\n",
       "      <td>19.519293</td>\n",
       "      <td>7.1</td>\n",
       "      <td>0</td>\n",
       "      <td>54913.0</td>\n",
       "      <td>0.243942</td>\n",
       "      <td>0</td>\n",
       "    </tr>\n",
       "  </tbody>\n",
       "</table>\n",
       "</div>"
      ],
      "text/plain": [
       "   duration  actor_1_facebook_likes      gross  num_voted_users  \\\n",
       "0     178.0                  1000.0  20.449494        13.694702   \n",
       "1     169.0                 40000.0  19.550159        13.063080   \n",
       "\n",
       "   facenumber_in_poster  content_rating     budget  imdb_score  \\\n",
       "0                   0.0               7  19.283571         7.9   \n",
       "1                   0.0               7  19.519293         7.1   \n",
       "\n",
       "   movie_facebook_likes  cast$crew_total_facebook_likes  critic_review_ratio  \\\n",
       "0                 33000                          6625.0             0.236739   \n",
       "1                     0                         54913.0             0.243942   \n",
       "\n",
       "   main_genre  \n",
       "0           0  \n",
       "1           0  "
      ]
     },
     "execution_count": 76,
     "metadata": {},
     "output_type": "execute_result"
    }
   ],
   "source": [
    "df2.head(2)"
   ]
  },
  {
   "cell_type": "code",
   "execution_count": 77,
   "id": "d4597fce",
   "metadata": {},
   "outputs": [
    {
     "data": {
      "text/plain": [
       "Index(['duration', 'actor_1_facebook_likes', 'gross', 'num_voted_users',\n",
       "       'facenumber_in_poster', 'content_rating', 'budget', 'imdb_score',\n",
       "       'movie_facebook_likes', 'cast$crew_total_facebook_likes',\n",
       "       'critic_review_ratio', 'main_genre'],\n",
       "      dtype='object')"
      ]
     },
     "execution_count": 77,
     "metadata": {},
     "output_type": "execute_result"
    }
   ],
   "source": [
    "df2.columns"
   ]
  },
  {
   "cell_type": "code",
   "execution_count": 78,
   "id": "04d17607",
   "metadata": {},
   "outputs": [
    {
     "data": {
      "text/html": [
       "<div>\n",
       "<style scoped>\n",
       "    .dataframe tbody tr th:only-of-type {\n",
       "        vertical-align: middle;\n",
       "    }\n",
       "\n",
       "    .dataframe tbody tr th {\n",
       "        vertical-align: top;\n",
       "    }\n",
       "\n",
       "    .dataframe thead th {\n",
       "        text-align: right;\n",
       "    }\n",
       "</style>\n",
       "<table border=\"1\" class=\"dataframe\">\n",
       "  <thead>\n",
       "    <tr style=\"text-align: right;\">\n",
       "      <th></th>\n",
       "      <th>duration</th>\n",
       "      <th>actor_1_facebook_likes</th>\n",
       "      <th>gross</th>\n",
       "      <th>num_voted_users</th>\n",
       "      <th>facenumber_in_poster</th>\n",
       "      <th>content_rating</th>\n",
       "      <th>budget</th>\n",
       "      <th>imdb_score</th>\n",
       "      <th>movie_facebook_likes</th>\n",
       "      <th>cast$crew_total_facebook_likes</th>\n",
       "      <th>critic_review_ratio</th>\n",
       "      <th>main_genre</th>\n",
       "    </tr>\n",
       "  </thead>\n",
       "  <tbody>\n",
       "    <tr>\n",
       "      <th>count</th>\n",
       "      <td>4695.000000</td>\n",
       "      <td>4695.000000</td>\n",
       "      <td>4695.000000</td>\n",
       "      <td>4695.000000</td>\n",
       "      <td>4695.000000</td>\n",
       "      <td>4695.000000</td>\n",
       "      <td>4695.000000</td>\n",
       "      <td>4695.000000</td>\n",
       "      <td>4695.000000</td>\n",
       "      <td>4695.000000</td>\n",
       "      <td>4695.000000</td>\n",
       "      <td>4695.000000</td>\n",
       "    </tr>\n",
       "    <tr>\n",
       "      <th>mean</th>\n",
       "      <td>108.644941</td>\n",
       "      <td>6828.262833</td>\n",
       "      <td>16.529689</td>\n",
       "      <td>10.301123</td>\n",
       "      <td>1.358679</td>\n",
       "      <td>7.626198</td>\n",
       "      <td>16.551291</td>\n",
       "      <td>6.431353</td>\n",
       "      <td>7792.492865</td>\n",
       "      <td>13183.841108</td>\n",
       "      <td>0.889734</td>\n",
       "      <td>3.933120</td>\n",
       "    </tr>\n",
       "    <tr>\n",
       "      <th>std</th>\n",
       "      <td>22.546393</td>\n",
       "      <td>14992.885315</td>\n",
       "      <td>2.107065</td>\n",
       "      <td>1.750125</td>\n",
       "      <td>2.009775</td>\n",
       "      <td>1.950985</td>\n",
       "      <td>1.571256</td>\n",
       "      <td>1.098504</td>\n",
       "      <td>19625.770645</td>\n",
       "      <td>22608.899488</td>\n",
       "      <td>1.007769</td>\n",
       "      <td>3.347028</td>\n",
       "    </tr>\n",
       "    <tr>\n",
       "      <th>min</th>\n",
       "      <td>14.000000</td>\n",
       "      <td>0.000000</td>\n",
       "      <td>5.087596</td>\n",
       "      <td>1.609438</td>\n",
       "      <td>0.000000</td>\n",
       "      <td>0.000000</td>\n",
       "      <td>5.384495</td>\n",
       "      <td>1.600000</td>\n",
       "      <td>0.000000</td>\n",
       "      <td>0.000000</td>\n",
       "      <td>0.037037</td>\n",
       "      <td>0.000000</td>\n",
       "    </tr>\n",
       "    <tr>\n",
       "      <th>25%</th>\n",
       "      <td>94.000000</td>\n",
       "      <td>638.000000</td>\n",
       "      <td>15.898249</td>\n",
       "      <td>9.292609</td>\n",
       "      <td>0.000000</td>\n",
       "      <td>7.000000</td>\n",
       "      <td>15.894952</td>\n",
       "      <td>5.800000</td>\n",
       "      <td>0.000000</td>\n",
       "      <td>2231.000000</td>\n",
       "      <td>0.383346</td>\n",
       "      <td>1.000000</td>\n",
       "    </tr>\n",
       "    <tr>\n",
       "      <th>50%</th>\n",
       "      <td>104.000000</td>\n",
       "      <td>1000.000000</td>\n",
       "      <td>17.071558</td>\n",
       "      <td>10.550355</td>\n",
       "      <td>1.000000</td>\n",
       "      <td>7.000000</td>\n",
       "      <td>16.811243</td>\n",
       "      <td>6.600000</td>\n",
       "      <td>180.000000</td>\n",
       "      <td>4728.000000</td>\n",
       "      <td>0.622047</td>\n",
       "      <td>4.000000</td>\n",
       "    </tr>\n",
       "    <tr>\n",
       "      <th>75%</th>\n",
       "      <td>118.000000</td>\n",
       "      <td>11000.000000</td>\n",
       "      <td>17.809848</td>\n",
       "      <td>11.533679</td>\n",
       "      <td>2.000000</td>\n",
       "      <td>9.000000</td>\n",
       "      <td>17.504390</td>\n",
       "      <td>7.200000</td>\n",
       "      <td>5000.000000</td>\n",
       "      <td>16756.500000</td>\n",
       "      <td>1.090909</td>\n",
       "      <td>7.000000</td>\n",
       "    </tr>\n",
       "    <tr>\n",
       "      <th>max</th>\n",
       "      <td>330.000000</td>\n",
       "      <td>640000.000000</td>\n",
       "      <td>20.449494</td>\n",
       "      <td>14.340099</td>\n",
       "      <td>43.000000</td>\n",
       "      <td>14.000000</td>\n",
       "      <td>23.225971</td>\n",
       "      <td>9.300000</td>\n",
       "      <td>349000.000000</td>\n",
       "      <td>672015.000000</td>\n",
       "      <td>25.000000</td>\n",
       "      <td>18.000000</td>\n",
       "    </tr>\n",
       "  </tbody>\n",
       "</table>\n",
       "</div>"
      ],
      "text/plain": [
       "          duration  actor_1_facebook_likes        gross  num_voted_users  \\\n",
       "count  4695.000000             4695.000000  4695.000000      4695.000000   \n",
       "mean    108.644941             6828.262833    16.529689        10.301123   \n",
       "std      22.546393            14992.885315     2.107065         1.750125   \n",
       "min      14.000000                0.000000     5.087596         1.609438   \n",
       "25%      94.000000              638.000000    15.898249         9.292609   \n",
       "50%     104.000000             1000.000000    17.071558        10.550355   \n",
       "75%     118.000000            11000.000000    17.809848        11.533679   \n",
       "max     330.000000           640000.000000    20.449494        14.340099   \n",
       "\n",
       "       facenumber_in_poster  content_rating       budget   imdb_score  \\\n",
       "count           4695.000000     4695.000000  4695.000000  4695.000000   \n",
       "mean               1.358679        7.626198    16.551291     6.431353   \n",
       "std                2.009775        1.950985     1.571256     1.098504   \n",
       "min                0.000000        0.000000     5.384495     1.600000   \n",
       "25%                0.000000        7.000000    15.894952     5.800000   \n",
       "50%                1.000000        7.000000    16.811243     6.600000   \n",
       "75%                2.000000        9.000000    17.504390     7.200000   \n",
       "max               43.000000       14.000000    23.225971     9.300000   \n",
       "\n",
       "       movie_facebook_likes  cast$crew_total_facebook_likes  \\\n",
       "count           4695.000000                     4695.000000   \n",
       "mean            7792.492865                    13183.841108   \n",
       "std            19625.770645                    22608.899488   \n",
       "min                0.000000                        0.000000   \n",
       "25%                0.000000                     2231.000000   \n",
       "50%              180.000000                     4728.000000   \n",
       "75%             5000.000000                    16756.500000   \n",
       "max           349000.000000                   672015.000000   \n",
       "\n",
       "       critic_review_ratio   main_genre  \n",
       "count          4695.000000  4695.000000  \n",
       "mean              0.889734     3.933120  \n",
       "std               1.007769     3.347028  \n",
       "min               0.037037     0.000000  \n",
       "25%               0.383346     1.000000  \n",
       "50%               0.622047     4.000000  \n",
       "75%               1.090909     7.000000  \n",
       "max              25.000000    18.000000  "
      ]
     },
     "execution_count": 78,
     "metadata": {},
     "output_type": "execute_result"
    }
   ],
   "source": [
    "df2.describe()"
   ]
  },
  {
   "cell_type": "code",
   "execution_count": null,
   "id": "776b757f",
   "metadata": {},
   "outputs": [],
   "source": []
  },
  {
   "cell_type": "code",
   "execution_count": null,
   "id": "77ca2984",
   "metadata": {},
   "outputs": [],
   "source": []
  },
  {
   "cell_type": "code",
   "execution_count": 79,
   "id": "37a44148",
   "metadata": {},
   "outputs": [],
   "source": [
    "# split the dataset into dependent(X) and Independent(Y) datasets\n",
    "X=df2.drop(['imdb_score'],axis=1)\n",
    "y = df2['imdb_score']"
   ]
  },
  {
   "cell_type": "code",
   "execution_count": 80,
   "id": "98c2776a",
   "metadata": {},
   "outputs": [],
   "source": [
    "# spliting the data into trainning and test dateset\n",
    "from sklearn.model_selection import train_test_split\n",
    "X_train, X_test,y_train, y_test=train_test_split(X,y,test_size=0.3,random_state=42)"
   ]
  },
  {
   "cell_type": "code",
   "execution_count": 81,
   "id": "3e3ad482",
   "metadata": {},
   "outputs": [],
   "source": [
    "#Linear Regressor\n",
    "from sklearn import linear_model\n",
    "lr=linear_model.LinearRegression()\n",
    "model=lr.fit(X_train,y_train)\n",
    "predictions=model.predict(X_test)"
   ]
  },
  {
   "cell_type": "code",
   "execution_count": 82,
   "id": "65f60fd4",
   "metadata": {},
   "outputs": [
    {
     "name": "stdout",
     "output_type": "stream",
     "text": [
      "MSE is: 0.790867130152061\n"
     ]
    }
   ],
   "source": [
    "from sklearn.metrics import mean_squared_error\n",
    "print('MSE is:',mean_squared_error(y_test,predictions))"
   ]
  },
  {
   "cell_type": "code",
   "execution_count": 83,
   "id": "bda7f6d9",
   "metadata": {},
   "outputs": [
    {
     "name": "stdout",
     "output_type": "stream",
     "text": [
      "0.37794862054753864\n"
     ]
    }
   ],
   "source": [
    "from sklearn.metrics import r2_score as r2\n",
    "print(r2(y_test,predictions))"
   ]
  },
  {
   "cell_type": "code",
   "execution_count": 84,
   "id": "4959aa4e",
   "metadata": {},
   "outputs": [
    {
     "data": {
      "text/plain": [
       "<matplotlib.collections.PathCollection at 0x1f2c32e7370>"
      ]
     },
     "execution_count": 84,
     "metadata": {},
     "output_type": "execute_result"
    },
    {
     "data": {
      "image/png": "[encoded data removed]",
      "text/plain": [
       "<Figure size 360x360 with 1 Axes>"
      ]
     },
     "metadata": {
      "needs_background": "light"
     },
     "output_type": "display_data"
    }
   ],
   "source": [
    "#Visualization of test and prediction data\n",
    "plt.figure(figsize=(5,5))\n",
    "plt.scatter(y_test,predictions)"
   ]
  },
  {
   "cell_type": "code",
   "execution_count": 85,
   "id": "d710aef6",
   "metadata": {},
   "outputs": [],
   "source": [
    "from sklearn.ensemble import RandomForestRegressor\n",
    "rf_regressor = RandomForestRegressor(n_estimators = 500)\n",
    "rf_regressor.fit(X_train, y_train)\n",
    "rf_pred = rf_regressor.predict(X_test)"
   ]
  },
  {
   "cell_type": "code",
   "execution_count": 86,
   "id": "66c7584e",
   "metadata": {},
   "outputs": [
    {
     "data": {
      "text/plain": [
       "0.6058158260610365"
      ]
     },
     "execution_count": 86,
     "metadata": {},
     "output_type": "execute_result"
    }
   ],
   "source": [
    "mean_squared_error(rf_pred, y_test)"
   ]
  },
  {
   "cell_type": "code",
   "execution_count": 114,
   "id": "3f0d47a7",
   "metadata": {},
   "outputs": [
    {
     "name": "stdout",
     "output_type": "stream",
     "text": [
      "-0.021542773128799375\n"
     ]
    }
   ],
   "source": [
    "from sklearn.metrics import r2_score as r2\n",
    "print(r2(rf_pred, y_test))"
   ]
  },
  {
   "cell_type": "markdown",
   "id": "f7172c7c",
   "metadata": {},
   "source": [
    "# Hyperparameter tuning with random forest regressor"
   ]
  },
  {
   "cell_type": "code",
   "execution_count": 87,
   "id": "95f7a874",
   "metadata": {},
   "outputs": [
    {
     "name": "stdout",
     "output_type": "stream",
     "text": [
      "Fitting 3 folds for each of 48 candidates, totalling 144 fits\n"
     ]
    },
    {
     "data": {
      "text/html": [
       "<style>#sk-container-id-1 {color: black;background-color: white;}#sk-container-id-1 pre{padding: 0;}#sk-container-id-1 div.sk-toggleable {background-color: white;}#sk-container-id-1 label.sk-toggleable__label {cursor: pointer;display: block;width: 100%;margin-bottom: 0;padding: 0.3em;box-sizing: border-box;text-align: center;}#sk-container-id-1 label.sk-toggleable__label-arrow:before {content: \"▸\";float: left;margin-right: 0.25em;color: #696969;}#sk-container-id-1 label.sk-toggleable__label-arrow:hover:before {color: black;}#sk-container-id-1 div.sk-estimator:hover label.sk-toggleable__label-arrow:before {color: black;}#sk-container-id-1 div.sk-toggleable__content {max-height: 0;max-width: 0;overflow: hidden;text-align: left;background-color: #f0f8ff;}#sk-container-id-1 div.sk-toggleable__content pre {margin: 0.2em;color: black;border-radius: 0.25em;background-color: #f0f8ff;}#sk-container-id-1 input.sk-toggleable__control:checked~div.sk-toggleable__content {max-height: 200px;max-width: 100%;overflow: auto;}#sk-container-id-1 input.sk-toggleable__control:checked~label.sk-toggleable__label-arrow:before {content: \"▾\";}#sk-container-id-1 div.sk-estimator input.sk-toggleable__control:checked~label.sk-toggleable__label {background-color: #d4ebff;}#sk-container-id-1 div.sk-label input.sk-toggleable__control:checked~label.sk-toggleable__label {background-color: #d4ebff;}#sk-container-id-1 input.sk-hidden--visually {border: 0;clip: rect(1px 1px 1px 1px);clip: rect(1px, 1px, 1px, 1px);height: 1px;margin: -1px;overflow: hidden;padding: 0;position: absolute;width: 1px;}#sk-container-id-1 div.sk-estimator {font-family: monospace;background-color: #f0f8ff;border: 1px dotted black;border-radius: 0.25em;box-sizing: border-box;margin-bottom: 0.5em;}#sk-container-id-1 div.sk-estimator:hover {background-color: #d4ebff;}#sk-container-id-1 div.sk-parallel-item::after {content: \"\";width: 100%;border-bottom: 1px solid gray;flex-grow: 1;}#sk-container-id-1 div.sk-label:hover label.sk-toggleable__label {background-color: #d4ebff;}#sk-container-id-1 div.sk-serial::before {content: \"\";position: absolute;border-left: 1px solid gray;box-sizing: border-box;top: 0;bottom: 0;left: 50%;z-index: 0;}#sk-container-id-1 div.sk-serial {display: flex;flex-direction: column;align-items: center;background-color: white;padding-right: 0.2em;padding-left: 0.2em;position: relative;}#sk-container-id-1 div.sk-item {position: relative;z-index: 1;}#sk-container-id-1 div.sk-parallel {display: flex;align-items: stretch;justify-content: center;background-color: white;position: relative;}#sk-container-id-1 div.sk-item::before, #sk-container-id-1 div.sk-parallel-item::before {content: \"\";position: absolute;border-left: 1px solid gray;box-sizing: border-box;top: 0;bottom: 0;left: 50%;z-index: -1;}#sk-container-id-1 div.sk-parallel-item {display: flex;flex-direction: column;z-index: 1;position: relative;background-color: white;}#sk-container-id-1 div.sk-parallel-item:first-child::after {align-self: flex-end;width: 50%;}#sk-container-id-1 div.sk-parallel-item:last-child::after {align-self: flex-start;width: 50%;}#sk-container-id-1 div.sk-parallel-item:only-child::after {width: 0;}#sk-container-id-1 div.sk-dashed-wrapped {border: 1px dashed gray;margin: 0 0.4em 0.5em 0.4em;box-sizing: border-box;padding-bottom: 0.4em;background-color: white;}#sk-container-id-1 div.sk-label label {font-family: monospace;font-weight: bold;display: inline-block;line-height: 1.2em;}#sk-container-id-1 div.sk-label-container {text-align: center;}#sk-container-id-1 div.sk-container {/* jupyter's `normalize.less` sets `[hidden] { display: none; }` but bootstrap.min.css set `[hidden] { display: none !important; }` so we also need the `!important` here to be able to override the default hidden behavior on the sphinx rendered scikit-learn.org. See: https://github.com/scikit-learn/scikit-learn/issues/21755 */display: inline-block !important;position: relative;}#sk-container-id-1 div.sk-text-repr-fallback {display: none;}</style><div id=\"sk-container-id-1\" class=\"sk-top-container\"><div class=\"sk-text-repr-fallback\"><pre>GridSearchCV(cv=3, estimator=RandomForestRegressor(), n_jobs=-1,\n",
       "             param_grid={&#x27;bootstrap&#x27;: [True], &#x27;max_depth&#x27;: [90, 100],\n",
       "                         &#x27;max_features&#x27;: [2, 3], &#x27;min_samples_leaf&#x27;: [3, 4],\n",
       "                         &#x27;min_samples_split&#x27;: [8, 10],\n",
       "                         &#x27;n_estimators&#x27;: [100, 500, 1000]},\n",
       "             verbose=2)</pre><b>In a Jupyter environment, please rerun this cell to show the HTML representation or trust the notebook. <br />On GitHub, the HTML representation is unable to render, please try loading this page with nbviewer.org.</b></div><div class=\"sk-container\" hidden><div class=\"sk-item sk-dashed-wrapped\"><div class=\"sk-label-container\"><div class=\"sk-label sk-toggleable\"><input class=\"sk-toggleable__control sk-hidden--visually\" id=\"sk-estimator-id-1\" type=\"checkbox\" ><label for=\"sk-estimator-id-1\" class=\"sk-toggleable__label sk-toggleable__label-arrow\">GridSearchCV</label><div class=\"sk-toggleable__content\"><pre>GridSearchCV(cv=3, estimator=RandomForestRegressor(), n_jobs=-1,\n",
       "             param_grid={&#x27;bootstrap&#x27;: [True], &#x27;max_depth&#x27;: [90, 100],\n",
       "                         &#x27;max_features&#x27;: [2, 3], &#x27;min_samples_leaf&#x27;: [3, 4],\n",
       "                         &#x27;min_samples_split&#x27;: [8, 10],\n",
       "                         &#x27;n_estimators&#x27;: [100, 500, 1000]},\n",
       "             verbose=2)</pre></div></div></div><div class=\"sk-parallel\"><div class=\"sk-parallel-item\"><div class=\"sk-item\"><div class=\"sk-label-container\"><div class=\"sk-label sk-toggleable\"><input class=\"sk-toggleable__control sk-hidden--visually\" id=\"sk-estimator-id-2\" type=\"checkbox\" ><label for=\"sk-estimator-id-2\" class=\"sk-toggleable__label sk-toggleable__label-arrow\">estimator: RandomForestRegressor</label><div class=\"sk-toggleable__content\"><pre>RandomForestRegressor()</pre></div></div></div><div class=\"sk-serial\"><div class=\"sk-item\"><div class=\"sk-estimator sk-toggleable\"><input class=\"sk-toggleable__control sk-hidden--visually\" id=\"sk-estimator-id-3\" type=\"checkbox\" ><label for=\"sk-estimator-id-3\" class=\"sk-toggleable__label sk-toggleable__label-arrow\">RandomForestRegressor</label><div class=\"sk-toggleable__content\"><pre>RandomForestRegressor()</pre></div></div></div></div></div></div></div></div></div></div>"
      ],
      "text/plain": [
       "GridSearchCV(cv=3, estimator=RandomForestRegressor(), n_jobs=-1,\n",
       "             param_grid={'bootstrap': [True], 'max_depth': [90, 100],\n",
       "                         'max_features': [2, 3], 'min_samples_leaf': [3, 4],\n",
       "                         'min_samples_split': [8, 10],\n",
       "                         'n_estimators': [100, 500, 1000]},\n",
       "             verbose=2)"
      ]
     },
     "execution_count": 87,
     "metadata": {},
     "output_type": "execute_result"
    }
   ],
   "source": [
    "from sklearn.model_selection import GridSearchCV\n",
    "# Create the parameter grid based on the results of random search \n",
    "param_grid = {\n",
    "    'bootstrap': [True],\n",
    "    'max_depth': [90, 100],\n",
    "    'max_features': [2, 3],\n",
    "    'min_samples_leaf': [3, 4],\n",
    "    'min_samples_split': [8, 10],\n",
    "    'n_estimators': [100, 500, 1000]\n",
    "}\n",
    "# Create a based model\n",
    "rf = RandomForestRegressor()\n",
    "# Instantiate the grid search model\n",
    "grid_search_rf = GridSearchCV(estimator = rf, param_grid = param_grid, \n",
    "                          cv = 3, n_jobs = -1, verbose = 2)\n",
    "grid_search_rf.fit(X_train, y_train)"
   ]
  },
  {
   "cell_type": "code",
   "execution_count": 88,
   "id": "b0b97f42",
   "metadata": {},
   "outputs": [
    {
     "name": "stdout",
     "output_type": "stream",
     "text": [
      "Fitting 3 folds for each of 48 candidates, totalling 144 fits\n"
     ]
    },
    {
     "data": {
      "text/plain": [
       "{'bootstrap': True,\n",
       " 'max_depth': 100,\n",
       " 'max_features': 3,\n",
       " 'min_samples_leaf': 3,\n",
       " 'min_samples_split': 8,\n",
       " 'n_estimators': 500}"
      ]
     },
     "execution_count": 88,
     "metadata": {},
     "output_type": "execute_result"
    }
   ],
   "source": [
    "grid_search_rf.fit(X_train, y_train)\n",
    "grid_search_rf.best_params_"
   ]
  },
  {
   "cell_type": "code",
   "execution_count": 89,
   "id": "8731a2f6",
   "metadata": {},
   "outputs": [
    {
     "data": {
      "text/plain": [
       "0.6022490801470208"
      ]
     },
     "execution_count": 89,
     "metadata": {},
     "output_type": "execute_result"
    }
   ],
   "source": [
    "y_grid_pred_rf = grid_search_rf.predict(X_test)\n",
    "mean_squared_error(y_grid_pred_rf, y_test.values)"
   ]
  },
  {
   "cell_type": "markdown",
   "id": "57cf734f",
   "metadata": {},
   "source": [
    "# XGBoost with Hyperparameter tuning"
   ]
  },
  {
   "cell_type": "code",
   "execution_count": 90,
   "id": "c51899c7",
   "metadata": {},
   "outputs": [
    {
     "name": "stdout",
     "output_type": "stream",
     "text": [
      "Requirement already satisfied: xgboost in c:\\users\\admin\\anaconda3\\envs\\imdb_score\\lib\\site-packages (1.6.1)\n",
      "Requirement already satisfied: scipy in c:\\users\\admin\\anaconda3\\envs\\imdb_score\\lib\\site-packages (from xgboost) (1.8.1)\n",
      "Requirement already satisfied: numpy in c:\\users\\admin\\anaconda3\\envs\\imdb_score\\lib\\site-packages (from xgboost) (1.23.1)\n"
     ]
    }
   ],
   "source": [
    "!pip3 install xgboost"
   ]
  },
  {
   "cell_type": "code",
   "execution_count": 91,
   "id": "564bc871",
   "metadata": {},
   "outputs": [
    {
     "data": {
      "text/html": [
       "<style>#sk-container-id-2 {color: black;background-color: white;}#sk-container-id-2 pre{padding: 0;}#sk-container-id-2 div.sk-toggleable {background-color: white;}#sk-container-id-2 label.sk-toggleable__label {cursor: pointer;display: block;width: 100%;margin-bottom: 0;padding: 0.3em;box-sizing: border-box;text-align: center;}#sk-container-id-2 label.sk-toggleable__label-arrow:before {content: \"▸\";float: left;margin-right: 0.25em;color: #696969;}#sk-container-id-2 label.sk-toggleable__label-arrow:hover:before {color: black;}#sk-container-id-2 div.sk-estimator:hover label.sk-toggleable__label-arrow:before {color: black;}#sk-container-id-2 div.sk-toggleable__content {max-height: 0;max-width: 0;overflow: hidden;text-align: left;background-color: #f0f8ff;}#sk-container-id-2 div.sk-toggleable__content pre {margin: 0.2em;color: black;border-radius: 0.25em;background-color: #f0f8ff;}#sk-container-id-2 input.sk-toggleable__control:checked~div.sk-toggleable__content {max-height: 200px;max-width: 100%;overflow: auto;}#sk-container-id-2 input.sk-toggleable__control:checked~label.sk-toggleable__label-arrow:before {content: \"▾\";}#sk-container-id-2 div.sk-estimator input.sk-toggleable__control:checked~label.sk-toggleable__label {background-color: #d4ebff;}#sk-container-id-2 div.sk-label input.sk-toggleable__control:checked~label.sk-toggleable__label {background-color: #d4ebff;}#sk-container-id-2 input.sk-hidden--visually {border: 0;clip: rect(1px 1px 1px 1px);clip: rect(1px, 1px, 1px, 1px);height: 1px;margin: -1px;overflow: hidden;padding: 0;position: absolute;width: 1px;}#sk-container-id-2 div.sk-estimator {font-family: monospace;background-color: #f0f8ff;border: 1px dotted black;border-radius: 0.25em;box-sizing: border-box;margin-bottom: 0.5em;}#sk-container-id-2 div.sk-estimator:hover {background-color: #d4ebff;}#sk-container-id-2 div.sk-parallel-item::after {content: \"\";width: 100%;border-bottom: 1px solid gray;flex-grow: 1;}#sk-container-id-2 div.sk-label:hover label.sk-toggleable__label {background-color: #d4ebff;}#sk-container-id-2 div.sk-serial::before {content: \"\";position: absolute;border-left: 1px solid gray;box-sizing: border-box;top: 0;bottom: 0;left: 50%;z-index: 0;}#sk-container-id-2 div.sk-serial {display: flex;flex-direction: column;align-items: center;background-color: white;padding-right: 0.2em;padding-left: 0.2em;position: relative;}#sk-container-id-2 div.sk-item {position: relative;z-index: 1;}#sk-container-id-2 div.sk-parallel {display: flex;align-items: stretch;justify-content: center;background-color: white;position: relative;}#sk-container-id-2 div.sk-item::before, #sk-container-id-2 div.sk-parallel-item::before {content: \"\";position: absolute;border-left: 1px solid gray;box-sizing: border-box;top: 0;bottom: 0;left: 50%;z-index: -1;}#sk-container-id-2 div.sk-parallel-item {display: flex;flex-direction: column;z-index: 1;position: relative;background-color: white;}#sk-container-id-2 div.sk-parallel-item:first-child::after {align-self: flex-end;width: 50%;}#sk-container-id-2 div.sk-parallel-item:last-child::after {align-self: flex-start;width: 50%;}#sk-container-id-2 div.sk-parallel-item:only-child::after {width: 0;}#sk-container-id-2 div.sk-dashed-wrapped {border: 1px dashed gray;margin: 0 0.4em 0.5em 0.4em;box-sizing: border-box;padding-bottom: 0.4em;background-color: white;}#sk-container-id-2 div.sk-label label {font-family: monospace;font-weight: bold;display: inline-block;line-height: 1.2em;}#sk-container-id-2 div.sk-label-container {text-align: center;}#sk-container-id-2 div.sk-container {/* jupyter's `normalize.less` sets `[hidden] { display: none; }` but bootstrap.min.css set `[hidden] { display: none !important; }` so we also need the `!important` here to be able to override the default hidden behavior on the sphinx rendered scikit-learn.org. See: https://github.com/scikit-learn/scikit-learn/issues/21755 */display: inline-block !important;position: relative;}#sk-container-id-2 div.sk-text-repr-fallback {display: none;}</style><div id=\"sk-container-id-2\" class=\"sk-top-container\"><div class=\"sk-text-repr-fallback\"><pre>XGBRegressor(base_score=0.5, booster=&#x27;gbtree&#x27;, callbacks=None,\n",
       "             colsample_bylevel=1, colsample_bynode=1, colsample_bytree=1,\n",
       "             early_stopping_rounds=None, enable_categorical=False,\n",
       "             eval_metric=None, gamma=0, gpu_id=-1, grow_policy=&#x27;depthwise&#x27;,\n",
       "             importance_type=None, interaction_constraints=&#x27;&#x27;,\n",
       "             learning_rate=0.300000012, max_bin=256, max_cat_to_onehot=4,\n",
       "             max_delta_step=0, max_depth=6, max_leaves=0, min_child_weight=1,\n",
       "             missing=nan, monotone_constraints=&#x27;()&#x27;, n_estimators=500, n_jobs=0,\n",
       "             num_parallel_tree=1, predictor=&#x27;auto&#x27;, random_state=0, reg_alpha=0,\n",
       "             reg_lambda=1, ...)</pre><b>In a Jupyter environment, please rerun this cell to show the HTML representation or trust the notebook. <br />On GitHub, the HTML representation is unable to render, please try loading this page with nbviewer.org.</b></div><div class=\"sk-container\" hidden><div class=\"sk-item\"><div class=\"sk-estimator sk-toggleable\"><input class=\"sk-toggleable__control sk-hidden--visually\" id=\"sk-estimator-id-4\" type=\"checkbox\" checked><label for=\"sk-estimator-id-4\" class=\"sk-toggleable__label sk-toggleable__label-arrow\">XGBRegressor</label><div class=\"sk-toggleable__content\"><pre>XGBRegressor(base_score=0.5, booster=&#x27;gbtree&#x27;, callbacks=None,\n",
       "             colsample_bylevel=1, colsample_bynode=1, colsample_bytree=1,\n",
       "             early_stopping_rounds=None, enable_categorical=False,\n",
       "             eval_metric=None, gamma=0, gpu_id=-1, grow_policy=&#x27;depthwise&#x27;,\n",
       "             importance_type=None, interaction_constraints=&#x27;&#x27;,\n",
       "             learning_rate=0.300000012, max_bin=256, max_cat_to_onehot=4,\n",
       "             max_delta_step=0, max_depth=6, max_leaves=0, min_child_weight=1,\n",
       "             missing=nan, monotone_constraints=&#x27;()&#x27;, n_estimators=500, n_jobs=0,\n",
       "             num_parallel_tree=1, predictor=&#x27;auto&#x27;, random_state=0, reg_alpha=0,\n",
       "             reg_lambda=1, ...)</pre></div></div></div></div></div>"
      ],
      "text/plain": [
       "XGBRegressor(base_score=0.5, booster='gbtree', callbacks=None,\n",
       "             colsample_bylevel=1, colsample_bynode=1, colsample_bytree=1,\n",
       "             early_stopping_rounds=None, enable_categorical=False,\n",
       "             eval_metric=None, gamma=0, gpu_id=-1, grow_policy='depthwise',\n",
       "             importance_type=None, interaction_constraints='',\n",
       "             learning_rate=0.300000012, max_bin=256, max_cat_to_onehot=4,\n",
       "             max_delta_step=0, max_depth=6, max_leaves=0, min_child_weight=1,\n",
       "             missing=nan, monotone_constraints='()', n_estimators=500, n_jobs=0,\n",
       "             num_parallel_tree=1, predictor='auto', random_state=0, reg_alpha=0,\n",
       "             reg_lambda=1, ...)"
      ]
     },
     "execution_count": 91,
     "metadata": {},
     "output_type": "execute_result"
    }
   ],
   "source": [
    "import xgboost as xgb\n",
    "xg_model = xgb.XGBRegressor(n_estimators = 500)\n",
    "xg_model.fit(X_train, y_train)"
   ]
  },
  {
   "cell_type": "code",
   "execution_count": 92,
   "id": "132b4f6a",
   "metadata": {},
   "outputs": [],
   "source": [
    "results = xg_model.predict(X_test)"
   ]
  },
  {
   "cell_type": "code",
   "execution_count": 93,
   "id": "3c801438",
   "metadata": {},
   "outputs": [
    {
     "data": {
      "text/plain": [
       "0.9999172719560792"
      ]
     },
     "execution_count": 93,
     "metadata": {},
     "output_type": "execute_result"
    }
   ],
   "source": [
    "xg_model.score(X_train, y_train)"
   ]
  },
  {
   "cell_type": "code",
   "execution_count": 94,
   "id": "6ef8d361",
   "metadata": {},
   "outputs": [
    {
     "data": {
      "text/plain": [
       "0.4862118383915689"
      ]
     },
     "execution_count": 94,
     "metadata": {},
     "output_type": "execute_result"
    }
   ],
   "source": [
    "from sklearn.metrics import r2_score\n",
    "r2_score(y_test, results)"
   ]
  },
  {
   "cell_type": "code",
   "execution_count": 95,
   "id": "ff4b3881",
   "metadata": {},
   "outputs": [
    {
     "name": "stdout",
     "output_type": "stream",
     "text": [
      "MSE is: 0.6532228402660694\n"
     ]
    }
   ],
   "source": [
    "from sklearn.metrics import mean_squared_error\n",
    "print('MSE is:',mean_squared_error(y_test,results))"
   ]
  },
  {
   "cell_type": "code",
   "execution_count": 96,
   "id": "407cde46",
   "metadata": {},
   "outputs": [],
   "source": [
    "from sklearn.model_selection import GridSearchCV\n",
    "# Create the parameter grid based on the results of random search \n",
    "param_grid = {\n",
    "    'max_depth': [3, 4],\n",
    "    'learning_rate' : [0.1, 0.01, 0.05],\n",
    "    'n_estimators' : [100, 500, 1000]\n",
    "}\n",
    "# Create a based model\n",
    "model_xgb= xgb.XGBRegressor()\n",
    "# Instantiate the grid search model\n",
    "grid_search_xgb = GridSearchCV(estimator = model_xgb, param_grid = param_grid, \n",
    "                          cv = 3, n_jobs = -1, verbose = 2)"
   ]
  },
  {
   "cell_type": "code",
   "execution_count": 97,
   "id": "95993230",
   "metadata": {},
   "outputs": [
    {
     "name": "stdout",
     "output_type": "stream",
     "text": [
      "Fitting 3 folds for each of 18 candidates, totalling 54 fits\n"
     ]
    },
    {
     "data": {
      "text/plain": [
       "{'learning_rate': 0.1, 'max_depth': 4, 'n_estimators': 100}"
      ]
     },
     "execution_count": 97,
     "metadata": {},
     "output_type": "execute_result"
    }
   ],
   "source": [
    "grid_search_xgb.fit(X_train, y_train)\n",
    "grid_search_xgb.best_params_"
   ]
  },
  {
   "cell_type": "code",
   "execution_count": 98,
   "id": "470a1d64",
   "metadata": {},
   "outputs": [],
   "source": [
    "y_pred_xgb = grid_search_xgb.predict(X_test)"
   ]
  },
  {
   "cell_type": "code",
   "execution_count": 99,
   "id": "1f510e61",
   "metadata": {},
   "outputs": [
    {
     "data": {
      "text/plain": [
       "0.5796552758198195"
      ]
     },
     "execution_count": 99,
     "metadata": {},
     "output_type": "execute_result"
    }
   ],
   "source": [
    "mean_squared_error(y_test.values, y_pred_xgb)"
   ]
  },
  {
   "cell_type": "code",
   "execution_count": 100,
   "id": "bd833fec",
   "metadata": {},
   "outputs": [
    {
     "data": {
      "text/plain": [
       "0.5440759260518421"
      ]
     },
     "execution_count": 100,
     "metadata": {},
     "output_type": "execute_result"
    }
   ],
   "source": [
    "from sklearn.metrics import r2_score\n",
    "r2_score(y_test, y_pred_xgb)"
   ]
  },
  {
   "cell_type": "code",
   "execution_count": 101,
   "id": "75c57034",
   "metadata": {},
   "outputs": [
    {
     "data": {
      "text/plain": [
       "<matplotlib.collections.PathCollection at 0x1f2d0af2fb0>"
      ]
     },
     "execution_count": 101,
     "metadata": {},
     "output_type": "execute_result"
    },
    {
     "data": {
      "image/png": "[encoded data removed]",
      "text/plain": [
       "<Figure size 360x360 with 1 Axes>"
      ]
     },
     "metadata": {
      "needs_background": "light"
     },
     "output_type": "display_data"
    }
   ],
   "source": [
    "#Visualization of test and prediction data\n",
    "plt.figure(figsize=(5,5))\n",
    "plt.scatter(y_test,y_pred_xgb)"
   ]
  },
  {
   "cell_type": "code",
   "execution_count": null,
   "id": "5ef08974",
   "metadata": {},
   "outputs": [],
   "source": []
  },
  {
   "cell_type": "code",
   "execution_count": null,
   "id": "447cdeda",
   "metadata": {},
   "outputs": [],
   "source": []
  },
  {
   "cell_type": "code",
   "execution_count": null,
   "id": "aa7eaa61",
   "metadata": {},
   "outputs": [],
   "source": []
  },
  {
   "cell_type": "markdown",
   "id": "87295820",
   "metadata": {},
   "source": [
    "# Gradient Boosting Regressor with hyper parameter tuning"
   ]
  },
  {
   "cell_type": "code",
   "execution_count": 102,
   "id": "9601c4b8",
   "metadata": {},
   "outputs": [
    {
     "data": {
      "text/html": [
       "<style>#sk-container-id-3 {color: black;background-color: white;}#sk-container-id-3 pre{padding: 0;}#sk-container-id-3 div.sk-toggleable {background-color: white;}#sk-container-id-3 label.sk-toggleable__label {cursor: pointer;display: block;width: 100%;margin-bottom: 0;padding: 0.3em;box-sizing: border-box;text-align: center;}#sk-container-id-3 label.sk-toggleable__label-arrow:before {content: \"▸\";float: left;margin-right: 0.25em;color: #696969;}#sk-container-id-3 label.sk-toggleable__label-arrow:hover:before {color: black;}#sk-container-id-3 div.sk-estimator:hover label.sk-toggleable__label-arrow:before {color: black;}#sk-container-id-3 div.sk-toggleable__content {max-height: 0;max-width: 0;overflow: hidden;text-align: left;background-color: #f0f8ff;}#sk-container-id-3 div.sk-toggleable__content pre {margin: 0.2em;color: black;border-radius: 0.25em;background-color: #f0f8ff;}#sk-container-id-3 input.sk-toggleable__control:checked~div.sk-toggleable__content {max-height: 200px;max-width: 100%;overflow: auto;}#sk-container-id-3 input.sk-toggleable__control:checked~label.sk-toggleable__label-arrow:before {content: \"▾\";}#sk-container-id-3 div.sk-estimator input.sk-toggleable__control:checked~label.sk-toggleable__label {background-color: #d4ebff;}#sk-container-id-3 div.sk-label input.sk-toggleable__control:checked~label.sk-toggleable__label {background-color: #d4ebff;}#sk-container-id-3 input.sk-hidden--visually {border: 0;clip: rect(1px 1px 1px 1px);clip: rect(1px, 1px, 1px, 1px);height: 1px;margin: -1px;overflow: hidden;padding: 0;position: absolute;width: 1px;}#sk-container-id-3 div.sk-estimator {font-family: monospace;background-color: #f0f8ff;border: 1px dotted black;border-radius: 0.25em;box-sizing: border-box;margin-bottom: 0.5em;}#sk-container-id-3 div.sk-estimator:hover {background-color: #d4ebff;}#sk-container-id-3 div.sk-parallel-item::after {content: \"\";width: 100%;border-bottom: 1px solid gray;flex-grow: 1;}#sk-container-id-3 div.sk-label:hover label.sk-toggleable__label {background-color: #d4ebff;}#sk-container-id-3 div.sk-serial::before {content: \"\";position: absolute;border-left: 1px solid gray;box-sizing: border-box;top: 0;bottom: 0;left: 50%;z-index: 0;}#sk-container-id-3 div.sk-serial {display: flex;flex-direction: column;align-items: center;background-color: white;padding-right: 0.2em;padding-left: 0.2em;position: relative;}#sk-container-id-3 div.sk-item {position: relative;z-index: 1;}#sk-container-id-3 div.sk-parallel {display: flex;align-items: stretch;justify-content: center;background-color: white;position: relative;}#sk-container-id-3 div.sk-item::before, #sk-container-id-3 div.sk-parallel-item::before {content: \"\";position: absolute;border-left: 1px solid gray;box-sizing: border-box;top: 0;bottom: 0;left: 50%;z-index: -1;}#sk-container-id-3 div.sk-parallel-item {display: flex;flex-direction: column;z-index: 1;position: relative;background-color: white;}#sk-container-id-3 div.sk-parallel-item:first-child::after {align-self: flex-end;width: 50%;}#sk-container-id-3 div.sk-parallel-item:last-child::after {align-self: flex-start;width: 50%;}#sk-container-id-3 div.sk-parallel-item:only-child::after {width: 0;}#sk-container-id-3 div.sk-dashed-wrapped {border: 1px dashed gray;margin: 0 0.4em 0.5em 0.4em;box-sizing: border-box;padding-bottom: 0.4em;background-color: white;}#sk-container-id-3 div.sk-label label {font-family: monospace;font-weight: bold;display: inline-block;line-height: 1.2em;}#sk-container-id-3 div.sk-label-container {text-align: center;}#sk-container-id-3 div.sk-container {/* jupyter's `normalize.less` sets `[hidden] { display: none; }` but bootstrap.min.css set `[hidden] { display: none !important; }` so we also need the `!important` here to be able to override the default hidden behavior on the sphinx rendered scikit-learn.org. See: https://github.com/scikit-learn/scikit-learn/issues/21755 */display: inline-block !important;position: relative;}#sk-container-id-3 div.sk-text-repr-fallback {display: none;}</style><div id=\"sk-container-id-3\" class=\"sk-top-container\"><div class=\"sk-text-repr-fallback\"><pre>GradientBoostingRegressor(learning_rate=0.03, loss=&#x27;ls&#x27;, max_depth=4,\n",
       "                          n_estimators=200)</pre><b>In a Jupyter environment, please rerun this cell to show the HTML representation or trust the notebook. <br />On GitHub, the HTML representation is unable to render, please try loading this page with nbviewer.org.</b></div><div class=\"sk-container\" hidden><div class=\"sk-item\"><div class=\"sk-estimator sk-toggleable\"><input class=\"sk-toggleable__control sk-hidden--visually\" id=\"sk-estimator-id-5\" type=\"checkbox\" checked><label for=\"sk-estimator-id-5\" class=\"sk-toggleable__label sk-toggleable__label-arrow\">GradientBoostingRegressor</label><div class=\"sk-toggleable__content\"><pre>GradientBoostingRegressor(learning_rate=0.03, loss=&#x27;ls&#x27;, max_depth=4,\n",
       "                          n_estimators=200)</pre></div></div></div></div></div>"
      ],
      "text/plain": [
       "GradientBoostingRegressor(learning_rate=0.03, loss='ls', max_depth=4,\n",
       "                          n_estimators=200)"
      ]
     },
     "execution_count": 102,
     "metadata": {},
     "output_type": "execute_result"
    }
   ],
   "source": [
    "from sklearn import ensemble\n",
    "n_trees=200\n",
    "gradientboost = ensemble.GradientBoostingRegressor(loss='ls',learning_rate=0.03,n_estimators=n_trees,max_depth=4)\n",
    "gradientboost.fit(X_train,y_train)"
   ]
  },
  {
   "cell_type": "code",
   "execution_count": 103,
   "id": "c7deb9c9",
   "metadata": {},
   "outputs": [
    {
     "name": "stdout",
     "output_type": "stream",
     "text": [
      "MSE:0.602\n"
     ]
    }
   ],
   "source": [
    "y_pred_gb=gradientboost.predict(X_test)\n",
    "error=gradientboost.loss_(y_test,y_pred_gb) ##Loss function== Mean square error\n",
    "print(\"MSE:%.3f\" % error)"
   ]
  },
  {
   "cell_type": "markdown",
   "id": "65905efb",
   "metadata": {},
   "source": [
    "Hyperparameter tuning of gradient boosting regressor"
   ]
  },
  {
   "cell_type": "code",
   "execution_count": 104,
   "id": "7c16a3c2",
   "metadata": {},
   "outputs": [
    {
     "data": {
      "text/plain": [
       "(4.394895571511272, 8.89095680179554)"
      ]
     },
     "execution_count": 104,
     "metadata": {},
     "output_type": "execute_result"
    }
   ],
   "source": [
    "y_pred_gb.min(), y_pred_gb.max()"
   ]
  },
  {
   "cell_type": "code",
   "execution_count": 105,
   "id": "4e9a0647",
   "metadata": {},
   "outputs": [],
   "source": [
    "from sklearn.model_selection import GridSearchCV\n",
    "# Create the parameter grid based on the results of random search \n",
    "param_grid = {\n",
    "    'loss' : ['ls'],\n",
    "    'max_depth' : [3, 4, 5],\n",
    "    'learning_rate' : [0.01, 0.001],\n",
    "    'n_estimators': [100, 200, 500]\n",
    "}\n",
    "# Create a based model\n",
    "gb = ensemble.GradientBoostingRegressor()\n",
    "# Instantiate the grid search model\n",
    "grid_search_gb = GridSearchCV(estimator = gb, param_grid = param_grid, \n",
    "                          cv = 3, n_jobs = -1, verbose = 2)"
   ]
  },
  {
   "cell_type": "code",
   "execution_count": 106,
   "id": "abd52ff7",
   "metadata": {},
   "outputs": [
    {
     "name": "stdout",
     "output_type": "stream",
     "text": [
      "Fitting 3 folds for each of 18 candidates, totalling 54 fits\n"
     ]
    },
    {
     "data": {
      "text/plain": [
       "{'learning_rate': 0.01, 'loss': 'ls', 'max_depth': 5, 'n_estimators': 500}"
      ]
     },
     "execution_count": 106,
     "metadata": {},
     "output_type": "execute_result"
    }
   ],
   "source": [
    "grid_search_gb.fit(X_train, y_train)\n",
    "grid_search_gb.best_params_"
   ]
  },
  {
   "cell_type": "code",
   "execution_count": 107,
   "id": "ae3c894a",
   "metadata": {},
   "outputs": [],
   "source": [
    "grid_search_gb_pred = grid_search_gb.predict(X_test)"
   ]
  },
  {
   "cell_type": "code",
   "execution_count": 108,
   "id": "c46b03e3",
   "metadata": {},
   "outputs": [
    {
     "data": {
      "text/plain": [
       "0.6009352717963518"
      ]
     },
     "execution_count": 108,
     "metadata": {},
     "output_type": "execute_result"
    }
   ],
   "source": [
    "mean_squared_error(y_test.values, grid_search_gb_pred)"
   ]
  },
  {
   "cell_type": "code",
   "execution_count": null,
   "id": "3286f34a",
   "metadata": {},
   "outputs": [],
   "source": []
  },
  {
   "cell_type": "markdown",
   "id": "2672b96d",
   "metadata": {},
   "source": [
    "# Conclusion"
   ]
  },
  {
   "cell_type": "markdown",
   "id": "36c44acd",
   "metadata": {},
   "source": [
    "Linear Regressor:           MSE- 0.79 ,  r2 - 0.37\n",
    "Random Forest Regressor:    MSE- 0.61 ,  r2 -\n",
    "XGBoost Regressor:          MSE- 0.65 ,  r2 -0.48\n",
    "Gradient Boost Regressor:   MSE- 0.60 ,  r2 -"
   ]
  },
  {
   "cell_type": "markdown",
   "id": "27f1c797",
   "metadata": {},
   "source": [
    "After Hyper parameter tuning\n",
    "Random Forest Regressor:    MSE- 0.60 ,  \n",
    "XGBoost Regressor:          MSE- 0.57 ,  r2=.54\n",
    "Gradient Boost Regressor:   MSE- 0.60 ,"
   ]
  },
  {
   "cell_type": "markdown",
   "id": "dad6709f",
   "metadata": {},
   "source": [
    "So after hyper parameter tuning XGBoost regressor shows less error . So we can consider XGBoost as the final model"
   ]
  },
  {
   "cell_type": "code",
   "execution_count": null,
   "id": "b9c8a783",
   "metadata": {},
   "outputs": [],
   "source": []
  },
  {
   "cell_type": "markdown",
   "id": "c4ec41a8",
   "metadata": {},
   "source": [
    "# Interpreting Results of Regression Model\n",
    "Considering XG Boost as a final model with very less error rate."
   ]
  },
  {
   "cell_type": "code",
   "execution_count": 109,
   "id": "84bc6486",
   "metadata": {},
   "outputs": [
    {
     "data": {
      "image/png": "[encoded data removed]",
      "text/plain": [
       "<Figure size 864x360 with 1 Axes>"
      ]
     },
     "metadata": {
      "needs_background": "light"
     },
     "output_type": "display_data"
    }
   ],
   "source": [
    "feature_importance = grid_search_xgb.best_estimator_.feature_importances_\n",
    "sorted_importance = np.argsort(feature_importance)\n",
    "pos = np.arange(len(sorted_importance))\n",
    "plt.figure(figsize=(12,5))\n",
    "plt.barh(pos, feature_importance[sorted_importance],align='center')\n",
    "plt.yticks(pos, X_train.columns[sorted_importance],fontsize=15)\n",
    "plt.title('Feature Importance ',fontsize=18)\n",
    "plt.show()\n"
   ]
  },
  {
   "cell_type": "code",
   "execution_count": null,
   "id": "b7824b8d",
   "metadata": {},
   "outputs": [],
   "source": []
  },
  {
   "cell_type": "code",
   "execution_count": null,
   "id": "56bca6b7",
   "metadata": {},
   "outputs": [],
   "source": []
  },
  {
   "cell_type": "markdown",
   "id": "d31a844c",
   "metadata": {},
   "source": [
    "# Exporting the data"
   ]
  },
  {
   "cell_type": "code",
   "execution_count": null,
   "id": "a81bae9f",
   "metadata": {},
   "outputs": [],
   "source": [
    "model_xgb= xgb.XGBRegressor()\n",
    "model.fit((X_train, y_train))\n",
    "grid_search_xgb = GridSearchCV(estimator = model_xgb, param_grid = param_grid, \n",
    "                          cv = 3, n_jobs = -1, verbose = 2)\n",
    "grid_search_xgb.fit(X_train, y_train)\n",
    "y_pred_xgb = grid_search_xgb.predict(X_test)\n",
    "r2_score(y_test, y_pred_xgb)\n"
   ]
  },
  {
   "cell_type": "code",
   "execution_count": 113,
   "id": "b9105a75",
   "metadata": {},
   "outputs": [
    {
     "name": "stdout",
     "output_type": "stream",
     "text": [
      "MSE is: 0.6532228402660694\n",
      "Score is: 0.4862118383915689\n"
     ]
    }
   ],
   "source": [
    "model= xgb.XGBRegressor(n_estimators = 500)\n",
    "model.fit(X_train, y_train)\n",
    "predictions = model.predict(X_test)\n",
    "r2_score(y_test, predictions)\n",
    "print('MSE is:',mean_squared_error(y_test,predictions))\n",
    "print('Score is:',r2_score(y_test, predictions))"
   ]
  },
  {
   "cell_type": "code",
   "execution_count": 111,
   "id": "89cb33ea",
   "metadata": {},
   "outputs": [],
   "source": [
    "#Exporting\n",
    "import pickle\n",
    "\n",
    "pickle.dump(model,open('model.pkl','wb'))"
   ]
  },
  {
   "cell_type": "code",
   "execution_count": 112,
   "id": "6461787b",
   "metadata": {},
   "outputs": [
    {
     "name": "stdout",
     "output_type": "stream",
     "text": [
      "Score is: 0.4862118383915689\n"
     ]
    }
   ],
   "source": [
    "#Confirming\n",
    "model=pickle.load(open('model.pkl', 'rb'))\n",
    "result_score=r2_score(y_test, results)\n",
    "print ('Score is:',result_score)"
   ]
  },
  {
   "cell_type": "code",
   "execution_count": null,
   "id": "6b95026e",
   "metadata": {},
   "outputs": [],
   "source": []
  },
  {
   "cell_type": "code",
   "execution_count": null,
   "id": "d2354f68",
   "metadata": {},
   "outputs": [],
   "source": []
  },
  {
   "cell_type": "code",
   "execution_count": null,
   "id": "ef0790ea",
   "metadata": {},
   "outputs": [],
   "source": []
  }
 ],
 "metadata": {
  "kernelspec": {
   "display_name": "Python 3 (ipykernel)",
   "language": "python",
   "name": "python3"
  },
  "language_info": {
   "codemirror_mode": {
    "name": "ipython",
    "version": 3
   },
   "file_extension": ".py",
   "mimetype": "text/x-python",
   "name": "python",
   "nbconvert_exporter": "python",
   "pygments_lexer": "ipython3",
   "version": "3.10.4"
  },
  "vscode": {
   "interpreter": {
    "hash": "a42ccb73e7d9bfdf27e036f1d2b8b681e55fc0743cc5586bc2474d4a60f4b886"
   }
  }
 },
 "nbformat": 4,
 "nbformat_minor": 5
}
